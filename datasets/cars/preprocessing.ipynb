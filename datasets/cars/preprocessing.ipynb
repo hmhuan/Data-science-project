{
 "cells": [
  {
   "cell_type": "code",
   "execution_count": 2,
   "metadata": {},
   "outputs": [],
   "source": [
    "%matplotlib inline\n",
    "import matplotlib.pyplot as plt\n",
    "import seaborn as sns # seaborn là thư viện được xây trên matplotlib, giúp việc visualization đỡ khổ hơn\n",
    "import pandas as pd\n",
    "import numpy as np\n",
    "\n",
    "from sklearn.model_selection import train_test_split\n",
    "from sklearn.preprocessing import OneHotEncoder, StandardScaler\n",
    "from sklearn.impute import SimpleImputer\n",
    "from sklearn.base import BaseEstimator, TransformerMixin\n",
    "from sklearn.pipeline import Pipeline, make_pipeline\n",
    "from sklearn.compose import ColumnTransformer, make_column_transformer\n",
    "from sklearn.neural_network import MLPClassifier"
   ]
  },
  {
   "cell_type": "code",
   "execution_count": 119,
   "metadata": {},
   "outputs": [],
   "source": [
    "import re"
   ]
  },
  {
   "cell_type": "code",
   "execution_count": 3,
   "metadata": {},
   "outputs": [],
   "source": [
    "cars_df = pd.read_csv(\"cars_dataset.csv\", sep = \"\\t\", encoding='utf-8')"
   ]
  },
  {
   "cell_type": "code",
   "execution_count": 5,
   "metadata": {},
   "outputs": [
    {
     "name": "stdout",
     "output_type": "stream",
     "text": [
      "<class 'pandas.core.frame.DataFrame'>\n",
      "RangeIndex: 84174 entries, 0 to 84173\n",
      "Data columns (total 34 columns):\n",
      "url                        84174 non-null object\n",
      "name                       84174 non-null object\n",
      "model                      84174 non-null object\n",
      "brand                      84174 non-null object\n",
      "price                      84174 non-null object\n",
      "eLabel                     84174 non-null object\n",
      "bodyType                   83418 non-null object\n",
      "length                     84174 non-null object\n",
      "height                     84107 non-null object\n",
      "width                      84140 non-null object\n",
      "weight                     83899 non-null object\n",
      "weightTotal                83899 non-null object\n",
      "emissionsCO2               70163 non-null object\n",
      "modelDate                  84174 non-null int64\n",
      "fuelType                   83999 non-null object\n",
      "numberOfAxles              84174 non-null int64\n",
      "numberOfDoors              84174 non-null int64\n",
      "numberOfForwardGears       84174 non-null object\n",
      "seatingCapacity            84174 non-null object\n",
      "vehicleTransmission        84174 non-null object\n",
      "cargoVolume                84174 non-null object\n",
      "roofLoad                   72762 non-null object\n",
      "accelerationTime           84050 non-null object\n",
      "driveWheelConfiguration    84174 non-null object\n",
      "fuelCapacity               84106 non-null object\n",
      "fuelConsumption            83149 non-null object\n",
      "speed                      83490 non-null object\n",
      "payload                    83176 non-null object\n",
      "trailerWeight              79782 non-null object\n",
      "vEengineType               84001 non-null object\n",
      "vEfuelType                 83999 non-null object\n",
      "vEengineDisplacement       83950 non-null object\n",
      "vEenginePower              84174 non-null object\n",
      "torque                     83896 non-null object\n",
      "dtypes: int64(3), object(31)\n",
      "memory usage: 21.8+ MB\n"
     ]
    }
   ],
   "source": [
    "cars_df.info()"
   ]
  },
  {
   "cell_type": "code",
   "execution_count": 140,
   "metadata": {},
   "outputs": [
    {
     "data": {
      "text/plain": [
       "url                        http://www.cars-data.com//en/audi-s3-quattro-s...\n",
       "name                                                         Audi S3 quattro\n",
       "model                                                                Audi S3\n",
       "brand                                                                   Audi\n",
       "price                                                                 42.247\n",
       "eLabel                                                                     G\n",
       "bodyType                                                           hatchback\n",
       "length                                                                  4159\n",
       "height                                                               1415 mm\n",
       "width                                                                1763 mm\n",
       "weight                                                               1375 kg\n",
       "weightTotal                                                          1375 kg\n",
       "emissionsCO2                                                        218 g/km\n",
       "modelDate                                                               1999\n",
       "fuelType                                                              petrol\n",
       "numberOfAxles                                                              2\n",
       "numberOfDoors                                                              3\n",
       "numberOfForwardGears                                                       6\n",
       "seatingCapacity                                                            5\n",
       "vehicleTransmission                                                  gearbox\n",
       "cargoVolume                                                       270-1020 l\n",
       "roofLoad                                                               75 kg\n",
       "accelerationTime                                                       6,8 s\n",
       "driveWheelConfiguration                                           front+rear\n",
       "fuelCapacity                                                            55 l\n",
       "fuelConsumption                                                  9,1 l/100km\n",
       "speed                                                               238 km/h\n",
       "payload                                                               560 kg\n",
       "trailerWeight                                                        1600 kg\n",
       "vEengineType                                                            dohc\n",
       "vEfuelType                                                            petrol\n",
       "vEengineDisplacement                                                 1781 cc\n",
       "vEenginePower                                                         154 KW\n",
       "torque                                                                270 Nm\n",
       "Name: 0, dtype: object"
      ]
     },
     "execution_count": 140,
     "metadata": {},
     "output_type": "execute_result"
    }
   ],
   "source": [
    "cars_df.iloc[0]"
   ]
  },
  {
   "cell_type": "code",
   "execution_count": 141,
   "metadata": {},
   "outputs": [],
   "source": [
    "num_cols = ['price', 'length', 'height', 'width', 'weight', 'weightTotal', 'emissionsCO2', 'numberOfAxles',\n",
    "            'numberOfDoors', 'numberOfForwardGears', 'seatingCapacity', 'cargoVolume', 'roofLoad', \n",
    "            'accelerationTime', 'fuelCapacity', 'fuelConsumption', 'speed', 'payload', 'trailerWeight', \n",
    "            'vEengineDisplacement', 'vEenginePower', 'torque']"
   ]
  },
  {
   "cell_type": "code",
   "execution_count": 142,
   "metadata": {},
   "outputs": [],
   "source": [
    "cat_cols = []\n",
    "for col in cars_df.columns:\n",
    "    if not (col in num_cols):\n",
    "        cat_cols.append(col)"
   ]
  },
  {
   "cell_type": "code",
   "execution_count": 143,
   "metadata": {},
   "outputs": [
    {
     "name": "stdout",
     "output_type": "stream",
     "text": [
      "22 12\n",
      "['price', 'length', 'height', 'width', 'weight', 'weightTotal', 'emissionsCO2', 'numberOfAxles', 'numberOfDoors', 'numberOfForwardGears', 'seatingCapacity', 'cargoVolume', 'roofLoad', 'accelerationTime', 'fuelCapacity', 'fuelConsumption', 'speed', 'payload', 'trailerWeight', 'vEengineDisplacement', 'vEenginePower', 'torque'] \n",
      " ['url', 'name', 'model', 'brand', 'eLabel', 'bodyType', 'modelDate', 'fuelType', 'vehicleTransmission', 'driveWheelConfiguration', 'vEengineType', 'vEfuelType']\n"
     ]
    }
   ],
   "source": [
    "print(len(num_cols), len(cat_cols))\n",
    "print(num_cols, '\\n', cat_cols)"
   ]
  },
  {
   "cell_type": "code",
   "execution_count": null,
   "metadata": {},
   "outputs": [],
   "source": []
  },
  {
   "cell_type": "markdown",
   "metadata": {},
   "source": [
    "## Xử lý các cột dữ liệu số"
   ]
  },
  {
   "cell_type": "code",
   "execution_count": 144,
   "metadata": {},
   "outputs": [],
   "source": [
    "# copy ra df để xư lý\n",
    "df = cars_df.copy()"
   ]
  },
  {
   "cell_type": "code",
   "execution_count": 145,
   "metadata": {},
   "outputs": [],
   "source": [
    "# Loại bỏ các cột không liên quan\n",
    "df.drop(['url', 'name', 'model'], axis=1, inplace=True)"
   ]
  },
  {
   "cell_type": "code",
   "execution_count": 146,
   "metadata": {},
   "outputs": [
    {
     "name": "stdout",
     "output_type": "stream",
     "text": [
      "<class 'pandas.core.frame.DataFrame'>\n",
      "RangeIndex: 84174 entries, 0 to 84173\n",
      "Data columns (total 31 columns):\n",
      "brand                      84174 non-null object\n",
      "price                      84174 non-null object\n",
      "eLabel                     84174 non-null object\n",
      "bodyType                   83418 non-null object\n",
      "length                     84174 non-null object\n",
      "height                     84107 non-null object\n",
      "width                      84140 non-null object\n",
      "weight                     83899 non-null object\n",
      "weightTotal                83899 non-null object\n",
      "emissionsCO2               70163 non-null object\n",
      "modelDate                  84174 non-null int64\n",
      "fuelType                   83999 non-null object\n",
      "numberOfAxles              84174 non-null int64\n",
      "numberOfDoors              84174 non-null int64\n",
      "numberOfForwardGears       84174 non-null object\n",
      "seatingCapacity            84174 non-null object\n",
      "vehicleTransmission        84174 non-null object\n",
      "cargoVolume                84174 non-null object\n",
      "roofLoad                   72762 non-null object\n",
      "accelerationTime           84050 non-null object\n",
      "driveWheelConfiguration    84174 non-null object\n",
      "fuelCapacity               84106 non-null object\n",
      "fuelConsumption            83149 non-null object\n",
      "speed                      83490 non-null object\n",
      "payload                    83176 non-null object\n",
      "trailerWeight              79782 non-null object\n",
      "vEengineType               84001 non-null object\n",
      "vEfuelType                 83999 non-null object\n",
      "vEengineDisplacement       83950 non-null object\n",
      "vEenginePower              84174 non-null object\n",
      "torque                     83896 non-null object\n",
      "dtypes: int64(3), object(28)\n",
      "memory usage: 19.9+ MB\n"
     ]
    }
   ],
   "source": [
    "df.info()"
   ]
  },
  {
   "cell_type": "code",
   "execution_count": null,
   "metadata": {},
   "outputs": [],
   "source": []
  },
  {
   "cell_type": "code",
   "execution_count": 155,
   "metadata": {},
   "outputs": [],
   "source": [
    "# fucntion convert cac thuoc tinh khac\n",
    "def cvtFloat(x):\n",
    "    if type(x) == str:\n",
    "        temp = x.replace(',', '.').split()[0]\n",
    "    else:\n",
    "        temp = x\n",
    "    val = None\n",
    "    try:\n",
    "        val = float(temp)\n",
    "    except ValueError:\n",
    "        return val\n",
    "    return val"
   ]
  },
  {
   "cell_type": "code",
   "execution_count": 158,
   "metadata": {},
   "outputs": [
    {
     "name": "stdout",
     "output_type": "stream",
     "text": [
      "price\n",
      "length\n",
      "height\n",
      "width\n",
      "weight\n",
      "weightTotal\n",
      "emissionsCO2\n",
      "numberOfAxles\n",
      "numberOfDoors\n",
      "numberOfForwardGears\n",
      "seatingCapacity\n",
      "roofLoad\n",
      "accelerationTime\n",
      "fuelCapacity\n",
      "fuelConsumption\n",
      "speed\n",
      "payload\n",
      "trailerWeight\n",
      "vEengineDisplacement\n",
      "vEenginePower\n",
      "torque\n"
     ]
    }
   ],
   "source": [
    "for el in num_cols:\n",
    "    if el != 'cargoVolume':\n",
    "        print(el)\n",
    "        df[el] = df[el].apply(cvtFloat)"
   ]
  },
  {
   "cell_type": "code",
   "execution_count": 170,
   "metadata": {},
   "outputs": [],
   "source": [
    "def cvtFloat_cargoVolume(x):\n",
    "    temp = x.split()[0]\n",
    "    temp = temp.replace('-', ' ')\n",
    "    temp = temp.split()\n",
    "    if len(temp) > 0:\n",
    "        temp = temp[-1]\n",
    "    else:\n",
    "        temp = x\n",
    "    val = None\n",
    "    try:\n",
    "        val = float(temp)\n",
    "    except ValueError:\n",
    "        return val\n",
    "    return val"
   ]
  },
  {
   "cell_type": "code",
   "execution_count": 172,
   "metadata": {},
   "outputs": [],
   "source": [
    "df['cargoVolume'] = df['cargoVolume'].apply(cvtFloat_cargoVolume)"
   ]
  },
  {
   "cell_type": "code",
   "execution_count": 175,
   "metadata": {},
   "outputs": [],
   "source": [
    "df.to_csv(\"cars_preprocessed.csv\", sep = \"\\t\", encoding='utf-8')"
   ]
  },
  {
   "cell_type": "code",
   "execution_count": null,
   "metadata": {},
   "outputs": [],
   "source": []
  },
  {
   "cell_type": "code",
   "execution_count": 27,
   "metadata": {},
   "outputs": [
    {
     "name": "stdout",
     "output_type": "stream",
     "text": [
      "brand 89\n",
      "eLabel 9\n",
      "bodyType 11\n",
      "modelDate 52\n",
      "fuelType 11\n",
      "driveWheelConfiguration 6\n",
      "vEengineType 4\n",
      "vEfuelType 11\n"
     ]
    }
   ],
   "source": [
    "for cat in cat_cols[3:]:\n",
    "    print(cat, len(cars_df[cat].unique()))"
   ]
  }
 ],
 "metadata": {
  "kernelspec": {
   "display_name": "Python 3",
   "language": "python",
   "name": "python3"
  },
  "language_info": {
   "codemirror_mode": {
    "name": "ipython",
    "version": 3
   },
   "file_extension": ".py",
   "mimetype": "text/x-python",
   "name": "python",
   "nbconvert_exporter": "python",
   "pygments_lexer": "ipython3",
   "version": "3.7.1"
  }
 },
 "nbformat": 4,
 "nbformat_minor": 4
}
