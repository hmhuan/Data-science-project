{
 "cells": [
  {
   "cell_type": "code",
   "execution_count": 1,
   "metadata": {},
   "outputs": [],
   "source": [
    "import pandas as pd"
   ]
  },
  {
   "cell_type": "code",
   "execution_count": 2,
   "metadata": {},
   "outputs": [],
   "source": [
    "cars_df = pd.read_csv(\"cars_dataset.csv\", sep = \"\\t\", encoding='utf-8')"
   ]
  },
  {
   "cell_type": "code",
   "execution_count": 4,
   "metadata": {},
   "outputs": [
    {
     "data": {
      "text/html": [
       "<div>\n",
       "<style scoped>\n",
       "    .dataframe tbody tr th:only-of-type {\n",
       "        vertical-align: middle;\n",
       "    }\n",
       "\n",
       "    .dataframe tbody tr th {\n",
       "        vertical-align: top;\n",
       "    }\n",
       "\n",
       "    .dataframe thead th {\n",
       "        text-align: right;\n",
       "    }\n",
       "</style>\n",
       "<table border=\"1\" class=\"dataframe\">\n",
       "  <thead>\n",
       "    <tr style=\"text-align: right;\">\n",
       "      <th></th>\n",
       "      <th>url</th>\n",
       "      <th>name</th>\n",
       "      <th>model</th>\n",
       "      <th>brand</th>\n",
       "      <th>price</th>\n",
       "      <th>eLabel</th>\n",
       "      <th>bodyType</th>\n",
       "      <th>length</th>\n",
       "      <th>height</th>\n",
       "      <th>width</th>\n",
       "      <th>...</th>\n",
       "      <th>fuelCapacity</th>\n",
       "      <th>fuelConsumption</th>\n",
       "      <th>speed</th>\n",
       "      <th>payload</th>\n",
       "      <th>trailerWeight</th>\n",
       "      <th>vEengineType</th>\n",
       "      <th>vEfuelType</th>\n",
       "      <th>vEengineDisplacement</th>\n",
       "      <th>vEenginePower</th>\n",
       "      <th>torque</th>\n",
       "    </tr>\n",
       "  </thead>\n",
       "  <tbody>\n",
       "    <tr>\n",
       "      <td>0</td>\n",
       "      <td>http://www.cars-data.com//en/audi-s3-quattro-s...</td>\n",
       "      <td>Audi S3 quattro</td>\n",
       "      <td>Audi S3</td>\n",
       "      <td>Audi</td>\n",
       "      <td>42.247</td>\n",
       "      <td>G</td>\n",
       "      <td>hatchback</td>\n",
       "      <td>4159</td>\n",
       "      <td>1415 mm</td>\n",
       "      <td>1763 mm</td>\n",
       "      <td>...</td>\n",
       "      <td>55 l</td>\n",
       "      <td>9,1 l/100km</td>\n",
       "      <td>238 km/h</td>\n",
       "      <td>560 kg</td>\n",
       "      <td>1600 kg</td>\n",
       "      <td>dohc</td>\n",
       "      <td>petrol</td>\n",
       "      <td>1781 cc</td>\n",
       "      <td>154 KW</td>\n",
       "      <td>270 Nm</td>\n",
       "    </tr>\n",
       "  </tbody>\n",
       "</table>\n",
       "<p>1 rows × 34 columns</p>\n",
       "</div>"
      ],
      "text/plain": [
       "                                                 url             name  \\\n",
       "0  http://www.cars-data.com//en/audi-s3-quattro-s...  Audi S3 quattro   \n",
       "\n",
       "     model brand   price eLabel   bodyType length   height    width  ...  \\\n",
       "0  Audi S3  Audi  42.247      G  hatchback   4159  1415 mm  1763 mm  ...   \n",
       "\n",
       "  fuelCapacity fuelConsumption     speed  payload trailerWeight  vEengineType  \\\n",
       "0         55 l     9,1 l/100km  238 km/h   560 kg       1600 kg          dohc   \n",
       "\n",
       "   vEfuelType vEengineDisplacement vEenginePower  torque  \n",
       "0      petrol              1781 cc        154 KW  270 Nm  \n",
       "\n",
       "[1 rows x 34 columns]"
      ]
     },
     "execution_count": 4,
     "metadata": {},
     "output_type": "execute_result"
    }
   ],
   "source": [
    "cars_df.iloc[0:1, :]"
   ]
  },
  {
   "cell_type": "code",
   "execution_count": null,
   "metadata": {},
   "outputs": [],
   "source": [
    "from sklearn.preprocessing"
   ]
  },
  {
   "cell_type": "code",
   "execution_count": 3,
   "metadata": {},
   "outputs": [],
   "source": [
    "def cvtFloat_price(x):\n",
    "    if (x != 'N.A.'):\n",
    "        return float(x) * 1000\n",
    "    else:\n",
    "        return None\n",
    "cars_df['price'] = cars_df['price'].apply(cvtFloat_price)"
   ]
  },
  {
   "cell_type": "code",
   "execution_count": 4,
   "metadata": {},
   "outputs": [
    {
     "data": {
      "text/plain": [
       "dtype('float64')"
      ]
     },
     "execution_count": 4,
     "metadata": {},
     "output_type": "execute_result"
    }
   ],
   "source": [
    "cars_df['price'].dtype"
   ]
  },
  {
   "cell_type": "code",
   "execution_count": 5,
   "metadata": {},
   "outputs": [
    {
     "name": "stdout",
     "output_type": "stream",
     "text": [
      "<class 'pandas.core.frame.DataFrame'>\n",
      "RangeIndex: 84174 entries, 0 to 84173\n",
      "Data columns (total 34 columns):\n",
      "url                        84174 non-null object\n",
      "name                       84174 non-null object\n",
      "model                      84174 non-null object\n",
      "brand                      84174 non-null object\n",
      "price                      83989 non-null float64\n",
      "eLabel                     84174 non-null object\n",
      "bodyType                   83418 non-null object\n",
      "length                     84174 non-null object\n",
      "height                     84107 non-null object\n",
      "width                      84140 non-null object\n",
      "weight                     83899 non-null object\n",
      "weightTotal                83899 non-null object\n",
      "emissionsCO2               70163 non-null object\n",
      "modelDate                  84174 non-null int64\n",
      "fuelType                   83999 non-null object\n",
      "numberOfAxles              84174 non-null int64\n",
      "numberOfDoors              84174 non-null int64\n",
      "numberOfForwardGears       84174 non-null object\n",
      "seatingCapacity            84174 non-null object\n",
      "vehicleTransmission        84174 non-null object\n",
      "cargoVolume                84174 non-null object\n",
      "roofLoad                   72762 non-null object\n",
      "accelerationTime           84050 non-null object\n",
      "driveWheelConfiguration    84174 non-null object\n",
      "fuelCapacity               84106 non-null object\n",
      "fuelConsumption            83149 non-null object\n",
      "speed                      83490 non-null object\n",
      "payload                    83176 non-null object\n",
      "trailerWeight              79782 non-null object\n",
      "vEengineType               84001 non-null object\n",
      "vEfuelType                 83999 non-null object\n",
      "vEengineDisplacement       83950 non-null object\n",
      "vEenginePower              84174 non-null object\n",
      "torque                     83896 non-null object\n",
      "dtypes: float64(1), int64(3), object(30)\n",
      "memory usage: 21.8+ MB\n"
     ]
    }
   ],
   "source": [
    "cars_df.info()"
   ]
  },
  {
   "cell_type": "code",
   "execution_count": 6,
   "metadata": {},
   "outputs": [
    {
     "data": {
      "text/plain": [
       "array(['Audi', 'Honda', 'Renault', 'Buick', 'Opel', 'BMW', 'Peugeot',\n",
       "       'Citroen', 'Toyota', 'Porsche', 'Austin', 'Maybach',\n",
       "       'Aston Martin', 'Alfa Romeo', 'Mazda', 'Fiat', 'Mini', 'Ford',\n",
       "       'Mercedes', 'Kia', 'Ferrari', 'Volkswagen', 'Jaguar', 'Nissan',\n",
       "       'Bentley', 'Suzuki', 'Talbot', 'Volvo', 'Daihatsu', 'Chevrolet',\n",
       "       'Lexus', 'Cadillac', 'Lotus', 'Josse', 'Hyundai', 'Skoda',\n",
       "       'McLaren', 'Saab', 'Mitsubishi', 'Seat', 'Jeep', 'Lada', 'Lancia',\n",
       "       'Dodge', 'Datsun', 'Lamborghini', 'Infiniti', 'Daimler', 'DS',\n",
       "       'SsangYong', 'Rover', 'MG', 'TVR', 'Maserati', 'Tesla', 'Morgan',\n",
       "       'Pontiac', 'Subaru', 'Land Rover', 'Daewoo', 'Galloper', 'FSO',\n",
       "       'Triumph', 'Carver', 'Dacia', 'Noble', 'Chrysler', 'Smart',\n",
       "       'Donkervoort', 'Landwind', 'Innocenti', 'Hummer', 'Lincoln',\n",
       "       'Mercury', 'Rolls-Royce', 'Yugo', 'Abarth', 'Marcos', 'Fisker',\n",
       "       'Autobianchi', 'PGO', 'Think', 'Asia Motors', 'Corvette', 'Mega',\n",
       "       'Princess', 'Spectre', 'Morris', 'Bugatti'], dtype=object)"
      ]
     },
     "execution_count": 6,
     "metadata": {},
     "output_type": "execute_result"
    }
   ],
   "source": [
    "cars_df['brand'].unique()"
   ]
  },
  {
   "cell_type": "code",
   "execution_count": 7,
   "metadata": {},
   "outputs": [
    {
     "data": {
      "text/plain": [
       "array(['G', 'C', 'E', 'D', 'B', 'F', 'N.A.', '-', 'A'], dtype=object)"
      ]
     },
     "execution_count": 7,
     "metadata": {},
     "output_type": "execute_result"
    }
   ],
   "source": [
    "cars_df['eLabel'].unique()"
   ]
  },
  {
   "cell_type": "code",
   "execution_count": 9,
   "metadata": {},
   "outputs": [
    {
     "name": "stdout",
     "output_type": "stream",
     "text": [
      "brand 89\n",
      "eLabel 9\n",
      "bodyType 11\n",
      "modelDate 52\n",
      "fuelType 11\n",
      "numberOfAxles 1\n",
      "numberOfDoors 5\n",
      "numberOfForwardGears 10\n",
      "seatingCapacity 22\n",
      "vehicleTransmission 1\n",
      "roofLoad 78\n",
      "driveWheelConfiguration 6\n",
      "vEengineType 4\n",
      "vEfuelType 11\n"
     ]
    }
   ],
   "source": [
    "for i in range(34):\n",
    "    temp = cars_df.iloc[:,i]\n",
    "    if (len(temp.unique()) < 100):\n",
    "        print(temp.name, len(temp.unique()))"
   ]
  },
  {
   "cell_type": "code",
   "execution_count": 11,
   "metadata": {},
   "outputs": [
    {
     "data": {
      "text/html": [
       "<div>\n",
       "<style scoped>\n",
       "    .dataframe tbody tr th:only-of-type {\n",
       "        vertical-align: middle;\n",
       "    }\n",
       "\n",
       "    .dataframe tbody tr th {\n",
       "        vertical-align: top;\n",
       "    }\n",
       "\n",
       "    .dataframe thead th {\n",
       "        text-align: right;\n",
       "    }\n",
       "</style>\n",
       "<table border=\"1\" class=\"dataframe\">\n",
       "  <thead>\n",
       "    <tr style=\"text-align: right;\">\n",
       "      <th></th>\n",
       "      <th>url</th>\n",
       "      <th>name</th>\n",
       "      <th>model</th>\n",
       "      <th>brand</th>\n",
       "      <th>price</th>\n",
       "      <th>eLabel</th>\n",
       "      <th>bodyType</th>\n",
       "      <th>length</th>\n",
       "      <th>height</th>\n",
       "      <th>width</th>\n",
       "      <th>...</th>\n",
       "      <th>fuelCapacity</th>\n",
       "      <th>fuelConsumption</th>\n",
       "      <th>speed</th>\n",
       "      <th>payload</th>\n",
       "      <th>trailerWeight</th>\n",
       "      <th>vEengineType</th>\n",
       "      <th>vEfuelType</th>\n",
       "      <th>vEengineDisplacement</th>\n",
       "      <th>vEenginePower</th>\n",
       "      <th>torque</th>\n",
       "    </tr>\n",
       "  </thead>\n",
       "  <tbody>\n",
       "    <tr>\n",
       "      <td>0</td>\n",
       "      <td>http://www.cars-data.com//en/audi-s3-quattro-s...</td>\n",
       "      <td>Audi S3 quattro</td>\n",
       "      <td>Audi S3</td>\n",
       "      <td>Audi</td>\n",
       "      <td>42247.0</td>\n",
       "      <td>G</td>\n",
       "      <td>hatchback</td>\n",
       "      <td>4159</td>\n",
       "      <td>1415 mm</td>\n",
       "      <td>1763 mm</td>\n",
       "      <td>...</td>\n",
       "      <td>55 l</td>\n",
       "      <td>9,1 l/100km</td>\n",
       "      <td>238 km/h</td>\n",
       "      <td>560 kg</td>\n",
       "      <td>1600 kg</td>\n",
       "      <td>dohc</td>\n",
       "      <td>petrol</td>\n",
       "      <td>1781 cc</td>\n",
       "      <td>154 KW</td>\n",
       "      <td>270 Nm</td>\n",
       "    </tr>\n",
       "    <tr>\n",
       "      <td>1</td>\n",
       "      <td>http://www.cars-data.com//en/audi-a6-avant-40-...</td>\n",
       "      <td>Audi A6 Avant 40 TDI</td>\n",
       "      <td>Audi A6 Avant</td>\n",
       "      <td>Audi</td>\n",
       "      <td>64450.0</td>\n",
       "      <td>C</td>\n",
       "      <td>stationwagon</td>\n",
       "      <td>4939</td>\n",
       "      <td>1494 mm</td>\n",
       "      <td>1886 mm</td>\n",
       "      <td>...</td>\n",
       "      <td>73 l</td>\n",
       "      <td>4,5 l/100km</td>\n",
       "      <td>241 km/h</td>\n",
       "      <td>645 kg</td>\n",
       "      <td>2000 kg</td>\n",
       "      <td>dohc</td>\n",
       "      <td>diesel</td>\n",
       "      <td>1968 cc</td>\n",
       "      <td>0 KW</td>\n",
       "      <td>400 Nm</td>\n",
       "    </tr>\n",
       "    <tr>\n",
       "      <td>2</td>\n",
       "      <td>http://www.cars-data.com//en/audi-a6-avant-45-...</td>\n",
       "      <td>Audi A6 Avant 45 TDI quattro</td>\n",
       "      <td>Audi A6 Avant</td>\n",
       "      <td>Audi</td>\n",
       "      <td>77130.0</td>\n",
       "      <td>E</td>\n",
       "      <td>stationwagon</td>\n",
       "      <td>4939</td>\n",
       "      <td>1494 mm</td>\n",
       "      <td>1886 mm</td>\n",
       "      <td>...</td>\n",
       "      <td>73 l</td>\n",
       "      <td>5,7 l/100km</td>\n",
       "      <td>250 km/h</td>\n",
       "      <td>695 kg</td>\n",
       "      <td>2000 kg</td>\n",
       "      <td>dohc</td>\n",
       "      <td>diesel</td>\n",
       "      <td>2967 cc</td>\n",
       "      <td>0 KW</td>\n",
       "      <td>500 Nm</td>\n",
       "    </tr>\n",
       "    <tr>\n",
       "      <td>3</td>\n",
       "      <td>http://www.cars-data.com//en/audi-a6-avant-50-...</td>\n",
       "      <td>Audi A6 Avant 50 TDI quattro</td>\n",
       "      <td>Audi A6 Avant</td>\n",
       "      <td>Audi</td>\n",
       "      <td>83000.0</td>\n",
       "      <td>E</td>\n",
       "      <td>stationwagon</td>\n",
       "      <td>4939</td>\n",
       "      <td>1494 mm</td>\n",
       "      <td>1886 mm</td>\n",
       "      <td>...</td>\n",
       "      <td>73 l</td>\n",
       "      <td>5,7 l/100km</td>\n",
       "      <td>250 km/h</td>\n",
       "      <td>695 kg</td>\n",
       "      <td>2000 kg</td>\n",
       "      <td>dohc</td>\n",
       "      <td>diesel</td>\n",
       "      <td>2967 cc</td>\n",
       "      <td>0 KW</td>\n",
       "      <td>620 Nm</td>\n",
       "    </tr>\n",
       "    <tr>\n",
       "      <td>4</td>\n",
       "      <td>http://www.cars-data.com//en/audi-a6-avant-45-...</td>\n",
       "      <td>Audi A6 Avant 45 TFSI</td>\n",
       "      <td>Audi A6 Avant</td>\n",
       "      <td>Audi</td>\n",
       "      <td>67960.0</td>\n",
       "      <td>C</td>\n",
       "      <td>stationwagon</td>\n",
       "      <td>4939</td>\n",
       "      <td>1494 mm</td>\n",
       "      <td>1886 mm</td>\n",
       "      <td>...</td>\n",
       "      <td>73 l</td>\n",
       "      <td>6,3 l/100km</td>\n",
       "      <td>250 km/h</td>\n",
       "      <td>630 kg</td>\n",
       "      <td>2000 kg</td>\n",
       "      <td>dohc</td>\n",
       "      <td>petrol</td>\n",
       "      <td>1984 cc</td>\n",
       "      <td>0 KW</td>\n",
       "      <td>370 Nm</td>\n",
       "    </tr>\n",
       "  </tbody>\n",
       "</table>\n",
       "<p>5 rows × 34 columns</p>\n",
       "</div>"
      ],
      "text/plain": [
       "                                                 url  \\\n",
       "0  http://www.cars-data.com//en/audi-s3-quattro-s...   \n",
       "1  http://www.cars-data.com//en/audi-a6-avant-40-...   \n",
       "2  http://www.cars-data.com//en/audi-a6-avant-45-...   \n",
       "3  http://www.cars-data.com//en/audi-a6-avant-50-...   \n",
       "4  http://www.cars-data.com//en/audi-a6-avant-45-...   \n",
       "\n",
       "                           name          model brand    price eLabel  \\\n",
       "0               Audi S3 quattro        Audi S3  Audi  42247.0      G   \n",
       "1          Audi A6 Avant 40 TDI  Audi A6 Avant  Audi  64450.0      C   \n",
       "2  Audi A6 Avant 45 TDI quattro  Audi A6 Avant  Audi  77130.0      E   \n",
       "3  Audi A6 Avant 50 TDI quattro  Audi A6 Avant  Audi  83000.0      E   \n",
       "4         Audi A6 Avant 45 TFSI  Audi A6 Avant  Audi  67960.0      C   \n",
       "\n",
       "       bodyType length   height    width  ... fuelCapacity fuelConsumption  \\\n",
       "0     hatchback   4159  1415 mm  1763 mm  ...         55 l     9,1 l/100km   \n",
       "1  stationwagon   4939  1494 mm  1886 mm  ...         73 l     4,5 l/100km   \n",
       "2  stationwagon   4939  1494 mm  1886 mm  ...         73 l     5,7 l/100km   \n",
       "3  stationwagon   4939  1494 mm  1886 mm  ...         73 l     5,7 l/100km   \n",
       "4  stationwagon   4939  1494 mm  1886 mm  ...         73 l     6,3 l/100km   \n",
       "\n",
       "      speed  payload trailerWeight  vEengineType  vEfuelType  \\\n",
       "0  238 km/h   560 kg       1600 kg          dohc      petrol   \n",
       "1  241 km/h   645 kg       2000 kg          dohc      diesel   \n",
       "2  250 km/h   695 kg       2000 kg          dohc      diesel   \n",
       "3  250 km/h   695 kg       2000 kg          dohc      diesel   \n",
       "4  250 km/h   630 kg       2000 kg          dohc      petrol   \n",
       "\n",
       "  vEengineDisplacement vEenginePower  torque  \n",
       "0              1781 cc        154 KW  270 Nm  \n",
       "1              1968 cc          0 KW  400 Nm  \n",
       "2              2967 cc          0 KW  500 Nm  \n",
       "3              2967 cc          0 KW  620 Nm  \n",
       "4              1984 cc          0 KW  370 Nm  \n",
       "\n",
       "[5 rows x 34 columns]"
      ]
     },
     "execution_count": 11,
     "metadata": {},
     "output_type": "execute_result"
    }
   ],
   "source": [
    "cars_df.head()"
   ]
  }
 ],
 "metadata": {
  "kernelspec": {
   "display_name": "Python 3",
   "language": "python",
   "name": "python3"
  },
  "language_info": {
   "codemirror_mode": {
    "name": "ipython",
    "version": 3
   },
   "file_extension": ".py",
   "mimetype": "text/x-python",
   "name": "python",
   "nbconvert_exporter": "python",
   "pygments_lexer": "ipython3",
   "version": "3.7.1"
  }
 },
 "nbformat": 4,
 "nbformat_minor": 4
}
