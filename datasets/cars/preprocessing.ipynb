{
 "cells": [
  {
   "cell_type": "code",
   "execution_count": 1,
   "metadata": {},
   "outputs": [],
   "source": [
    "import pandas as pd"
   ]
  },
  {
   "cell_type": "code",
   "execution_count": 2,
   "metadata": {},
   "outputs": [],
   "source": [
    "cars_df = pd.read_csv(\"cars_dataset.csv\", sep = \"\\t\", encoding='utf-8')"
   ]
  },
  {
   "cell_type": "code",
   "execution_count": 28,
   "metadata": {},
   "outputs": [],
   "source": [
    "def cvtFloat_price(x):\n",
    "    if (x != 'N.A.'):\n",
    "        return float(x) * 1000\n",
    "    else:\n",
    "        return None\n",
    "cars_df['price'] = cars_df['price'].apply(cvtFloat_price)"
   ]
  },
  {
   "cell_type": "code",
   "execution_count": 30,
   "metadata": {},
   "outputs": [
    {
     "data": {
      "text/plain": [
       "dtype('float64')"
      ]
     },
     "execution_count": 30,
     "metadata": {},
     "output_type": "execute_result"
    }
   ],
   "source": [
    "cars_df['price'].dtype"
   ]
  },
  {
   "cell_type": "code",
   "execution_count": 31,
   "metadata": {},
   "outputs": [
    {
     "name": "stdout",
     "output_type": "stream",
     "text": [
      "<class 'pandas.core.frame.DataFrame'>\n",
      "RangeIndex: 84174 entries, 0 to 84173\n",
      "Data columns (total 34 columns):\n",
      "url                        84174 non-null object\n",
      "name                       84174 non-null object\n",
      "model                      84174 non-null object\n",
      "brand                      84174 non-null object\n",
      "price                      83989 non-null float64\n",
      "eLabel                     84174 non-null object\n",
      "bodyType                   83418 non-null object\n",
      "length                     84174 non-null object\n",
      "height                     84107 non-null object\n",
      "width                      84140 non-null object\n",
      "weight                     83899 non-null object\n",
      "weightTotal                83899 non-null object\n",
      "emissionsCO2               70163 non-null object\n",
      "modelDate                  84174 non-null int64\n",
      "fuelType                   83999 non-null object\n",
      "numberOfAxles              84174 non-null int64\n",
      "numberOfDoors              84174 non-null int64\n",
      "numberOfForwardGears       84174 non-null object\n",
      "seatingCapacity            84174 non-null object\n",
      "vehicleTransmission        84174 non-null object\n",
      "cargoVolume                84174 non-null object\n",
      "roofLoad                   72762 non-null object\n",
      "accelerationTime           84050 non-null object\n",
      "driveWheelConfiguration    84174 non-null object\n",
      "fuelCapacity               84106 non-null object\n",
      "fuelConsumption            83149 non-null object\n",
      "speed                      83490 non-null object\n",
      "payload                    83176 non-null object\n",
      "trailerWeight              79782 non-null object\n",
      "vEengineType               84001 non-null object\n",
      "vEfuelType                 83999 non-null object\n",
      "vEengineDisplacement       83950 non-null object\n",
      "vEenginePower              84174 non-null object\n",
      "torque                     83896 non-null object\n",
      "dtypes: float64(1), int64(3), object(30)\n",
      "memory usage: 21.8+ MB\n"
     ]
    }
   ],
   "source": [
    "cars_df.info()"
   ]
  },
  {
   "cell_type": "code",
   "execution_count": 35,
   "metadata": {},
   "outputs": [
    {
     "data": {
      "text/plain": [
       "array(['Audi', 'Honda', 'Renault', 'Buick', 'Opel', 'BMW', 'Peugeot',\n",
       "       'Citroen', 'Toyota', 'Porsche', 'Austin', 'Maybach',\n",
       "       'Aston Martin', 'Alfa Romeo', 'Mazda', 'Fiat', 'Mini', 'Ford',\n",
       "       'Mercedes', 'Kia', 'Ferrari', 'Volkswagen', 'Jaguar', 'Nissan',\n",
       "       'Bentley', 'Suzuki', 'Talbot', 'Volvo', 'Daihatsu', 'Chevrolet',\n",
       "       'Lexus', 'Cadillac', 'Lotus', 'Josse', 'Hyundai', 'Skoda',\n",
       "       'McLaren', 'Saab', 'Mitsubishi', 'Seat', 'Jeep', 'Lada', 'Lancia',\n",
       "       'Dodge', 'Datsun', 'Lamborghini', 'Infiniti', 'Daimler', 'DS',\n",
       "       'SsangYong', 'Rover', 'MG', 'TVR', 'Maserati', 'Tesla', 'Morgan',\n",
       "       'Pontiac', 'Subaru', 'Land Rover', 'Daewoo', 'Galloper', 'FSO',\n",
       "       'Triumph', 'Carver', 'Dacia', 'Noble', 'Chrysler', 'Smart',\n",
       "       'Donkervoort', 'Landwind', 'Innocenti', 'Hummer', 'Lincoln',\n",
       "       'Mercury', 'Rolls-Royce', 'Yugo', 'Abarth', 'Marcos', 'Fisker',\n",
       "       'Autobianchi', 'PGO', 'Think', 'Asia Motors', 'Corvette', 'Mega',\n",
       "       'Princess', 'Spectre', 'Morris', 'Bugatti'], dtype=object)"
      ]
     },
     "execution_count": 35,
     "metadata": {},
     "output_type": "execute_result"
    }
   ],
   "source": [
    "cars_df['brand'].unique()"
   ]
  },
  {
   "cell_type": "code",
   "execution_count": 36,
   "metadata": {},
   "outputs": [
    {
     "data": {
      "text/plain": [
       "array(['G', 'C', 'E', 'D', 'B', 'F', 'N.A.', '-', 'A'], dtype=object)"
      ]
     },
     "execution_count": 36,
     "metadata": {},
     "output_type": "execute_result"
    }
   ],
   "source": [
    "cars_df['eLabel'].unique()"
   ]
  },
  {
   "cell_type": "code",
   "execution_count": 43,
   "metadata": {},
   "outputs": [
    {
     "name": "stdout",
     "output_type": "stream",
     "text": [
      "url 84173\n",
      "name 44332\n",
      "model 1678\n",
      "brand 89\n",
      "price 27147\n",
      "eLabel 9\n",
      "bodyType 11\n",
      "length 1292\n",
      "height 689\n",
      "width 453\n",
      "weight 1646\n",
      "weightTotal 1646\n",
      "emissionsCO2 392\n",
      "modelDate 52\n",
      "fuelType 11\n",
      "numberOfAxles 1\n",
      "numberOfDoors 5\n",
      "numberOfForwardGears 10\n",
      "seatingCapacity 22\n",
      "vehicleTransmission 1\n",
      "cargoVolume 1934\n",
      "roofLoad 78\n",
      "accelerationTime 231\n",
      "driveWheelConfiguration 6\n",
      "fuelCapacity 101\n",
      "fuelConsumption 199\n",
      "speed 229\n",
      "payload 879\n",
      "trailerWeight 282\n",
      "vEengineType 4\n",
      "vEfuelType 11\n",
      "vEengineDisplacement 777\n",
      "vEenginePower 360\n",
      "torque 475\n"
     ]
    }
   ],
   "source": [
    "for i in range(34):\n",
    "    temp = cars_df.iloc[:,i] \n",
    "    print(temp.name, len(temp.unique()))"
   ]
  }
 ],
 "metadata": {
  "kernelspec": {
   "display_name": "Python 3",
   "language": "python",
   "name": "python3"
  },
  "language_info": {
   "codemirror_mode": {
    "name": "ipython",
    "version": 3
   },
   "file_extension": ".py",
   "mimetype": "text/x-python",
   "name": "python",
   "nbconvert_exporter": "python",
   "pygments_lexer": "ipython3",
   "version": "3.7.1"
  }
 },
 "nbformat": 4,
 "nbformat_minor": 4
}
