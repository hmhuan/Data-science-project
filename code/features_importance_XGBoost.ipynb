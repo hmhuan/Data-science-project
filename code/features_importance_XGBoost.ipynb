{
 "cells": [
  {
   "cell_type": "code",
   "execution_count": 2,
   "metadata": {},
   "outputs": [],
   "source": [
    "from xgboost import XGBClassifier\n",
    "from matplotlib import pyplot\n",
    "import pandas as pd\n",
    "import numpy as np\n",
    "\n",
    "from collections import Counter\n",
    "\n",
    "from sklearn.model_selection import train_test_split\n",
    "from sklearn.preprocessing import OneHotEncoder, StandardScaler\n",
    "from sklearn.impute import SimpleImputer\n",
    "from sklearn.base import BaseEstimator, TransformerMixin\n",
    "from sklearn.pipeline import Pipeline, make_pipeline\n",
    "from sklearn.compose import ColumnTransformer, make_column_transformer"
   ]
  },
  {
   "cell_type": "code",
   "execution_count": 67,
   "metadata": {},
   "outputs": [
    {
     "data": {
      "text/html": [
       "<div>\n",
       "<style scoped>\n",
       "    .dataframe tbody tr th:only-of-type {\n",
       "        vertical-align: middle;\n",
       "    }\n",
       "\n",
       "    .dataframe tbody tr th {\n",
       "        vertical-align: top;\n",
       "    }\n",
       "\n",
       "    .dataframe thead th {\n",
       "        text-align: right;\n",
       "    }\n",
       "</style>\n",
       "<table border=\"1\" class=\"dataframe\">\n",
       "  <thead>\n",
       "    <tr style=\"text-align: right;\">\n",
       "      <th></th>\n",
       "      <th>url</th>\n",
       "      <th>name</th>\n",
       "      <th>model</th>\n",
       "      <th>brand</th>\n",
       "      <th>price</th>\n",
       "      <th>eLabel</th>\n",
       "      <th>bodyType</th>\n",
       "      <th>length</th>\n",
       "      <th>height</th>\n",
       "      <th>width</th>\n",
       "      <th>...</th>\n",
       "      <th>fuelCapacity</th>\n",
       "      <th>fuelConsumption</th>\n",
       "      <th>speed</th>\n",
       "      <th>payload</th>\n",
       "      <th>trailerWeight</th>\n",
       "      <th>vEengineType</th>\n",
       "      <th>vEfuelType</th>\n",
       "      <th>vEengineDisplacement</th>\n",
       "      <th>vEenginePower</th>\n",
       "      <th>torque</th>\n",
       "    </tr>\n",
       "  </thead>\n",
       "  <tbody>\n",
       "    <tr>\n",
       "      <td>0</td>\n",
       "      <td>http://www.cars-data.com//en/audi-s3-quattro-s...</td>\n",
       "      <td>Audi S3 quattro</td>\n",
       "      <td>Audi S3</td>\n",
       "      <td>Audi</td>\n",
       "      <td>42.247</td>\n",
       "      <td>G</td>\n",
       "      <td>hatchback</td>\n",
       "      <td>4159.0</td>\n",
       "      <td>1415.0</td>\n",
       "      <td>1763.0</td>\n",
       "      <td>...</td>\n",
       "      <td>55.0</td>\n",
       "      <td>9.1</td>\n",
       "      <td>238.0</td>\n",
       "      <td>560.0</td>\n",
       "      <td>1600.0</td>\n",
       "      <td>dohc</td>\n",
       "      <td>petrol</td>\n",
       "      <td>1781.0</td>\n",
       "      <td>154.0</td>\n",
       "      <td>270.0</td>\n",
       "    </tr>\n",
       "    <tr>\n",
       "      <td>1</td>\n",
       "      <td>http://www.cars-data.com//en/audi-a6-avant-40-...</td>\n",
       "      <td>Audi A6 Avant 40 TDI</td>\n",
       "      <td>Audi A6 Avant</td>\n",
       "      <td>Audi</td>\n",
       "      <td>64.450</td>\n",
       "      <td>C</td>\n",
       "      <td>stationwagon</td>\n",
       "      <td>4939.0</td>\n",
       "      <td>1494.0</td>\n",
       "      <td>1886.0</td>\n",
       "      <td>...</td>\n",
       "      <td>73.0</td>\n",
       "      <td>4.5</td>\n",
       "      <td>241.0</td>\n",
       "      <td>645.0</td>\n",
       "      <td>2000.0</td>\n",
       "      <td>dohc</td>\n",
       "      <td>diesel</td>\n",
       "      <td>1968.0</td>\n",
       "      <td>0.0</td>\n",
       "      <td>400.0</td>\n",
       "    </tr>\n",
       "    <tr>\n",
       "      <td>2</td>\n",
       "      <td>http://www.cars-data.com//en/audi-a6-avant-45-...</td>\n",
       "      <td>Audi A6 Avant 45 TDI quattro</td>\n",
       "      <td>Audi A6 Avant</td>\n",
       "      <td>Audi</td>\n",
       "      <td>77.130</td>\n",
       "      <td>E</td>\n",
       "      <td>stationwagon</td>\n",
       "      <td>4939.0</td>\n",
       "      <td>1494.0</td>\n",
       "      <td>1886.0</td>\n",
       "      <td>...</td>\n",
       "      <td>73.0</td>\n",
       "      <td>5.7</td>\n",
       "      <td>250.0</td>\n",
       "      <td>695.0</td>\n",
       "      <td>2000.0</td>\n",
       "      <td>dohc</td>\n",
       "      <td>diesel</td>\n",
       "      <td>2967.0</td>\n",
       "      <td>0.0</td>\n",
       "      <td>500.0</td>\n",
       "    </tr>\n",
       "  </tbody>\n",
       "</table>\n",
       "<p>3 rows × 34 columns</p>\n",
       "</div>"
      ],
      "text/plain": [
       "                                                 url  \\\n",
       "0  http://www.cars-data.com//en/audi-s3-quattro-s...   \n",
       "1  http://www.cars-data.com//en/audi-a6-avant-40-...   \n",
       "2  http://www.cars-data.com//en/audi-a6-avant-45-...   \n",
       "\n",
       "                           name          model brand   price eLabel  \\\n",
       "0               Audi S3 quattro        Audi S3  Audi  42.247      G   \n",
       "1          Audi A6 Avant 40 TDI  Audi A6 Avant  Audi  64.450      C   \n",
       "2  Audi A6 Avant 45 TDI quattro  Audi A6 Avant  Audi  77.130      E   \n",
       "\n",
       "       bodyType  length  height   width  ...  fuelCapacity  fuelConsumption  \\\n",
       "0     hatchback  4159.0  1415.0  1763.0  ...          55.0              9.1   \n",
       "1  stationwagon  4939.0  1494.0  1886.0  ...          73.0              4.5   \n",
       "2  stationwagon  4939.0  1494.0  1886.0  ...          73.0              5.7   \n",
       "\n",
       "   speed  payload trailerWeight  vEengineType  vEfuelType  \\\n",
       "0  238.0    560.0        1600.0          dohc      petrol   \n",
       "1  241.0    645.0        2000.0          dohc      diesel   \n",
       "2  250.0    695.0        2000.0          dohc      diesel   \n",
       "\n",
       "   vEengineDisplacement  vEenginePower torque  \n",
       "0                1781.0          154.0  270.0  \n",
       "1                1968.0            0.0  400.0  \n",
       "2                2967.0            0.0  500.0  \n",
       "\n",
       "[3 rows x 34 columns]"
      ]
     },
     "execution_count": 67,
     "metadata": {},
     "output_type": "execute_result"
    }
   ],
   "source": [
    "df = pd.read_csv('/home/hawliet/Documents/Data-science-project/data/cars/cars_preprocessed_undrop.csv', sep='\\t', encoding='utf-8')\n",
    "df.head(3)"
   ]
  },
  {
   "cell_type": "code",
   "execution_count": 68,
   "metadata": {},
   "outputs": [],
   "source": [
    "df.drop(columns=['url', 'name', 'model', 'fuelType', 'vehicleTransmission'], inplace=True)"
   ]
  },
  {
   "cell_type": "code",
   "execution_count": 69,
   "metadata": {},
   "outputs": [],
   "source": [
    "num_cols = ['length', 'height', 'width', 'weight', 'weightTotal', 'emissionsCO2', 'numberOfAxles',\n",
    "            'numberOfDoors', 'numberOfForwardGears', 'seatingCapacity', 'cargoVolume', 'roofLoad', \n",
    "            'accelerationTime', 'fuelCapacity', 'fuelConsumption', 'speed', 'payload', 'trailerWeight', \n",
    "            'vEengineDisplacement', 'vEenginePower', 'torque']\n",
    "cat_cols = []\n",
    "for col in df.columns:\n",
    "    if not (col in num_cols):\n",
    "        cat_cols.append(col)"
   ]
  },
  {
   "cell_type": "code",
   "execution_count": 128,
   "metadata": {},
   "outputs": [
    {
     "data": {
      "text/html": [
       "<div>\n",
       "<style scoped>\n",
       "    .dataframe tbody tr th:only-of-type {\n",
       "        vertical-align: middle;\n",
       "    }\n",
       "\n",
       "    .dataframe tbody tr th {\n",
       "        vertical-align: top;\n",
       "    }\n",
       "\n",
       "    .dataframe thead th {\n",
       "        text-align: right;\n",
       "    }\n",
       "</style>\n",
       "<table border=\"1\" class=\"dataframe\">\n",
       "  <thead>\n",
       "    <tr style=\"text-align: right;\">\n",
       "      <th></th>\n",
       "      <th>brand</th>\n",
       "      <th>price</th>\n",
       "      <th>eLabel</th>\n",
       "      <th>bodyType</th>\n",
       "      <th>modelDate</th>\n",
       "      <th>driveWheelConfiguration</th>\n",
       "      <th>vEengineType</th>\n",
       "      <th>vEfuelType</th>\n",
       "    </tr>\n",
       "  </thead>\n",
       "  <tbody>\n",
       "    <tr>\n",
       "      <td>11100</td>\n",
       "      <td>Mitsubishi</td>\n",
       "      <td>14.990</td>\n",
       "      <td>B</td>\n",
       "      <td>hatchback</td>\n",
       "      <td>2013.0</td>\n",
       "      <td>front</td>\n",
       "      <td>dohc</td>\n",
       "      <td>petrol</td>\n",
       "    </tr>\n",
       "    <tr>\n",
       "      <td>11101</td>\n",
       "      <td>Mitsubishi</td>\n",
       "      <td>13.590</td>\n",
       "      <td>B</td>\n",
       "      <td>hatchback</td>\n",
       "      <td>2013.0</td>\n",
       "      <td>front</td>\n",
       "      <td>dohc</td>\n",
       "      <td>petrol</td>\n",
       "    </tr>\n",
       "    <tr>\n",
       "      <td>11102</td>\n",
       "      <td>Mitsubishi</td>\n",
       "      <td>13.990</td>\n",
       "      <td>B</td>\n",
       "      <td>hatchback</td>\n",
       "      <td>2013.0</td>\n",
       "      <td>front</td>\n",
       "      <td>dohc</td>\n",
       "      <td>petrol</td>\n",
       "    </tr>\n",
       "    <tr>\n",
       "      <td>11103</td>\n",
       "      <td>Mitsubishi</td>\n",
       "      <td>12.490</td>\n",
       "      <td>B</td>\n",
       "      <td>hatchback</td>\n",
       "      <td>2013.0</td>\n",
       "      <td>front</td>\n",
       "      <td>dohc</td>\n",
       "      <td>petrol</td>\n",
       "    </tr>\n",
       "    <tr>\n",
       "      <td>11104</td>\n",
       "      <td>Mitsubishi</td>\n",
       "      <td>10.490</td>\n",
       "      <td>B</td>\n",
       "      <td>hatchback</td>\n",
       "      <td>2013.0</td>\n",
       "      <td>front</td>\n",
       "      <td>dohc</td>\n",
       "      <td>petrol</td>\n",
       "    </tr>\n",
       "    <tr>\n",
       "      <td>11105</td>\n",
       "      <td>Mitsubishi</td>\n",
       "      <td>8.990</td>\n",
       "      <td>B</td>\n",
       "      <td>hatchback</td>\n",
       "      <td>2013.0</td>\n",
       "      <td>front</td>\n",
       "      <td>dohc</td>\n",
       "      <td>petrol</td>\n",
       "    </tr>\n",
       "    <tr>\n",
       "      <td>11106</td>\n",
       "      <td>Mitsubishi</td>\n",
       "      <td>13.990</td>\n",
       "      <td>B</td>\n",
       "      <td>hatchback</td>\n",
       "      <td>2013.0</td>\n",
       "      <td>front</td>\n",
       "      <td>dohc</td>\n",
       "      <td>petrol</td>\n",
       "    </tr>\n",
       "    <tr>\n",
       "      <td>11107</td>\n",
       "      <td>Mitsubishi</td>\n",
       "      <td>12.490</td>\n",
       "      <td>B</td>\n",
       "      <td>hatchback</td>\n",
       "      <td>2013.0</td>\n",
       "      <td>front</td>\n",
       "      <td>dohc</td>\n",
       "      <td>petrol</td>\n",
       "    </tr>\n",
       "    <tr>\n",
       "      <td>11108</td>\n",
       "      <td>Mitsubishi</td>\n",
       "      <td>10.490</td>\n",
       "      <td>B</td>\n",
       "      <td>hatchback</td>\n",
       "      <td>2013.0</td>\n",
       "      <td>front</td>\n",
       "      <td>dohc</td>\n",
       "      <td>petrol</td>\n",
       "    </tr>\n",
       "    <tr>\n",
       "      <td>11109</td>\n",
       "      <td>Mitsubishi</td>\n",
       "      <td>8.990</td>\n",
       "      <td>B</td>\n",
       "      <td>hatchback</td>\n",
       "      <td>2013.0</td>\n",
       "      <td>front</td>\n",
       "      <td>dohc</td>\n",
       "      <td>petrol</td>\n",
       "    </tr>\n",
       "    <tr>\n",
       "      <td>11110</td>\n",
       "      <td>Mitsubishi</td>\n",
       "      <td>16.290</td>\n",
       "      <td>B</td>\n",
       "      <td>hatchback</td>\n",
       "      <td>2015.0</td>\n",
       "      <td>front</td>\n",
       "      <td>dohc</td>\n",
       "      <td>petrol</td>\n",
       "    </tr>\n",
       "    <tr>\n",
       "      <td>11111</td>\n",
       "      <td>Mitsubishi</td>\n",
       "      <td>13.990</td>\n",
       "      <td>B</td>\n",
       "      <td>hatchback</td>\n",
       "      <td>2015.0</td>\n",
       "      <td>front</td>\n",
       "      <td>dohc</td>\n",
       "      <td>petrol</td>\n",
       "    </tr>\n",
       "    <tr>\n",
       "      <td>11112</td>\n",
       "      <td>Mitsubishi</td>\n",
       "      <td>12.490</td>\n",
       "      <td>B</td>\n",
       "      <td>hatchback</td>\n",
       "      <td>2015.0</td>\n",
       "      <td>front</td>\n",
       "      <td>dohc</td>\n",
       "      <td>petrol</td>\n",
       "    </tr>\n",
       "    <tr>\n",
       "      <td>11113</td>\n",
       "      <td>Mitsubishi</td>\n",
       "      <td>12.490</td>\n",
       "      <td>B</td>\n",
       "      <td>hatchback</td>\n",
       "      <td>2015.0</td>\n",
       "      <td>front</td>\n",
       "      <td>dohc</td>\n",
       "      <td>petrol</td>\n",
       "    </tr>\n",
       "    <tr>\n",
       "      <td>11114</td>\n",
       "      <td>Mitsubishi</td>\n",
       "      <td>10.990</td>\n",
       "      <td>B</td>\n",
       "      <td>hatchback</td>\n",
       "      <td>2014.0</td>\n",
       "      <td>front</td>\n",
       "      <td>dohc</td>\n",
       "      <td>petrol</td>\n",
       "    </tr>\n",
       "    <tr>\n",
       "      <td>11115</td>\n",
       "      <td>Ford</td>\n",
       "      <td>27.345</td>\n",
       "      <td>D</td>\n",
       "      <td>stationwagon</td>\n",
       "      <td>2011.0</td>\n",
       "      <td>front</td>\n",
       "      <td>dohc</td>\n",
       "      <td>diesel</td>\n",
       "    </tr>\n",
       "    <tr>\n",
       "      <td>11116</td>\n",
       "      <td>Ford</td>\n",
       "      <td>28.225</td>\n",
       "      <td>D</td>\n",
       "      <td>stationwagon</td>\n",
       "      <td>2011.0</td>\n",
       "      <td>front</td>\n",
       "      <td>dohc</td>\n",
       "      <td>diesel</td>\n",
       "    </tr>\n",
       "    <tr>\n",
       "      <td>11117</td>\n",
       "      <td>Ford</td>\n",
       "      <td>29.095</td>\n",
       "      <td>D</td>\n",
       "      <td>stationwagon</td>\n",
       "      <td>2011.0</td>\n",
       "      <td>front</td>\n",
       "      <td>dohc</td>\n",
       "      <td>diesel</td>\n",
       "    </tr>\n",
       "    <tr>\n",
       "      <td>11118</td>\n",
       "      <td>Ford</td>\n",
       "      <td>30.595</td>\n",
       "      <td>G</td>\n",
       "      <td>stationwagon</td>\n",
       "      <td>2011.0</td>\n",
       "      <td>front</td>\n",
       "      <td>dohc</td>\n",
       "      <td>diesel</td>\n",
       "    </tr>\n",
       "    <tr>\n",
       "      <td>11119</td>\n",
       "      <td>Ford</td>\n",
       "      <td>29.930</td>\n",
       "      <td>D</td>\n",
       "      <td>stationwagon</td>\n",
       "      <td>2011.0</td>\n",
       "      <td>front</td>\n",
       "      <td>dohc</td>\n",
       "      <td>diesel</td>\n",
       "    </tr>\n",
       "    <tr>\n",
       "      <td>11120</td>\n",
       "      <td>Ford</td>\n",
       "      <td>29.095</td>\n",
       "      <td>G</td>\n",
       "      <td>stationwagon</td>\n",
       "      <td>2011.0</td>\n",
       "      <td>front</td>\n",
       "      <td>dohc</td>\n",
       "      <td>diesel</td>\n",
       "    </tr>\n",
       "    <tr>\n",
       "      <td>11121</td>\n",
       "      <td>Ford</td>\n",
       "      <td>30.345</td>\n",
       "      <td>G</td>\n",
       "      <td>stationwagon</td>\n",
       "      <td>2011.0</td>\n",
       "      <td>front</td>\n",
       "      <td>dohc</td>\n",
       "      <td>diesel</td>\n",
       "    </tr>\n",
       "    <tr>\n",
       "      <td>11122</td>\n",
       "      <td>Ford</td>\n",
       "      <td>34.460</td>\n",
       "      <td>G</td>\n",
       "      <td>stationwagon</td>\n",
       "      <td>2011.0</td>\n",
       "      <td>front</td>\n",
       "      <td>dohc</td>\n",
       "      <td>diesel</td>\n",
       "    </tr>\n",
       "    <tr>\n",
       "      <td>11123</td>\n",
       "      <td>Ford</td>\n",
       "      <td>31.845</td>\n",
       "      <td>G</td>\n",
       "      <td>stationwagon</td>\n",
       "      <td>2011.0</td>\n",
       "      <td>front</td>\n",
       "      <td>dohc</td>\n",
       "      <td>diesel</td>\n",
       "    </tr>\n",
       "    <tr>\n",
       "      <td>11124</td>\n",
       "      <td>Ford</td>\n",
       "      <td>29.345</td>\n",
       "      <td>F</td>\n",
       "      <td>stationwagon</td>\n",
       "      <td>2011.0</td>\n",
       "      <td>front</td>\n",
       "      <td>dohc</td>\n",
       "      <td>diesel</td>\n",
       "    </tr>\n",
       "  </tbody>\n",
       "</table>\n",
       "</div>"
      ],
      "text/plain": [
       "            brand   price eLabel      bodyType  modelDate  \\\n",
       "11100  Mitsubishi  14.990      B     hatchback     2013.0   \n",
       "11101  Mitsubishi  13.590      B     hatchback     2013.0   \n",
       "11102  Mitsubishi  13.990      B     hatchback     2013.0   \n",
       "11103  Mitsubishi  12.490      B     hatchback     2013.0   \n",
       "11104  Mitsubishi  10.490      B     hatchback     2013.0   \n",
       "11105  Mitsubishi   8.990      B     hatchback     2013.0   \n",
       "11106  Mitsubishi  13.990      B     hatchback     2013.0   \n",
       "11107  Mitsubishi  12.490      B     hatchback     2013.0   \n",
       "11108  Mitsubishi  10.490      B     hatchback     2013.0   \n",
       "11109  Mitsubishi   8.990      B     hatchback     2013.0   \n",
       "11110  Mitsubishi  16.290      B     hatchback     2015.0   \n",
       "11111  Mitsubishi  13.990      B     hatchback     2015.0   \n",
       "11112  Mitsubishi  12.490      B     hatchback     2015.0   \n",
       "11113  Mitsubishi  12.490      B     hatchback     2015.0   \n",
       "11114  Mitsubishi  10.990      B     hatchback     2014.0   \n",
       "11115        Ford  27.345      D  stationwagon     2011.0   \n",
       "11116        Ford  28.225      D  stationwagon     2011.0   \n",
       "11117        Ford  29.095      D  stationwagon     2011.0   \n",
       "11118        Ford  30.595      G  stationwagon     2011.0   \n",
       "11119        Ford  29.930      D  stationwagon     2011.0   \n",
       "11120        Ford  29.095      G  stationwagon     2011.0   \n",
       "11121        Ford  30.345      G  stationwagon     2011.0   \n",
       "11122        Ford  34.460      G  stationwagon     2011.0   \n",
       "11123        Ford  31.845      G  stationwagon     2011.0   \n",
       "11124        Ford  29.345      F  stationwagon     2011.0   \n",
       "\n",
       "      driveWheelConfiguration vEengineType vEfuelType  \n",
       "11100                   front         dohc     petrol  \n",
       "11101                   front         dohc     petrol  \n",
       "11102                   front         dohc     petrol  \n",
       "11103                   front         dohc     petrol  \n",
       "11104                   front         dohc     petrol  \n",
       "11105                   front         dohc     petrol  \n",
       "11106                   front         dohc     petrol  \n",
       "11107                   front         dohc     petrol  \n",
       "11108                   front         dohc     petrol  \n",
       "11109                   front         dohc     petrol  \n",
       "11110                   front         dohc     petrol  \n",
       "11111                   front         dohc     petrol  \n",
       "11112                   front         dohc     petrol  \n",
       "11113                   front         dohc     petrol  \n",
       "11114                   front         dohc     petrol  \n",
       "11115                   front         dohc     diesel  \n",
       "11116                   front         dohc     diesel  \n",
       "11117                   front         dohc     diesel  \n",
       "11118                   front         dohc     diesel  \n",
       "11119                   front         dohc     diesel  \n",
       "11120                   front         dohc     diesel  \n",
       "11121                   front         dohc     diesel  \n",
       "11122                   front         dohc     diesel  \n",
       "11123                   front         dohc     diesel  \n",
       "11124                   front         dohc     diesel  "
      ]
     },
     "execution_count": 128,
     "metadata": {},
     "output_type": "execute_result"
    }
   ],
   "source": [
    "df[cat_cols][11100:11125]"
   ]
  },
  {
   "cell_type": "code",
   "execution_count": 184,
   "metadata": {},
   "outputs": [
    {
     "data": {
      "text/plain": [
       "array(['petrol', 'diesel', 'LPG', 'benzine', 'bio-ethanol', 'natural gas',\n",
       "       nan, 'LPG / petrol', 'aardgas', 'aardgas / petrol',\n",
       "       'petrol / bio-ethanol'], dtype=object)"
      ]
     },
     "execution_count": 184,
     "metadata": {},
     "output_type": "execute_result"
    }
   ],
   "source": [
    "df.vEfuelType.unique()"
   ]
  },
  {
   "cell_type": "code",
   "execution_count": 205,
   "metadata": {},
   "outputs": [],
   "source": [
    "tmp = df.driveWheelConfiguration.str.replace('[^\\w]', ' ').str.split()\n",
    "types = set()\n",
    "\n",
    "for i in range(tmp.shape[0]):\n",
    "    if type(tmp[i]) is list:\n",
    "        types.add(tmp[i][0])"
   ]
  },
  {
   "cell_type": "code",
   "execution_count": 206,
   "metadata": {},
   "outputs": [
    {
     "data": {
      "text/plain": [
       "['achter', 'rear', 'voor', 'front']"
      ]
     },
     "execution_count": 206,
     "metadata": {},
     "output_type": "execute_result"
    }
   ],
   "source": [
    "a = list(types)\n",
    "a"
   ]
  },
  {
   "cell_type": "code",
   "execution_count": 166,
   "metadata": {},
   "outputs": [
    {
     "data": {
      "text/plain": [
       "['petrol']"
      ]
     },
     "execution_count": 166,
     "metadata": {},
     "output_type": "execute_result"
    }
   ],
   "source": [
    "tmp[0]"
   ]
  },
  {
   "cell_type": "code",
   "execution_count": 159,
   "metadata": {},
   "outputs": [
    {
     "data": {
      "text/plain": [
       "False"
      ]
     },
     "execution_count": 159,
     "metadata": {},
     "output_type": "execute_result"
    }
   ],
   "source": [
    "type"
   ]
  },
  {
   "cell_type": "code",
   "execution_count": 147,
   "metadata": {},
   "outputs": [],
   "source": [
    "val = tmp[1]\n",
    "if type(val) is list:\n",
    "    for i in range(len(val)):\n",
    "        if a[0] in val:\n",
    "            print('1')\n",
    "            break\n",
    "else:\n",
    "    print('0')"
   ]
  },
  {
   "cell_type": "code",
   "execution_count": 165,
   "metadata": {},
   "outputs": [
    {
     "name": "stdout",
     "output_type": "stream",
     "text": [
      "1\n"
     ]
    }
   ],
   "source": [
    "def check_label_existed(val):\n",
    "    if (type(val) is list) and ('LPG' in val):\n",
    "        print('1')\n",
    "    else:\n",
    "        print('0')"
   ]
  },
  {
   "cell_type": "code",
   "execution_count": 209,
   "metadata": {},
   "outputs": [
    {
     "data": {
      "text/plain": [
       "['achter', 'rear', 'voor', 'front']"
      ]
     },
     "execution_count": 209,
     "metadata": {},
     "output_type": "execute_result"
    }
   ],
   "source": [
    "a"
   ]
  },
  {
   "cell_type": "code",
   "execution_count": 224,
   "metadata": {},
   "outputs": [
    {
     "data": {
      "text/html": [
       "<div>\n",
       "<style scoped>\n",
       "    .dataframe tbody tr th:only-of-type {\n",
       "        vertical-align: middle;\n",
       "    }\n",
       "\n",
       "    .dataframe tbody tr th {\n",
       "        vertical-align: top;\n",
       "    }\n",
       "\n",
       "    .dataframe thead th {\n",
       "        text-align: right;\n",
       "    }\n",
       "</style>\n",
       "<table border=\"1\" class=\"dataframe\">\n",
       "  <thead>\n",
       "    <tr style=\"text-align: right;\">\n",
       "      <th></th>\n",
       "      <th>vEfuelType</th>\n",
       "      <th>driveWheelConfiguration</th>\n",
       "    </tr>\n",
       "  </thead>\n",
       "  <tbody>\n",
       "    <tr>\n",
       "      <td>0</td>\n",
       "      <td>petrol</td>\n",
       "      <td>front+rear</td>\n",
       "    </tr>\n",
       "  </tbody>\n",
       "</table>\n",
       "</div>"
      ],
      "text/plain": [
       "  vEfuelType driveWheelConfiguration\n",
       "0     petrol              front+rear"
      ]
     },
     "execution_count": 224,
     "metadata": {},
     "output_type": "execute_result"
    }
   ],
   "source": [
    "tmp_df = df[['vEfuelType', 'driveWheelConfiguration']].copy()\n",
    "tmp_df.head(1)"
   ]
  },
  {
   "cell_type": "code",
   "execution_count": 220,
   "metadata": {},
   "outputs": [
    {
     "data": {
      "text/plain": [
       "Counter({1: 70658, 0: 13516})"
      ]
     },
     "execution_count": 220,
     "metadata": {},
     "output_type": "execute_result"
    }
   ],
   "source": [
    "Counter(df.driveWheelConfiguration.apply(lambda x: 1 if ((type(x) is str) and (a[3] in x)) else 0))"
   ]
  },
  {
   "cell_type": "code",
   "execution_count": 221,
   "metadata": {},
   "outputs": [],
   "source": [
    "for i in range(len(a)):\n",
    "    tmp_df['driveWheelConfig' + '_' + a[i]] = tmp_df.driveWheelConfiguration.apply(lambda x: 1 if ((type(x) is str) and (a[i] in x)) else 0)"
   ]
  },
  {
   "cell_type": "code",
   "execution_count": 233,
   "metadata": {},
   "outputs": [
    {
     "data": {
      "text/plain": [
       "str"
      ]
     },
     "execution_count": 233,
     "metadata": {},
     "output_type": "execute_result"
    }
   ],
   "source": [
    "type(tmp_df.vEfuelType[0])"
   ]
  },
  {
   "cell_type": "code",
   "execution_count": 239,
   "metadata": {},
   "outputs": [],
   "source": [
    "class MultilabelEcoding(BaseEstimator, TransformerMixin):\n",
    "    def __init__(self, col_name):\n",
    "        self.col_name = col_name\n",
    "        self.type_list = set()\n",
    "    def fit(self, X_df, y=None):\n",
    "        types_sr = X_df[self.col_name].str.replace('[^\\w]', ' ').str.split()\n",
    "        for i in range(types_sr.shape[0]):\n",
    "            if type(types_sr[i]) is list:\n",
    "                self.type_list.add(types_sr[i][0])\n",
    "        self.type_list = list(self.type_list)\n",
    "        return self\n",
    "    def transform(self, X_df, y=None):\n",
    "        transformed_df = X_df.copy()\n",
    "        for i in range(len(self.type_list)):\n",
    "            transformed_df[self.col_name + '_' + self.type_list[i]] = transformed_df[self.col_name].apply(lambda x: 1 if ((type(x) is str) and (self.type_list[i] in x)) else 0)\n",
    "        return transformed_df"
   ]
  },
  {
   "cell_type": "code",
   "execution_count": 242,
   "metadata": {},
   "outputs": [
    {
     "data": {
      "text/plain": [
       "['achter', 'rear', 'voor', 'front']"
      ]
     },
     "execution_count": 242,
     "metadata": {},
     "output_type": "execute_result"
    }
   ],
   "source": [
    "multi_encoder = MultilabelEcoding('driveWheelConfiguration')\n",
    "multi_encoder.fit(tmp_df)\n",
    "multi_encoder.type_list"
   ]
  },
  {
   "cell_type": "code",
   "execution_count": 243,
   "metadata": {},
   "outputs": [
    {
     "data": {
      "text/html": [
       "<div>\n",
       "<style scoped>\n",
       "    .dataframe tbody tr th:only-of-type {\n",
       "        vertical-align: middle;\n",
       "    }\n",
       "\n",
       "    .dataframe tbody tr th {\n",
       "        vertical-align: top;\n",
       "    }\n",
       "\n",
       "    .dataframe thead th {\n",
       "        text-align: right;\n",
       "    }\n",
       "</style>\n",
       "<table border=\"1\" class=\"dataframe\">\n",
       "  <thead>\n",
       "    <tr style=\"text-align: right;\">\n",
       "      <th></th>\n",
       "      <th>vEfuelType</th>\n",
       "      <th>driveWheelConfiguration</th>\n",
       "      <th>driveWheelConfiguration_achter</th>\n",
       "      <th>driveWheelConfiguration_rear</th>\n",
       "      <th>driveWheelConfiguration_voor</th>\n",
       "      <th>driveWheelConfiguration_front</th>\n",
       "    </tr>\n",
       "  </thead>\n",
       "  <tbody>\n",
       "    <tr>\n",
       "      <td>0</td>\n",
       "      <td>petrol</td>\n",
       "      <td>front+rear</td>\n",
       "      <td>0</td>\n",
       "      <td>1</td>\n",
       "      <td>0</td>\n",
       "      <td>1</td>\n",
       "    </tr>\n",
       "    <tr>\n",
       "      <td>1</td>\n",
       "      <td>diesel</td>\n",
       "      <td>front</td>\n",
       "      <td>0</td>\n",
       "      <td>0</td>\n",
       "      <td>0</td>\n",
       "      <td>1</td>\n",
       "    </tr>\n",
       "    <tr>\n",
       "      <td>2</td>\n",
       "      <td>diesel</td>\n",
       "      <td>front+rear</td>\n",
       "      <td>0</td>\n",
       "      <td>1</td>\n",
       "      <td>0</td>\n",
       "      <td>1</td>\n",
       "    </tr>\n",
       "    <tr>\n",
       "      <td>3</td>\n",
       "      <td>diesel</td>\n",
       "      <td>front+rear</td>\n",
       "      <td>0</td>\n",
       "      <td>1</td>\n",
       "      <td>0</td>\n",
       "      <td>1</td>\n",
       "    </tr>\n",
       "    <tr>\n",
       "      <td>4</td>\n",
       "      <td>petrol</td>\n",
       "      <td>front</td>\n",
       "      <td>0</td>\n",
       "      <td>0</td>\n",
       "      <td>0</td>\n",
       "      <td>1</td>\n",
       "    </tr>\n",
       "    <tr>\n",
       "      <td>...</td>\n",
       "      <td>...</td>\n",
       "      <td>...</td>\n",
       "      <td>...</td>\n",
       "      <td>...</td>\n",
       "      <td>...</td>\n",
       "      <td>...</td>\n",
       "    </tr>\n",
       "    <tr>\n",
       "      <td>84169</td>\n",
       "      <td>petrol</td>\n",
       "      <td>front+rear</td>\n",
       "      <td>0</td>\n",
       "      <td>1</td>\n",
       "      <td>0</td>\n",
       "      <td>1</td>\n",
       "    </tr>\n",
       "    <tr>\n",
       "      <td>84170</td>\n",
       "      <td>petrol</td>\n",
       "      <td>front+rear</td>\n",
       "      <td>0</td>\n",
       "      <td>1</td>\n",
       "      <td>0</td>\n",
       "      <td>1</td>\n",
       "    </tr>\n",
       "    <tr>\n",
       "      <td>84171</td>\n",
       "      <td>petrol</td>\n",
       "      <td>front+rear</td>\n",
       "      <td>0</td>\n",
       "      <td>1</td>\n",
       "      <td>0</td>\n",
       "      <td>1</td>\n",
       "    </tr>\n",
       "    <tr>\n",
       "      <td>84172</td>\n",
       "      <td>petrol</td>\n",
       "      <td>front+rear</td>\n",
       "      <td>0</td>\n",
       "      <td>1</td>\n",
       "      <td>0</td>\n",
       "      <td>1</td>\n",
       "    </tr>\n",
       "    <tr>\n",
       "      <td>84173</td>\n",
       "      <td>petrol</td>\n",
       "      <td>front+rear</td>\n",
       "      <td>0</td>\n",
       "      <td>1</td>\n",
       "      <td>0</td>\n",
       "      <td>1</td>\n",
       "    </tr>\n",
       "  </tbody>\n",
       "</table>\n",
       "<p>84174 rows × 6 columns</p>\n",
       "</div>"
      ],
      "text/plain": [
       "      vEfuelType driveWheelConfiguration  driveWheelConfiguration_achter  \\\n",
       "0         petrol              front+rear                               0   \n",
       "1         diesel                   front                               0   \n",
       "2         diesel              front+rear                               0   \n",
       "3         diesel              front+rear                               0   \n",
       "4         petrol                   front                               0   \n",
       "...          ...                     ...                             ...   \n",
       "84169     petrol              front+rear                               0   \n",
       "84170     petrol              front+rear                               0   \n",
       "84171     petrol              front+rear                               0   \n",
       "84172     petrol              front+rear                               0   \n",
       "84173     petrol              front+rear                               0   \n",
       "\n",
       "       driveWheelConfiguration_rear  driveWheelConfiguration_voor  \\\n",
       "0                                 1                             0   \n",
       "1                                 0                             0   \n",
       "2                                 1                             0   \n",
       "3                                 1                             0   \n",
       "4                                 0                             0   \n",
       "...                             ...                           ...   \n",
       "84169                             1                             0   \n",
       "84170                             1                             0   \n",
       "84171                             1                             0   \n",
       "84172                             1                             0   \n",
       "84173                             1                             0   \n",
       "\n",
       "       driveWheelConfiguration_front  \n",
       "0                                  1  \n",
       "1                                  1  \n",
       "2                                  1  \n",
       "3                                  1  \n",
       "4                                  1  \n",
       "...                              ...  \n",
       "84169                              1  \n",
       "84170                              1  \n",
       "84171                              1  \n",
       "84172                              1  \n",
       "84173                              1  \n",
       "\n",
       "[84174 rows x 6 columns]"
      ]
     },
     "execution_count": 243,
     "metadata": {},
     "output_type": "execute_result"
    }
   ],
   "source": [
    "multi_encoder.transform(tmp_df)"
   ]
  },
  {
   "cell_type": "code",
   "execution_count": 16,
   "metadata": {},
   "outputs": [],
   "source": [
    "categorical_transformer = Pipeline(steps=[\n",
    "    ('imputer', SimpleImputer(missing_values=np.nan, strategy='most_frequent')),\n",
    "    ('onehot', OneHotEncoder(handle_unknown='ignore'))])\n",
    "\n",
    "column_trans = ColumnTransformer([('cats', categorical_transformer, cat_cols)])\n",
    "# ('nums', SimpleImputer(missing_values=np.nan, strategy='mean'), num_cols)\n",
    "\n",
    "preprocess_pipeline = Pipeline(steps=[\n",
    "    ('colsTransformer', column_trans)])\n",
    "# ('stdScaler', StandardScaler())\n",
    "\n",
    "X = preprocess_pipeline.fit_transform(df[cat_cols])"
   ]
  },
  {
   "cell_type": "code",
   "execution_count": 17,
   "metadata": {},
   "outputs": [],
   "source": [
    "si = SimpleImputer(strategy='mean')\n",
    "y = si.fit_transform(df.price.values.reshape(-1, 1))"
   ]
  },
  {
   "cell_type": "code",
   "execution_count": 18,
   "metadata": {},
   "outputs": [
    {
     "data": {
      "text/plain": [
       "((84174, 27322), (84174, 1))"
      ]
     },
     "execution_count": 18,
     "metadata": {},
     "output_type": "execute_result"
    }
   ],
   "source": [
    "X.shape, y.shape"
   ]
  },
  {
   "cell_type": "code",
   "execution_count": 19,
   "metadata": {},
   "outputs": [],
   "source": [
    "X_train, X_test, y_train, y_test = train_test_split(X, y, test_size=0.9)"
   ]
  },
  {
   "cell_type": "code",
   "execution_count": 20,
   "metadata": {},
   "outputs": [
    {
     "data": {
      "text/plain": [
       "(8417, 27322)"
      ]
     },
     "execution_count": 20,
     "metadata": {},
     "output_type": "execute_result"
    }
   ],
   "source": [
    "X_train.shape"
   ]
  },
  {
   "cell_type": "code",
   "execution_count": null,
   "metadata": {},
   "outputs": [
    {
     "name": "stderr",
     "output_type": "stream",
     "text": [
      "/home/hawliet/anaconda3/lib/python3.7/site-packages/sklearn/preprocessing/label.py:219: DataConversionWarning: A column-vector y was passed when a 1d array was expected. Please change the shape of y to (n_samples, ), for example using ravel().\n",
      "  y = column_or_1d(y, warn=True)\n",
      "/home/hawliet/anaconda3/lib/python3.7/site-packages/sklearn/preprocessing/label.py:252: DataConversionWarning: A column-vector y was passed when a 1d array was expected. Please change the shape of y to (n_samples, ), for example using ravel().\n",
      "  y = column_or_1d(y, warn=True)\n"
     ]
    }
   ],
   "source": [
    "model = XGBClassifier()\n",
    "model.fit(X, y)"
   ]
  },
  {
   "cell_type": "code",
   "execution_count": null,
   "metadata": {},
   "outputs": [],
   "source": []
  }
 ],
 "metadata": {
  "kernelspec": {
   "display_name": "Python 3",
   "language": "python",
   "name": "python3"
  },
  "language_info": {
   "codemirror_mode": {
    "name": "ipython",
    "version": 3
   },
   "file_extension": ".py",
   "mimetype": "text/x-python",
   "name": "python",
   "nbconvert_exporter": "python",
   "pygments_lexer": "ipython3",
   "version": "3.7.4"
  }
 },
 "nbformat": 4,
 "nbformat_minor": 4
}
