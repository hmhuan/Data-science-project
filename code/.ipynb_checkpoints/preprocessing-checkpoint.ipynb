{
 "cells": [
  {
   "cell_type": "code",
   "execution_count": 70,
   "metadata": {},
   "outputs": [],
   "source": [
    "%matplotlib inline\n",
    "import matplotlib.pyplot as plt\n",
    "import seaborn as sns\n",
    "import pandas as pd\n",
    "import numpy as np\n",
    "\n",
    "from sklearn.model_selection import train_test_split\n",
    "from sklearn.preprocessing import OneHotEncoder, StandardScaler\n",
    "from sklearn.impute import SimpleImputer\n",
    "from sklearn.base import BaseEstimator, TransformerMixin\n",
    "from sklearn.pipeline import Pipeline, make_pipeline\n",
    "from sklearn.compose import ColumnTransformer, make_column_transformer\n",
    "from sklearn.neural_network import MLPClassifier, MLPRegressor\n",
    "from sklearn.ensemble import RandomForestRegressor\n",
    "from sklearn.externals import joblib"
   ]
  },
  {
   "cell_type": "code",
   "execution_count": null,
   "metadata": {},
   "outputs": [],
   "source": [
    "cars_df = pd.read_csv(\"cars_dataset.csv\", sep = \"\\t\", encoding='utf-8')"
   ]
  },
  {
   "cell_type": "markdown",
   "metadata": {
    "toc-hr-collapsed": true
   },
   "source": [
    "# Chuyển đổi dữ liệu từ dữ liệu thô"
   ]
  },
  {
   "cell_type": "code",
   "execution_count": null,
   "metadata": {},
   "outputs": [],
   "source": [
    "num_cols = ['price', 'length', 'height', 'width', 'weight', 'weightTotal', 'emissionsCO2', 'numberOfAxles',\n",
    "            'numberOfDoors', 'numberOfForwardGears', 'seatingCapacity', 'cargoVolume', 'roofLoad', \n",
    "            'accelerationTime', 'fuelCapacity', 'fuelConsumption', 'speed', 'payload', 'trailerWeight', \n",
    "            'vEengineDisplacement', 'vEenginePower', 'torque']"
   ]
  },
  {
   "cell_type": "code",
   "execution_count": null,
   "metadata": {},
   "outputs": [],
   "source": [
    "cat_cols = []\n",
    "for col in cars_df.columns:\n",
    "    if not (col in num_cols):\n",
    "        cat_cols.append(col)"
   ]
  },
  {
   "cell_type": "code",
   "execution_count": null,
   "metadata": {},
   "outputs": [],
   "source": [
    "print(len(num_cols), len(cat_cols))\n",
    "print(num_cols, '\\n', cat_cols)"
   ]
  },
  {
   "cell_type": "markdown",
   "metadata": {},
   "source": [
    "### Xử lý các cột dữ liệu số"
   ]
  },
  {
   "cell_type": "code",
   "execution_count": null,
   "metadata": {},
   "outputs": [],
   "source": [
    "# copy ra df để xư lý\n",
    "df = cars_df.copy()"
   ]
  },
  {
   "cell_type": "code",
   "execution_count": null,
   "metadata": {},
   "outputs": [],
   "source": [
    "# fucntion convert cac thuoc tinh khac\n",
    "def cvtFloat(x):\n",
    "    if type(x) == str:\n",
    "        temp = x.replace(',', '.').split()[0]\n",
    "    else:\n",
    "        temp = x\n",
    "    val = None\n",
    "    try:\n",
    "        val = float(temp)\n",
    "    except ValueError:\n",
    "        return val\n",
    "    return val"
   ]
  },
  {
   "cell_type": "code",
   "execution_count": null,
   "metadata": {},
   "outputs": [],
   "source": [
    "for el in num_cols:\n",
    "    if el != 'cargoVolume':\n",
    "        print(el)\n",
    "        df[el] = df[el].apply(cvtFloat)"
   ]
  },
  {
   "cell_type": "code",
   "execution_count": null,
   "metadata": {},
   "outputs": [],
   "source": [
    "# Hàm xử lý riêng cho cargoVolume\n",
    "def cvtFloat_cargoVolume(x):\n",
    "    temp = x.split()[0]\n",
    "    temp = temp.replace('-', ' ')\n",
    "    temp = temp.split()\n",
    "    if len(temp) > 0:\n",
    "        temp = temp[-1]\n",
    "    else:\n",
    "        temp = x\n",
    "    val = None\n",
    "    try:\n",
    "        val = float(temp)\n",
    "    except ValueError:\n",
    "        return val\n",
    "    return val"
   ]
  },
  {
   "cell_type": "code",
   "execution_count": null,
   "metadata": {},
   "outputs": [],
   "source": [
    "df['cargoVolume'] = df['cargoVolume'].apply(cvtFloat_cargoVolume)"
   ]
  },
  {
   "cell_type": "code",
   "execution_count": null,
   "metadata": {},
   "outputs": [],
   "source": [
    "df[num_cols].info()"
   ]
  },
  {
   "cell_type": "markdown",
   "metadata": {},
   "source": [
    "### Xử lý các cột dữ liệu categorize"
   ]
  },
  {
   "cell_type": "code",
   "execution_count": null,
   "metadata": {},
   "outputs": [],
   "source": [
    "for cat in cat_cols[:]:\n",
    "    print(cat, len(cars_df[cat].unique()))"
   ]
  },
  {
   "cell_type": "markdown",
   "metadata": {},
   "source": [
    "* Có thể loại bỏ cột vehicleTransmission vì chỉ có 1 giá trị, không có ý nghĩa trong việc học.\n",
    "* Cột fuelType và vEfuelType là giống nhau (do quá trình crawl nhóm không để ý), có thể drop cột fuelType.\n",
    "* Các cột url, name, model có nhiều ý nghĩa, nên có thể loại bỏ.\n",
    "* brand có thể xét vì có tới 89 giá trị (có khả năng sẽ có ý nghĩa với các brand có giá trị cao), modelDate cần xem xét.\n",
    "\n",
    "**=> Số cột còn lại là: eLabel (9), bodyType (11), driveWheelConfiguration (6), vEengineType (4), vEfuelType (11).**"
   ]
  },
  {
   "cell_type": "code",
   "execution_count": null,
   "metadata": {},
   "outputs": [],
   "source": [
    "# chuẩn hóa cột modelDate\n",
    "def norm_modelDate(x):\n",
    "    if (x == 0):\n",
    "        return None\n",
    "    else:\n",
    "        return str(x)\n",
    "df['modelDate'] = df['modelDate'].apply(norm_modelDate)\n",
    "df['modelDate'].unique()"
   ]
  },
  {
   "cell_type": "code",
   "execution_count": null,
   "metadata": {},
   "outputs": [],
   "source": [
    "df['driveWheelConfiguration'].unique()"
   ]
  },
  {
   "cell_type": "code",
   "execution_count": null,
   "metadata": {},
   "outputs": [],
   "source": [
    "df['bodyType'].unique()"
   ]
  },
  {
   "cell_type": "code",
   "execution_count": null,
   "metadata": {},
   "outputs": [],
   "source": [
    "df['eLabel'].unique()"
   ]
  },
  {
   "cell_type": "code",
   "execution_count": null,
   "metadata": {},
   "outputs": [],
   "source": [
    "df['vEengineType'].unique()"
   ]
  },
  {
   "cell_type": "code",
   "execution_count": null,
   "metadata": {},
   "outputs": [],
   "source": [
    "df['vEfuelType'].unique()"
   ]
  },
  {
   "cell_type": "markdown",
   "metadata": {},
   "source": [
    "* Cột driveWheelConfiguration không có giá trị lỗi ('N.A.', '-', ...)\n",
    "* Các cột bodyType, vEengineType, vEfuelType có chứa nan (đã được xử lý).\n",
    "* Cột eLabel có chứa các giá trị lỗi, cần được chuẩn hóa. Sau khi chuẩn hóa, dòng thiếu dữ liệu quá nhiều nên cần loại bỏ khi qua bước xử lý."
   ]
  },
  {
   "cell_type": "code",
   "execution_count": null,
   "metadata": {},
   "outputs": [],
   "source": [
    "def norm_eLabel(x):\n",
    "    if (x == 'N.A.' or x == '-'):\n",
    "        return None\n",
    "    else:\n",
    "        return x"
   ]
  },
  {
   "cell_type": "code",
   "execution_count": null,
   "metadata": {},
   "outputs": [],
   "source": [
    "df['eLabel'] = df['eLabel'].apply(norm_eLabel)"
   ]
  },
  {
   "cell_type": "code",
   "execution_count": null,
   "metadata": {},
   "outputs": [],
   "source": [
    "df[cat_cols].info()"
   ]
  },
  {
   "cell_type": "markdown",
   "metadata": {},
   "source": [
    "### Lưu ra file để tiện xử lý"
   ]
  },
  {
   "cell_type": "code",
   "execution_count": null,
   "metadata": {},
   "outputs": [],
   "source": [
    "# df.to_csv(\"cars_preprocessed_undrop.csv\", sep = \"\\t\", index=False, encoding='utf-8')"
   ]
  },
  {
   "cell_type": "markdown",
   "metadata": {
    "toc-hr-collapsed": true
   },
   "source": [
    "# Tiền xử lý dữ liệu và huấn luyện"
   ]
  },
  {
   "cell_type": "code",
   "execution_count": 2,
   "metadata": {},
   "outputs": [],
   "source": [
    "df_ori = pd.read_csv(\"../data/cars/train_data.csv\", sep = \"\\t\", encoding='utf-8')"
   ]
  },
  {
   "cell_type": "code",
   "execution_count": 3,
   "metadata": {},
   "outputs": [],
   "source": [
    "df = df_ori.copy()"
   ]
  },
  {
   "cell_type": "code",
   "execution_count": 4,
   "metadata": {},
   "outputs": [],
   "source": [
    "y = df['price']\n",
    "X = df.drop(['price'], axis = 1)"
   ]
  },
  {
   "cell_type": "code",
   "execution_count": 5,
   "metadata": {},
   "outputs": [],
   "source": [
    "# origin copy\n",
    "X_ori = X.copy()\n",
    "y_ori = y.copy()"
   ]
  },
  {
   "cell_type": "code",
   "execution_count": 6,
   "metadata": {},
   "outputs": [],
   "source": [
    "train_X, val_X, train_y, val_y = train_test_split(X, y, test_size=0.2, random_state=0)"
   ]
  },
  {
   "cell_type": "code",
   "execution_count": 7,
   "metadata": {},
   "outputs": [
    {
     "data": {
      "text/plain": [
       "(60472, 15118)"
      ]
     },
     "execution_count": 7,
     "metadata": {},
     "output_type": "execute_result"
    }
   ],
   "source": [
    "len(train_X), len(val_X)"
   ]
  },
  {
   "cell_type": "markdown",
   "metadata": {
    "toc-hr-collapsed": false
   },
   "source": [
    "## Tạo pipeline và build model"
   ]
  },
  {
   "cell_type": "markdown",
   "metadata": {
    "toc-hr-collapsed": true
   },
   "source": [
    "### Functions"
   ]
  },
  {
   "cell_type": "markdown",
   "metadata": {},
   "source": [
    "#### Multilabel Encoding"
   ]
  },
  {
   "cell_type": "code",
   "execution_count": 8,
   "metadata": {},
   "outputs": [],
   "source": [
    "def f(x, l):\n",
    "    if type(x) is list:\n",
    "        l.update(x)\n",
    "class MultilabelEncoding(BaseEstimator, TransformerMixin):\n",
    "    def __init__(self, col_name):\n",
    "        self.col_name = col_name\n",
    "        self.type_list = set()\n",
    "    def fit(self, X_df, y=None):\n",
    "        types_sr = X_df[self.col_name].str.replace('[/+]', ' ').str.split()\n",
    "        types_sr.apply(f, args=(self.type_list,))\n",
    "        self.type_list = list(self.type_list)\n",
    "        return self\n",
    "    def transform(self, X_df, y=None):\n",
    "        transformed_df = X_df.copy()\n",
    "        for i in range(len(self.type_list)):\n",
    "            transformed_df[self.col_name + '_' + self.type_list[i]] = transformed_df[self.col_name].apply(lambda x: 1 if ((type(x) is str) and (self.type_list[i] in x)) else 0)\n",
    "        transformed_df.drop(self.col_name, axis=1, inplace=True)\n",
    "        return transformed_df"
   ]
  },
  {
   "cell_type": "markdown",
   "metadata": {},
   "source": [
    "#### col add and drop"
   ]
  },
  {
   "cell_type": "code",
   "execution_count": 9,
   "metadata": {},
   "outputs": [],
   "source": [
    "class ColAdderDropper(BaseEstimator, TransformerMixin):\n",
    "    def __init__(self, num_top_brands = 10):\n",
    "        # TODO\n",
    "        self.num_top_brands = num_top_brands\n",
    "        self.dropped_cols = ['url', 'name', 'model', 'weightTotal', 'fuelType', 'vehicleTransmission', 'modelDate']\n",
    "    def fit(self, X_df, y=None):\n",
    "        brand_col = X_df.brand.str.extract(r'([a-zA-z]+)', expand=False)\n",
    "        self.brand_counts_ = brand_col.value_counts()\n",
    "        brands = list(self.brand_counts_.index)\n",
    "        self.top_brands_ = brands[:max(1, min(self.num_top_brands, len(brands)))]\n",
    "        return self\n",
    "    def transform(self, X_df, y=None):\n",
    "        df = X_df.copy()\n",
    "        brand_col = df.brand.str.extract(\"([a-zA-z]+)\", expand=False)\n",
    "        brand_col[~brand_col.isin(self.top_brands_)] = 'Others'\n",
    "        df[\"brand\"] = brand_col\n",
    "        df.drop(self.dropped_cols, axis=1, inplace=True)\n",
    "        return df"
   ]
  },
  {
   "cell_type": "code",
   "execution_count": 10,
   "metadata": {},
   "outputs": [],
   "source": [
    "cat_multi = ['vEfuelType', 'driveWheelConfiguration']\n",
    "cat_single = ['brand', 'eLabel', 'bodyType', 'vEengineType']"
   ]
  },
  {
   "cell_type": "code",
   "execution_count": 11,
   "metadata": {},
   "outputs": [],
   "source": [
    "col_adderdropper = ColAdderDropper()"
   ]
  },
  {
   "cell_type": "code",
   "execution_count": 12,
   "metadata": {},
   "outputs": [],
   "source": [
    "num_cols = []\n",
    "for col in X.columns:\n",
    "    if (not col in cat_single) and (not col in cat_multi) and (not col in col_adderdropper.dropped_cols):\n",
    "        num_cols.append(col)"
   ]
  },
  {
   "cell_type": "code",
   "execution_count": 13,
   "metadata": {},
   "outputs": [
    {
     "data": {
      "text/plain": [
       "(20, 4, 2)"
      ]
     },
     "execution_count": 13,
     "metadata": {},
     "output_type": "execute_result"
    }
   ],
   "source": [
    "len(num_cols), len(cat_single), len(cat_multi)"
   ]
  },
  {
   "cell_type": "markdown",
   "metadata": {},
   "source": [
    "#### Hàm train và validate model"
   ]
  },
  {
   "cell_type": "code",
   "execution_count": 15,
   "metadata": {},
   "outputs": [],
   "source": [
    "def train_and_val(full_pipeline, train_X, train_y, val_X, val_y):\n",
    "    full_pipeline.fit(train_X, train_y);\n",
    "    #print(\"n_brands:\", len(col_adderdropper.top_brands_))\n",
    "    pred_y = full_pipeline.predict(val_X)\n",
    "    train_score = full_pipeline.score(train_X, train_y)\n",
    "    val_score = full_pipeline.score(val_X, val_y)\n",
    "    print(train_score, val_score)\n",
    "    print(\"MSE =\", np.round(np.mean((pred_y - val_y) ** 2), 3))\n",
    "    print(\"MAE =\", np.round(np.mean(np.abs(pred_y - val_y)), 3))\n",
    "    return train_score, val_score"
   ]
  },
  {
   "cell_type": "markdown",
   "metadata": {},
   "source": [
    "### các pipeline cần thiết cho pipeline cho preprocessing"
   ]
  },
  {
   "cell_type": "code",
   "execution_count": null,
   "metadata": {},
   "outputs": [],
   "source": [
    "imp_mean = SimpleImputer(strategy='mean') \n",
    "imp_mode = SimpleImputer(strategy='most_frequent')\n",
    "\n",
    "encoding = OneHotEncoder(handle_unknown='ignore', sparse=False)\n",
    "vEfuelType_encoder = MultilabelEncoding('vEfuelType')\n",
    "driveWheelConfig_encoder = MultilabelEncoding('driveWheelConfiguration')\n",
    "\n",
    "categorical_transformer = make_pipeline(imp_mode, encoding)\n",
    "\n",
    "colTransform = ColumnTransformer(transformers=[('numerical', imp_mean, num_cols),\\\n",
    "                                               ('categorical', categorical_transformer, cat_single),\n",
    "                                               ('vEfuelType', vEfuelType_encoder, ['vEfuelType']),\n",
    "                                               ('driveWheelConfig', driveWheelConfig_encoder, ['driveWheelConfiguration'])])\n",
    "\n",
    "colNormalize = StandardScaler()\n",
    "\n",
    "#preprocessing = make_pipeline(col_adderdropper, colTransform, colNormalize)"
   ]
  },
  {
   "cell_type": "markdown",
   "metadata": {
    "toc-hr-collapsed": true
   },
   "source": [
    "### Full pipeline với MLPRegressor"
   ]
  },
  {
   "cell_type": "code",
   "execution_count": 46,
   "metadata": {},
   "outputs": [
    {
     "name": "stdout",
     "output_type": "stream",
     "text": [
      "Iteration 1, loss = 118.21336992\n",
      "Validation score: 0.918466\n",
      "Iteration 2, loss = 51.59492660\n",
      "Validation score: 0.927055\n",
      "Iteration 3, loss = 41.17943512\n",
      "Validation score: 0.917445\n",
      "Iteration 4, loss = 40.57601921\n",
      "Validation score: 0.943541\n",
      "Iteration 5, loss = 38.07106105\n",
      "Validation score: 0.931364\n",
      "Iteration 6, loss = 36.02121967\n",
      "Validation score: 0.942704\n",
      "Iteration 7, loss = 32.45201083\n",
      "Validation score: 0.950768\n",
      "Iteration 8, loss = 30.50328812\n",
      "Validation score: 0.948153\n",
      "Iteration 9, loss = 30.07735884\n",
      "Validation score: 0.895205\n",
      "Iteration 10, loss = 29.28604368\n",
      "Validation score: 0.957604\n",
      "Iteration 11, loss = 26.19919631\n",
      "Validation score: 0.947231\n",
      "Iteration 12, loss = 25.17911201\n",
      "Validation score: 0.957905\n",
      "Iteration 13, loss = 22.67125845\n",
      "Validation score: 0.957836\n",
      "Iteration 14, loss = 21.64723883\n",
      "Validation score: 0.933712\n",
      "Iteration 15, loss = 25.12423811\n",
      "Validation score: 0.961494\n",
      "Iteration 16, loss = 19.95843145\n",
      "Validation score: 0.962914\n",
      "Iteration 17, loss = 17.98747073\n",
      "Validation score: 0.967991\n",
      "Iteration 18, loss = 17.27126347\n",
      "Validation score: 0.965192\n",
      "Iteration 19, loss = 15.38981519\n",
      "Validation score: 0.962873\n",
      "Iteration 20, loss = 15.77119681\n",
      "Validation score: 0.951802\n",
      "Iteration 21, loss = 15.99277234\n",
      "Validation score: 0.959848\n",
      "Iteration 22, loss = 13.67023559\n",
      "Validation score: 0.962216\n",
      "Iteration 23, loss = 13.31419932\n",
      "Validation score: 0.967131\n",
      "Iteration 24, loss = 12.51908360\n",
      "Validation score: 0.967137\n",
      "Iteration 25, loss = 13.62178387\n",
      "Validation score: 0.971712\n",
      "Iteration 26, loss = 12.73121154\n",
      "Validation score: 0.965297\n",
      "Iteration 27, loss = 13.66354199\n",
      "Validation score: 0.966286\n",
      "Iteration 28, loss = 11.49624199\n",
      "Validation score: 0.959731\n",
      "Iteration 29, loss = 12.25425496\n",
      "Validation score: 0.966496\n",
      "Iteration 30, loss = 11.83336324\n",
      "Validation score: 0.959774\n",
      "Iteration 31, loss = 12.91297174\n",
      "Validation score: 0.942822\n",
      "Iteration 32, loss = 14.14686553\n",
      "Validation score: 0.969457\n",
      "Iteration 33, loss = 11.03343270\n",
      "Validation score: 0.961694\n",
      "Iteration 34, loss = 11.10213482\n",
      "Validation score: 0.971472\n",
      "Iteration 35, loss = 15.45990996\n",
      "Validation score: 0.962555\n",
      "Iteration 36, loss = 11.09826902\n",
      "Validation score: 0.961110\n",
      "Validation score did not improve more than tol=0.000100 for 10 consecutive epochs. Stopping.\n",
      "0.9771158431945284 0.749004253783355\n",
      "MSE = 227.407\n",
      "MAE = 2.91\n"
     ]
    },
    {
     "data": {
      "text/plain": [
       "(0.9771158431945284, 0.749004253783355)"
      ]
     },
     "execution_count": 46,
     "metadata": {},
     "output_type": "execute_result"
    }
   ],
   "source": [
    "mlpregressor = MLPRegressor(hidden_layer_sizes=(512, 512, ), solver='adam', learning_rate='adaptive'\\\n",
    "                            ,random_state=0, max_iter=500, early_stopping=True, verbose=1)\n",
    "\n",
    "# preprocessing.set_params(coladderdropper__num_top_brands = 100)\n",
    "\n",
    "full_pipeline = make_pipeline(col_adderdropper, colTransform, colNormalize, mlpregressor)\n",
    "\n",
    "full_pipeline.set_params(coladderdropper__num_top_brands = 100)\n",
    "\n",
    "train_and_val(full_pipeline, train_X, train_y, val_X, val_y)"
   ]
  },
  {
   "cell_type": "markdown",
   "metadata": {},
   "source": [
    "#### model (512, 256, 512)"
   ]
  },
  {
   "cell_type": "code",
   "execution_count": 49,
   "metadata": {},
   "outputs": [
    {
     "name": "stdout",
     "output_type": "stream",
     "text": [
      "...\n",
      "0.981888215514595 0.7352570716057742\n",
      "MSE = 239.862\n",
      "MAE = 2.776\n"
     ]
    },
    {
     "data": {
      "text/plain": [
       "(0.981888215514595, 0.7352570716057742)"
      ]
     },
     "execution_count": 49,
     "metadata": {},
     "output_type": "execute_result"
    }
   ],
   "source": [
    "full_pipeline.set_params(mlpregressor__verbose=0, mlpregressor__hidden_layer_sizes=(512, 256, 512, ))\n",
    "print('...')\n",
    "train_and_val(full_pipeline, train_X, train_y, val_X, val_y)"
   ]
  },
  {
   "cell_type": "markdown",
   "metadata": {},
   "source": [
    "#### model (256, 256, 256)"
   ]
  },
  {
   "cell_type": "code",
   "execution_count": 51,
   "metadata": {},
   "outputs": [
    {
     "name": "stdout",
     "output_type": "stream",
     "text": [
      "...\n",
      "0.9642044573025929 0.8159559148084718\n",
      "MSE = 166.747\n",
      "MAE = 3.092\n"
     ]
    },
    {
     "data": {
      "text/plain": [
       "(0.9642044573025929, 0.8159559148084718)"
      ]
     },
     "execution_count": 51,
     "metadata": {},
     "output_type": "execute_result"
    }
   ],
   "source": [
    "full_pipeline.set_params(mlpregressor__verbose=0, mlpregressor__hidden_layer_sizes=(256, 256, 256, ))\n",
    "print('...')\n",
    "train_and_val(full_pipeline, train_X, train_y, val_X, val_y)"
   ]
  },
  {
   "cell_type": "markdown",
   "metadata": {},
   "source": [
    "#### model (256, 512, 256)"
   ]
  },
  {
   "cell_type": "code",
   "execution_count": 53,
   "metadata": {},
   "outputs": [
    {
     "name": "stdout",
     "output_type": "stream",
     "text": [
      "...\n",
      "0.9753737214003044 0.8785176367245763\n",
      "MSE = 110.065\n",
      "MAE = 2.886\n"
     ]
    },
    {
     "data": {
      "text/plain": [
       "(0.9753737214003044, 0.8785176367245763)"
      ]
     },
     "execution_count": 53,
     "metadata": {},
     "output_type": "execute_result"
    }
   ],
   "source": [
    "full_pipeline.set_params(mlpregressor__verbose=0, mlpregressor__hidden_layer_sizes=(256, 512, 256, ))\n",
    "print('...')\n",
    "train_and_val(full_pipeline, train_X, train_y, val_X, val_y)"
   ]
  },
  {
   "cell_type": "markdown",
   "metadata": {},
   "source": [
    "#### model (256, 512, 512, 256)"
   ]
  },
  {
   "cell_type": "code",
   "execution_count": 57,
   "metadata": {},
   "outputs": [
    {
     "name": "stdout",
     "output_type": "stream",
     "text": [
      "...\n",
      "0.9469180582378245 0.8917373042694016\n",
      "MSE = 98.088\n",
      "MAE = 3.41\n"
     ]
    },
    {
     "data": {
      "text/plain": [
       "(0.9469180582378245, 0.8917373042694016)"
      ]
     },
     "execution_count": 57,
     "metadata": {},
     "output_type": "execute_result"
    }
   ],
   "source": [
    "full_pipeline.set_params(mlpregressor__verbose=0, mlpregressor__hidden_layer_sizes=(256, 512, 512, 256, ))\n",
    "print('...')\n",
    "train_and_val(full_pipeline, train_X, train_y, val_X, val_y)"
   ]
  },
  {
   "cell_type": "markdown",
   "metadata": {},
   "source": [
    "#### model (256, 512, 512, 256, 128)"
   ]
  },
  {
   "cell_type": "code",
   "execution_count": 58,
   "metadata": {},
   "outputs": [
    {
     "name": "stdout",
     "output_type": "stream",
     "text": [
      "...\n",
      "0.968874482026066 0.8829205161438752\n",
      "MSE = 106.076\n",
      "MAE = 3.27\n"
     ]
    },
    {
     "data": {
      "text/plain": [
       "(0.968874482026066, 0.8829205161438752)"
      ]
     },
     "execution_count": 58,
     "metadata": {},
     "output_type": "execute_result"
    }
   ],
   "source": [
    "full_pipeline.set_params(mlpregressor__verbose=0, mlpregressor__hidden_layer_sizes=(256, 512, 512, 256, 128, ))\n",
    "print('...')\n",
    "train_and_val(full_pipeline, train_X, train_y, val_X, val_y)"
   ]
  },
  {
   "cell_type": "markdown",
   "metadata": {},
   "source": [
    "#### model (256, 512, 512, 512, 256)"
   ]
  },
  {
   "cell_type": "code",
   "execution_count": 62,
   "metadata": {},
   "outputs": [
    {
     "name": "stdout",
     "output_type": "stream",
     "text": [
      "...\n",
      "0.9739361561697789 0.8771331410776515\n",
      "MSE = 111.32\n",
      "MAE = 2.858\n"
     ]
    },
    {
     "data": {
      "text/plain": [
       "(0.9739361561697789, 0.8771331410776515)"
      ]
     },
     "execution_count": 62,
     "metadata": {},
     "output_type": "execute_result"
    }
   ],
   "source": [
    "full_pipeline.set_params(mlpregressor__verbose=0, mlpregressor__hidden_layer_sizes=(256, 512, 512, 512, 256, ))\n",
    "print('...')\n",
    "train_and_val(full_pipeline, train_X, train_y, val_X, val_y)"
   ]
  },
  {
   "cell_type": "code",
   "execution_count": 16,
   "metadata": {},
   "outputs": [],
   "source": [
    "# mlpregressor = MLPRegressor(hidden_layer_sizes=(16, 32, 64, 64, 32, 16, ), solver='adam', learning_rate='adaptive'\\\n",
    "#                             ,random_state=0, max_iter=500, early_stopping=True, verbose=0)\n",
    "# full_pipeline = make_pipeline(col_adderdropper, colTransform, colNormalize, mlpregressor)"
   ]
  },
  {
   "cell_type": "markdown",
   "metadata": {},
   "source": [
    "#### Chọn model (256, 512, 512, 256) đạt val cao nhất ở trên"
   ]
  },
  {
   "cell_type": "code",
   "execution_count": 63,
   "metadata": {},
   "outputs": [
    {
     "name": "stdout",
     "output_type": "stream",
     "text": [
      "...\n",
      "0.9791494784842625 0.43344014041802026\n",
      "MSE = 513.313\n",
      "MAE = 2.988\n",
      "\n",
      "...\n",
      "0.9731883254778363 0.8046131333876603\n",
      "MSE = 177.024\n",
      "MAE = 2.988\n",
      "\n",
      "...\n",
      "0.9829765185771713 0.8876575305881531\n",
      "MSE = 101.784\n",
      "MAE = 2.753\n",
      "\n",
      "...\n",
      "0.976672852667346 0.6743385800656309\n",
      "MSE = 295.055\n",
      "MAE = 2.917\n",
      "\n",
      "...\n",
      "0.9832243972846563 0.5834422253188625\n",
      "MSE = 377.409\n",
      "MAE = 2.751\n",
      "\n",
      "...\n",
      "0.984801314293368 0.690991486883802\n",
      "MSE = 279.967\n",
      "MAE = 2.73\n",
      "\n",
      "...\n",
      "0.979575290423483 0.4079606426540987\n",
      "MSE = 536.398\n",
      "MAE = 2.939\n",
      "\n",
      "...\n",
      "0.975239152304768 0.5262786659719526\n",
      "MSE = 429.2\n",
      "MAE = 3.054\n",
      "\n",
      "...\n",
      "0.9705926095608685 0.44741376702971125\n",
      "MSE = 500.653\n",
      "MAE = 3.09\n",
      "\n",
      "...\n",
      "0.9782401532901732 0.8268903813601218\n",
      "MSE = 156.84\n",
      "MAE = 2.881\n",
      "\n",
      "...\n",
      "0.9793347470305559 0.6632491395877306\n",
      "MSE = 305.102\n",
      "MAE = 2.697\n",
      "\n",
      "...\n",
      "0.9831734794316592 0.6513520997837019\n",
      "MSE = 315.881\n",
      "MAE = 2.734\n",
      "\n",
      "...\n",
      "0.9699991800617898 0.7943542003140663\n",
      "MSE = 186.319\n",
      "MAE = 3.063\n",
      "\n",
      "...\n",
      "0.9702111745202495 0.8246429957225752\n",
      "MSE = 158.877\n",
      "MAE = 3.047\n",
      "\n",
      "...\n",
      "0.9624448018585803 0.8257609143790342\n",
      "MSE = 157.864\n",
      "MAE = 3.288\n",
      "\n",
      "...\n",
      "0.9713321102687602 0.9084258826395483\n",
      "MSE = 82.968\n",
      "MAE = 2.946\n",
      "\n",
      "...\n",
      "0.9735414214566468 0.7892432990403851\n",
      "MSE = 190.949\n",
      "MAE = 2.945\n",
      "\n",
      "...\n",
      "0.9469180582378245 0.8917373042694016\n",
      "MSE = 98.088\n",
      "MAE = 3.41\n",
      "\n"
     ]
    },
    {
     "data": {
      "text/plain": [
       "'Finish!'"
      ]
     },
     "execution_count": 63,
     "metadata": {},
     "output_type": "execute_result"
    }
   ],
   "source": [
    "full_pipeline.set_params(mlpregressor__verbose=0, mlpregressor__hidden_layer_sizes=(256, 512, 512, 256, ))\n",
    "nn_train_scores, nn_val_scores = [], []\n",
    "best_n_brands, nn_best_val_score = 10, -float('inf')\n",
    "for n_brands in range(5, 95, 5):\n",
    "    print('...')\n",
    "    full_pipeline.set_params(coladderdropper__num_top_brands=n_brands)\n",
    "    train_score, val_score = train_and_val(full_pipeline, train_X, train_y, val_X, val_y)\n",
    "    if (nn_best_val_score < val_score):\n",
    "        nn_best_val_score = val_score\n",
    "        best_n_brands = n_brands\n",
    "    nn_train_scores.append(train_score)\n",
    "    nn_val_scores.append(val_score)\n",
    "    print()\n",
    "'Finish!'"
   ]
  },
  {
   "cell_type": "code",
   "execution_count": 64,
   "metadata": {},
   "outputs": [
    {
     "data": {
      "text/plain": [
       "(80, 0.9084258826395483)"
      ]
     },
     "execution_count": 64,
     "metadata": {},
     "output_type": "execute_result"
    }
   ],
   "source": [
    "best_n_brands, nn_best_val_score"
   ]
  },
  {
   "cell_type": "markdown",
   "metadata": {},
   "source": [
    "#### train model với số lượng brands tốt nhất tìm được"
   ]
  },
  {
   "cell_type": "code",
   "execution_count": 73,
   "metadata": {},
   "outputs": [
    {
     "name": "stdout",
     "output_type": "stream",
     "text": [
      "Iteration 1, loss = 110.52255792\n",
      "Validation score: 0.912572\n",
      "Iteration 2, loss = 49.38537994\n",
      "Validation score: 0.929341\n",
      "Iteration 3, loss = 42.36607669\n",
      "Validation score: 0.907784\n",
      "Iteration 4, loss = 37.45430971\n",
      "Validation score: 0.908483\n",
      "Iteration 5, loss = 34.44423371\n",
      "Validation score: 0.932812\n",
      "Iteration 6, loss = 31.64429352\n",
      "Validation score: 0.946523\n",
      "Iteration 7, loss = 32.71341469\n",
      "Validation score: 0.953914\n",
      "Iteration 8, loss = 30.87134850\n",
      "Validation score: 0.944977\n",
      "Iteration 9, loss = 28.41512787\n",
      "Validation score: 0.930272\n",
      "Iteration 10, loss = 24.64215567\n",
      "Validation score: 0.941124\n",
      "Iteration 11, loss = 20.85456710\n",
      "Validation score: 0.949821\n",
      "Iteration 12, loss = 23.11471746\n",
      "Validation score: 0.949044\n",
      "Iteration 13, loss = 22.16119754\n",
      "Validation score: 0.958072\n",
      "Iteration 14, loss = 20.22076275\n",
      "Validation score: 0.961556\n",
      "Iteration 15, loss = 17.69097487\n",
      "Validation score: 0.954782\n",
      "Iteration 16, loss = 16.27896902\n",
      "Validation score: 0.954013\n",
      "Iteration 17, loss = 14.89289736\n",
      "Validation score: 0.957843\n",
      "Iteration 18, loss = 14.96681996\n",
      "Validation score: 0.936369\n",
      "Iteration 19, loss = 23.34552728\n",
      "Validation score: 0.905699\n",
      "Iteration 20, loss = 18.67854719\n",
      "Validation score: 0.965598\n",
      "Iteration 21, loss = 16.35226227\n",
      "Validation score: 0.958698\n",
      "Iteration 22, loss = 14.46211324\n",
      "Validation score: 0.958166\n",
      "Iteration 23, loss = 13.68213376\n",
      "Validation score: 0.954218\n",
      "Iteration 24, loss = 13.14761271\n",
      "Validation score: 0.957768\n",
      "Iteration 25, loss = 13.89377862\n",
      "Validation score: 0.944708\n",
      "Iteration 26, loss = 17.46279897\n",
      "Validation score: 0.953436\n",
      "Iteration 27, loss = 11.70474936\n",
      "Validation score: 0.959586\n",
      "Iteration 28, loss = 12.08082394\n",
      "Validation score: 0.956800\n",
      "Iteration 29, loss = 13.07134471\n",
      "Validation score: 0.953973\n",
      "Iteration 30, loss = 14.25020188\n",
      "Validation score: 0.963610\n",
      "Iteration 31, loss = 13.64214978\n",
      "Validation score: 0.957998\n",
      "Validation score did not improve more than tol=0.000100 for 10 consecutive epochs. Stopping.\n",
      "0.9713321102687602 0.9084258826395483\n",
      "MSE = 82.968\n",
      "MAE = 2.946\n"
     ]
    },
    {
     "data": {
      "text/plain": [
       "(0.9713321102687602, 0.9084258826395483)"
      ]
     },
     "execution_count": 73,
     "metadata": {},
     "output_type": "execute_result"
    }
   ],
   "source": [
    "full_pipeline = make_pipeline(col_adderdropper, colTransform, colNormalize, mlpregressor)\n",
    "full_pipeline.set_params(coladderdropper__num_top_brands=best_n_brands, mlpregressor__verbose=1)\n",
    "train_and_val(full_pipeline, train_X, train_y, val_X, val_y)"
   ]
  },
  {
   "cell_type": "markdown",
   "metadata": {},
   "source": [
    "#### save model"
   ]
  },
  {
   "cell_type": "code",
   "execution_count": 74,
   "metadata": {},
   "outputs": [
    {
     "data": {
      "text/plain": [
       "['nn_80.pkl']"
      ]
     },
     "execution_count": 74,
     "metadata": {},
     "output_type": "execute_result"
    }
   ],
   "source": [
    "# joblib.dump(full_pipeline, 'nn_80.pkl')"
   ]
  },
  {
   "cell_type": "markdown",
   "metadata": {},
   "source": [
    "### full pipeline với RandomForestRegressor"
   ]
  },
  {
   "cell_type": "code",
   "execution_count": 31,
   "metadata": {},
   "outputs": [],
   "source": [
    "rfregressor = RandomForestRegressor(n_estimators=1, random_state=0, verbose=1)\n",
    "full_pipeline = make_pipeline(col_adderdropper, colTransform, colNormalize, rfregressor)\n",
    "full_pipeline.set_params(coladderdropper__num_top_brands = 90);"
   ]
  },
  {
   "cell_type": "code",
   "execution_count": 37,
   "metadata": {},
   "outputs": [
    {
     "name": "stdout",
     "output_type": "stream",
     "text": [
      "n_estimators:  1\n",
      "0.9718247797364523 0.9478718245603407\n",
      "MSE = 47.229\n",
      "MAE = 3.163\n",
      "\n",
      "n_estimators:  2\n",
      "0.9828131031479419 0.9606942242194864\n",
      "MSE = 35.612\n",
      "MAE = 2.875\n",
      "\n",
      "n_estimators:  4\n",
      "0.986878391887526 0.9665858439464541\n",
      "MSE = 30.274\n",
      "MAE = 2.673\n",
      "\n",
      "n_estimators:  8\n",
      "0.9884801786779545 0.9730351534046627\n",
      "MSE = 24.431\n",
      "MAE = 2.554\n",
      "\n",
      "n_estimators:  16\n",
      "0.9903936076513717 0.9762188046877665\n",
      "MSE = 21.546\n",
      "MAE = 2.502\n",
      "\n",
      "n_estimators:  32\n",
      "0.9913698175139225 0.9761451846033995\n",
      "MSE = 21.613\n",
      "MAE = 2.471\n",
      "\n",
      "n_estimators:  64\n",
      "0.9916120780081737 0.9762780659135604\n",
      "MSE = 21.492\n",
      "MAE = 2.455\n",
      "\n",
      "n_estimators:  128\n",
      "0.9919707938386294 0.9762435383099555\n",
      "MSE = 21.524\n",
      "MAE = 2.449\n",
      "\n",
      "n_estimators:  256\n",
      "0.9920670454581194 0.9765652539792711\n",
      "MSE = 21.232\n",
      "MAE = 2.444\n",
      "\n",
      "n_estimators:  512\n",
      "0.9920278565547928 0.9765225206626313\n",
      "MSE = 21.271\n",
      "MAE = 2.445\n",
      "\n"
     ]
    }
   ],
   "source": [
    "full_pipeline.set_params(randomforestregressor__verbose = 0)\n",
    "rf_train_scores, rf_val_scores = [], []\n",
    "best_n_estimators, best_val_score = 1, -float('inf')\n",
    "n_estimators = 1\n",
    "while (n_estimators < 1024):\n",
    "    print('n_estimators: ',n_estimators)\n",
    "    full_pipeline.set_params(randomforestregressor__n_estimators = n_estimators)\n",
    "    train_score, val_score = train_and_val(full_pipeline, train_X, train_y, val_X, val_y)\n",
    "    rf_train_scores.append(train_score)\n",
    "    rf_val_scores.append(val_score)\n",
    "    if best_val_score < val_score:\n",
    "        best_val_score, best_n_estimators = val_score, n_estimators\n",
    "    n_estimators *= 2\n",
    "    print()"
   ]
  },
  {
   "cell_type": "code",
   "execution_count": 65,
   "metadata": {},
   "outputs": [
    {
     "name": "stderr",
     "output_type": "stream",
     "text": [
      "[Parallel(n_jobs=1)]: Using backend SequentialBackend with 1 concurrent workers.\n",
      "[Parallel(n_jobs=1)]: Done 1024 out of 1024 | elapsed: 30.7min finished\n",
      "[Parallel(n_jobs=1)]: Using backend SequentialBackend with 1 concurrent workers.\n",
      "[Parallel(n_jobs=1)]: Done 1024 out of 1024 | elapsed:  4.8min finished\n",
      "[Parallel(n_jobs=1)]: Using backend SequentialBackend with 1 concurrent workers.\n",
      "[Parallel(n_jobs=1)]: Done 1024 out of 1024 | elapsed:  8.9min finished\n",
      "[Parallel(n_jobs=1)]: Using backend SequentialBackend with 1 concurrent workers.\n",
      "[Parallel(n_jobs=1)]: Done 1024 out of 1024 | elapsed:  6.6min finished\n"
     ]
    },
    {
     "name": "stdout",
     "output_type": "stream",
     "text": [
      "0.9921103998585453 0.9766075892992062\n",
      "MSE = 21.194\n",
      "MAE = 2.443\n"
     ]
    },
    {
     "data": {
      "text/plain": [
       "(0.9921103998585453, 0.9766075892992062)"
      ]
     },
     "execution_count": 65,
     "metadata": {},
     "output_type": "execute_result"
    }
   ],
   "source": [
    "rfregressor = RandomForestRegressor(n_estimators=1024, random_state=0, verbose=1)\n",
    "full_pipeline = make_pipeline(col_adderdropper, colTransform, colNormalize, rfregressor)\n",
    "full_pipeline.set_params(coladderdropper__num_top_brands = 90)\n",
    "train_and_val(full_pipeline, train_X, train_y, val_X, val_y)"
   ]
  },
  {
   "cell_type": "code",
   "execution_count": 71,
   "metadata": {},
   "outputs": [
    {
     "data": {
      "text/plain": [
       "['rf_1024.pkl']"
      ]
     },
     "execution_count": 71,
     "metadata": {},
     "output_type": "execute_result"
    }
   ],
   "source": [
    "# save model\n",
    "# joblib.dump(full_pipeline, 'rf_1024.pkl')"
   ]
  },
  {
   "cell_type": "markdown",
   "metadata": {},
   "source": [
    "# Testing"
   ]
  },
  {
   "cell_type": "code",
   "execution_count": null,
   "metadata": {},
   "outputs": [],
   "source": [
    "#full_pipeline.set_params(mlpregressor__alpha=best_alpha)\n",
    "pred_y = full_pipeline.predict(test_X)"
   ]
  },
  {
   "cell_type": "code",
   "execution_count": null,
   "metadata": {},
   "outputs": [],
   "source": [
    "pred_y"
   ]
  },
  {
   "cell_type": "code",
   "execution_count": null,
   "metadata": {},
   "outputs": [],
   "source": [
    "np.array(test_y)"
   ]
  },
  {
   "cell_type": "code",
   "execution_count": null,
   "metadata": {},
   "outputs": [],
   "source": [
    "np.mean(np.abs(pred_y - test_y))"
   ]
  },
  {
   "cell_type": "code",
   "execution_count": null,
   "metadata": {},
   "outputs": [],
   "source": [
    "np.mean(np.abs(pred_y - test_y))"
   ]
  },
  {
   "cell_type": "code",
   "execution_count": null,
   "metadata": {},
   "outputs": [],
   "source": [
    "np.mean((pred_y - test_y) ** 2)"
   ]
  },
  {
   "cell_type": "code",
   "execution_count": null,
   "metadata": {},
   "outputs": [],
   "source": [
    "np.mean((pred_y - test_y) ** 2)"
   ]
  },
  {
   "cell_type": "code",
   "execution_count": null,
   "metadata": {},
   "outputs": [],
   "source": []
  }
 ],
 "metadata": {
  "kernelspec": {
   "display_name": "Python 3",
   "language": "python",
   "name": "python3"
  },
  "language_info": {
   "codemirror_mode": {
    "name": "ipython",
    "version": 3
   },
   "file_extension": ".py",
   "mimetype": "text/x-python",
   "name": "python",
   "nbconvert_exporter": "python",
   "pygments_lexer": "ipython3",
   "version": "3.7.1"
  }
 },
 "nbformat": 4,
 "nbformat_minor": 4
}
