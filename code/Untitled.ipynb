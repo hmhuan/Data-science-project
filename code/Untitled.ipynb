{
 "cells": [
  {
   "cell_type": "code",
   "execution_count": 1,
   "metadata": {},
   "outputs": [],
   "source": [
    "from xgboost import XGBClassifier\n",
    "from matplotlib import pyplot\n",
    "import pandas as pd\n",
    "import numpy as np\n",
    "\n",
    "from sklearn.model_selection import train_test_split\n",
    "from sklearn.preprocessing import OneHotEncoder, StandardScaler\n",
    "from sklearn.impute import SimpleImputer\n",
    "from sklearn.base import BaseEstimator, TransformerMixin\n",
    "from sklearn.pipeline import Pipeline, make_pipeline\n",
    "from sklearn.compose import ColumnTransformer, make_column_transformer"
   ]
  },
  {
   "cell_type": "code",
   "execution_count": 2,
   "metadata": {},
   "outputs": [
    {
     "data": {
      "text/html": [
       "<div>\n",
       "<style scoped>\n",
       "    .dataframe tbody tr th:only-of-type {\n",
       "        vertical-align: middle;\n",
       "    }\n",
       "\n",
       "    .dataframe tbody tr th {\n",
       "        vertical-align: top;\n",
       "    }\n",
       "\n",
       "    .dataframe thead th {\n",
       "        text-align: right;\n",
       "    }\n",
       "</style>\n",
       "<table border=\"1\" class=\"dataframe\">\n",
       "  <thead>\n",
       "    <tr style=\"text-align: right;\">\n",
       "      <th></th>\n",
       "      <th>url</th>\n",
       "      <th>name</th>\n",
       "      <th>model</th>\n",
       "      <th>brand</th>\n",
       "      <th>price</th>\n",
       "      <th>eLabel</th>\n",
       "      <th>bodyType</th>\n",
       "      <th>length</th>\n",
       "      <th>height</th>\n",
       "      <th>width</th>\n",
       "      <th>...</th>\n",
       "      <th>fuelCapacity</th>\n",
       "      <th>fuelConsumption</th>\n",
       "      <th>speed</th>\n",
       "      <th>payload</th>\n",
       "      <th>trailerWeight</th>\n",
       "      <th>vEengineType</th>\n",
       "      <th>vEfuelType</th>\n",
       "      <th>vEengineDisplacement</th>\n",
       "      <th>vEenginePower</th>\n",
       "      <th>torque</th>\n",
       "    </tr>\n",
       "  </thead>\n",
       "  <tbody>\n",
       "    <tr>\n",
       "      <td>0</td>\n",
       "      <td>http://www.cars-data.com//en/audi-s3-quattro-s...</td>\n",
       "      <td>Audi S3 quattro</td>\n",
       "      <td>Audi S3</td>\n",
       "      <td>Audi</td>\n",
       "      <td>42.247</td>\n",
       "      <td>G</td>\n",
       "      <td>hatchback</td>\n",
       "      <td>4159.0</td>\n",
       "      <td>1415.0</td>\n",
       "      <td>1763.0</td>\n",
       "      <td>...</td>\n",
       "      <td>55.0</td>\n",
       "      <td>9.1</td>\n",
       "      <td>238.0</td>\n",
       "      <td>560.0</td>\n",
       "      <td>1600.0</td>\n",
       "      <td>dohc</td>\n",
       "      <td>petrol</td>\n",
       "      <td>1781.0</td>\n",
       "      <td>154.0</td>\n",
       "      <td>270.0</td>\n",
       "    </tr>\n",
       "    <tr>\n",
       "      <td>1</td>\n",
       "      <td>http://www.cars-data.com//en/audi-a6-avant-40-...</td>\n",
       "      <td>Audi A6 Avant 40 TDI</td>\n",
       "      <td>Audi A6 Avant</td>\n",
       "      <td>Audi</td>\n",
       "      <td>64.450</td>\n",
       "      <td>C</td>\n",
       "      <td>stationwagon</td>\n",
       "      <td>4939.0</td>\n",
       "      <td>1494.0</td>\n",
       "      <td>1886.0</td>\n",
       "      <td>...</td>\n",
       "      <td>73.0</td>\n",
       "      <td>4.5</td>\n",
       "      <td>241.0</td>\n",
       "      <td>645.0</td>\n",
       "      <td>2000.0</td>\n",
       "      <td>dohc</td>\n",
       "      <td>diesel</td>\n",
       "      <td>1968.0</td>\n",
       "      <td>0.0</td>\n",
       "      <td>400.0</td>\n",
       "    </tr>\n",
       "    <tr>\n",
       "      <td>2</td>\n",
       "      <td>http://www.cars-data.com//en/audi-a6-avant-45-...</td>\n",
       "      <td>Audi A6 Avant 45 TDI quattro</td>\n",
       "      <td>Audi A6 Avant</td>\n",
       "      <td>Audi</td>\n",
       "      <td>77.130</td>\n",
       "      <td>E</td>\n",
       "      <td>stationwagon</td>\n",
       "      <td>4939.0</td>\n",
       "      <td>1494.0</td>\n",
       "      <td>1886.0</td>\n",
       "      <td>...</td>\n",
       "      <td>73.0</td>\n",
       "      <td>5.7</td>\n",
       "      <td>250.0</td>\n",
       "      <td>695.0</td>\n",
       "      <td>2000.0</td>\n",
       "      <td>dohc</td>\n",
       "      <td>diesel</td>\n",
       "      <td>2967.0</td>\n",
       "      <td>0.0</td>\n",
       "      <td>500.0</td>\n",
       "    </tr>\n",
       "    <tr>\n",
       "      <td>3</td>\n",
       "      <td>http://www.cars-data.com//en/audi-a6-avant-50-...</td>\n",
       "      <td>Audi A6 Avant 50 TDI quattro</td>\n",
       "      <td>Audi A6 Avant</td>\n",
       "      <td>Audi</td>\n",
       "      <td>83.000</td>\n",
       "      <td>E</td>\n",
       "      <td>stationwagon</td>\n",
       "      <td>4939.0</td>\n",
       "      <td>1494.0</td>\n",
       "      <td>1886.0</td>\n",
       "      <td>...</td>\n",
       "      <td>73.0</td>\n",
       "      <td>5.7</td>\n",
       "      <td>250.0</td>\n",
       "      <td>695.0</td>\n",
       "      <td>2000.0</td>\n",
       "      <td>dohc</td>\n",
       "      <td>diesel</td>\n",
       "      <td>2967.0</td>\n",
       "      <td>0.0</td>\n",
       "      <td>620.0</td>\n",
       "    </tr>\n",
       "    <tr>\n",
       "      <td>4</td>\n",
       "      <td>http://www.cars-data.com//en/audi-a6-avant-45-...</td>\n",
       "      <td>Audi A6 Avant 45 TFSI</td>\n",
       "      <td>Audi A6 Avant</td>\n",
       "      <td>Audi</td>\n",
       "      <td>67.960</td>\n",
       "      <td>C</td>\n",
       "      <td>stationwagon</td>\n",
       "      <td>4939.0</td>\n",
       "      <td>1494.0</td>\n",
       "      <td>1886.0</td>\n",
       "      <td>...</td>\n",
       "      <td>73.0</td>\n",
       "      <td>6.3</td>\n",
       "      <td>250.0</td>\n",
       "      <td>630.0</td>\n",
       "      <td>2000.0</td>\n",
       "      <td>dohc</td>\n",
       "      <td>petrol</td>\n",
       "      <td>1984.0</td>\n",
       "      <td>0.0</td>\n",
       "      <td>370.0</td>\n",
       "    </tr>\n",
       "  </tbody>\n",
       "</table>\n",
       "<p>5 rows × 34 columns</p>\n",
       "</div>"
      ],
      "text/plain": [
       "                                                 url  \\\n",
       "0  http://www.cars-data.com//en/audi-s3-quattro-s...   \n",
       "1  http://www.cars-data.com//en/audi-a6-avant-40-...   \n",
       "2  http://www.cars-data.com//en/audi-a6-avant-45-...   \n",
       "3  http://www.cars-data.com//en/audi-a6-avant-50-...   \n",
       "4  http://www.cars-data.com//en/audi-a6-avant-45-...   \n",
       "\n",
       "                           name          model brand   price eLabel  \\\n",
       "0               Audi S3 quattro        Audi S3  Audi  42.247      G   \n",
       "1          Audi A6 Avant 40 TDI  Audi A6 Avant  Audi  64.450      C   \n",
       "2  Audi A6 Avant 45 TDI quattro  Audi A6 Avant  Audi  77.130      E   \n",
       "3  Audi A6 Avant 50 TDI quattro  Audi A6 Avant  Audi  83.000      E   \n",
       "4         Audi A6 Avant 45 TFSI  Audi A6 Avant  Audi  67.960      C   \n",
       "\n",
       "       bodyType  length  height   width  ...  fuelCapacity  fuelConsumption  \\\n",
       "0     hatchback  4159.0  1415.0  1763.0  ...          55.0              9.1   \n",
       "1  stationwagon  4939.0  1494.0  1886.0  ...          73.0              4.5   \n",
       "2  stationwagon  4939.0  1494.0  1886.0  ...          73.0              5.7   \n",
       "3  stationwagon  4939.0  1494.0  1886.0  ...          73.0              5.7   \n",
       "4  stationwagon  4939.0  1494.0  1886.0  ...          73.0              6.3   \n",
       "\n",
       "   speed  payload trailerWeight  vEengineType  vEfuelType  \\\n",
       "0  238.0    560.0        1600.0          dohc      petrol   \n",
       "1  241.0    645.0        2000.0          dohc      diesel   \n",
       "2  250.0    695.0        2000.0          dohc      diesel   \n",
       "3  250.0    695.0        2000.0          dohc      diesel   \n",
       "4  250.0    630.0        2000.0          dohc      petrol   \n",
       "\n",
       "   vEengineDisplacement  vEenginePower torque  \n",
       "0                1781.0          154.0  270.0  \n",
       "1                1968.0            0.0  400.0  \n",
       "2                2967.0            0.0  500.0  \n",
       "3                2967.0            0.0  620.0  \n",
       "4                1984.0            0.0  370.0  \n",
       "\n",
       "[5 rows x 34 columns]"
      ]
     },
     "execution_count": 2,
     "metadata": {},
     "output_type": "execute_result"
    }
   ],
   "source": [
    "df = pd.read_csv('/home/hawliet/Documents/Data-science-project/data/cars/cars_preprocessed_undrop.csv', sep='\\t', encoding='utf-8')\n",
    "df.head()"
   ]
  },
  {
   "cell_type": "code",
   "execution_count": 3,
   "metadata": {},
   "outputs": [],
   "source": [
    "num_cols = ['length', 'height', 'width', 'weight', 'weightTotal', 'emissionsCO2', 'numberOfAxles',\n",
    "            'numberOfDoors', 'numberOfForwardGears', 'seatingCapacity', 'cargoVolume', 'roofLoad', \n",
    "            'accelerationTime', 'fuelCapacity', 'fuelConsumption', 'speed', 'payload', 'trailerWeight', \n",
    "            'vEengineDisplacement', 'vEenginePower', 'torque']\n",
    "df[num_cols] = df[num_cols].fillna(0)\n",
    "\n",
    "cat_cols = []\n",
    "for col in df.columns:\n",
    "    if not (col in num_cols):\n",
    "        cat_cols.append(col)"
   ]
  },
  {
   "cell_type": "code",
   "execution_count": 4,
   "metadata": {},
   "outputs": [],
   "source": [
    "categorical_transformer = Pipeline(steps=[\n",
    "    ('imputer', SimpleImputer(missing_values=np.nan, strategy='most_frequent')),\n",
    "    ('onehot', OneHotEncoder(handle_unknown='ignore'))])\n",
    "\n",
    "column_trans = ColumnTransformer([('nums', SimpleImputer(missing_values=np.nan, strategy='mean'), num_cols)])\n",
    "# ('cats', categorical_transformer, cat_cols)\n",
    "\n",
    "preprocess_pipeline = Pipeline(steps=[\n",
    "    ('colsTransformer', column_trans),\n",
    "    ('stdScaler', StandardScaler())])\n",
    "\n",
    "X = preprocess_pipeline.fit_transform(df[num_cols])"
   ]
  },
  {
   "cell_type": "code",
   "execution_count": 5,
   "metadata": {},
   "outputs": [],
   "source": [
    "si = SimpleImputer(strategy='mean')\n",
    "y = si.fit_transform(df.price.values.reshape(-1, 1))"
   ]
  },
  {
   "cell_type": "code",
   "execution_count": 6,
   "metadata": {},
   "outputs": [
    {
     "data": {
      "text/plain": [
       "((84174, 21), (84174, 1))"
      ]
     },
     "execution_count": 6,
     "metadata": {},
     "output_type": "execute_result"
    }
   ],
   "source": [
    "X.shape, y.shape"
   ]
  },
  {
   "cell_type": "code",
   "execution_count": 7,
   "metadata": {},
   "outputs": [],
   "source": [
    "X_train, X_test, y_train, y_test = train_test_split(X, y, test_size=0.9)"
   ]
  },
  {
   "cell_type": "code",
   "execution_count": 8,
   "metadata": {},
   "outputs": [
    {
     "data": {
      "text/plain": [
       "(8417, 21)"
      ]
     },
     "execution_count": 8,
     "metadata": {},
     "output_type": "execute_result"
    }
   ],
   "source": [
    "X_train.shape"
   ]
  },
  {
   "cell_type": "code",
   "execution_count": 1,
   "metadata": {},
   "outputs": [
    {
     "ename": "NameError",
     "evalue": "name 'XGBClassifier' is not defined",
     "output_type": "error",
     "traceback": [
      "\u001b[0;31m---------------------------------------------------------------------------\u001b[0m",
      "\u001b[0;31mNameError\u001b[0m                                 Traceback (most recent call last)",
      "\u001b[0;32m<ipython-input-1-cfd93a5c1ec6>\u001b[0m in \u001b[0;36m<module>\u001b[0;34m\u001b[0m\n\u001b[0;32m----> 1\u001b[0;31m \u001b[0mmodel\u001b[0m \u001b[0;34m=\u001b[0m \u001b[0mXGBClassifier\u001b[0m\u001b[0;34m(\u001b[0m\u001b[0;34m)\u001b[0m\u001b[0;34m\u001b[0m\u001b[0;34m\u001b[0m\u001b[0m\n\u001b[0m\u001b[1;32m      2\u001b[0m \u001b[0mmodel\u001b[0m\u001b[0;34m.\u001b[0m\u001b[0mfit\u001b[0m\u001b[0;34m(\u001b[0m\u001b[0mX\u001b[0m\u001b[0;34m,\u001b[0m \u001b[0my\u001b[0m\u001b[0;34m)\u001b[0m\u001b[0;34m\u001b[0m\u001b[0;34m\u001b[0m\u001b[0m\n",
      "\u001b[0;31mNameError\u001b[0m: name 'XGBClassifier' is not defined"
     ]
    }
   ],
   "source": [
    "model = XGBClassifier()\n",
    "model.fit(X, y)"
   ]
  }
 ],
 "metadata": {
  "kernelspec": {
   "display_name": "Python 3",
   "language": "python",
   "name": "python3"
  },
  "language_info": {
   "codemirror_mode": {
    "name": "ipython",
    "version": 3
   },
   "file_extension": ".py",
   "mimetype": "text/x-python",
   "name": "python",
   "nbconvert_exporter": "python",
   "pygments_lexer": "ipython3",
   "version": "3.7.4"
  }
 },
 "nbformat": 4,
 "nbformat_minor": 4
}
