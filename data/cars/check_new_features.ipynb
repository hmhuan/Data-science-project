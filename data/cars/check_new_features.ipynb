{
 "cells": [
  {
   "cell_type": "code",
   "execution_count": 1,
   "metadata": {},
   "outputs": [],
   "source": [
    "%matplotlib inline\n",
    "import matplotlib.pyplot as plt\n",
    "import seaborn as sns # seaborn là thư viện được xây trên matplotlib, giúp việc visualization đỡ khổ hơn\n",
    "import pandas as pd\n",
    "import numpy as np\n",
    "\n",
    "from sklearn.model_selection import train_test_split\n",
    "from sklearn.preprocessing import OneHotEncoder, StandardScaler\n",
    "from sklearn.impute import SimpleImputer\n",
    "from sklearn.base import BaseEstimator, TransformerMixin\n",
    "from sklearn.pipeline import Pipeline, make_pipeline\n",
    "from sklearn.compose import ColumnTransformer, make_column_transformer\n",
    "from sklearn.neural_network import MLPClassifier, MLPRegressor\n",
    "from sklearn.ensemble import RandomForestRegressor"
   ]
  },
  {
   "cell_type": "markdown",
   "metadata": {
    "toc-hr-collapsed": false
   },
   "source": [
    "# Tiền xử lý dữ liệu"
   ]
  },
  {
   "cell_type": "code",
   "execution_count": 95,
   "metadata": {},
   "outputs": [
    {
     "data": {
      "text/html": [
       "<div>\n",
       "<style scoped>\n",
       "    .dataframe tbody tr th:only-of-type {\n",
       "        vertical-align: middle;\n",
       "    }\n",
       "\n",
       "    .dataframe tbody tr th {\n",
       "        vertical-align: top;\n",
       "    }\n",
       "\n",
       "    .dataframe thead th {\n",
       "        text-align: right;\n",
       "    }\n",
       "</style>\n",
       "<table border=\"1\" class=\"dataframe\">\n",
       "  <thead>\n",
       "    <tr style=\"text-align: right;\">\n",
       "      <th></th>\n",
       "      <th>url</th>\n",
       "      <th>name</th>\n",
       "      <th>model</th>\n",
       "      <th>brand</th>\n",
       "      <th>price</th>\n",
       "      <th>eLabel</th>\n",
       "      <th>bodyType</th>\n",
       "      <th>length</th>\n",
       "      <th>height</th>\n",
       "      <th>width</th>\n",
       "      <th>...</th>\n",
       "      <th>fuelCapacity</th>\n",
       "      <th>fuelConsumption</th>\n",
       "      <th>speed</th>\n",
       "      <th>payload</th>\n",
       "      <th>trailerWeight</th>\n",
       "      <th>vEengineType</th>\n",
       "      <th>vEfuelType</th>\n",
       "      <th>vEengineDisplacement</th>\n",
       "      <th>vEenginePower</th>\n",
       "      <th>torque</th>\n",
       "    </tr>\n",
       "  </thead>\n",
       "  <tbody>\n",
       "    <tr>\n",
       "      <td>0</td>\n",
       "      <td>http://www.cars-data.com//en/mitsubishi-pajero...</td>\n",
       "      <td>Mitsubishi Pajero Pinin Long Body 1.8 GL</td>\n",
       "      <td>Mitsubishi Pajero Pinin Long Body</td>\n",
       "      <td>Mitsubishi</td>\n",
       "      <td>23.745</td>\n",
       "      <td>NaN</td>\n",
       "      <td>suv/crossover</td>\n",
       "      <td>4035.0</td>\n",
       "      <td>1700.0</td>\n",
       "      <td>1695.0</td>\n",
       "      <td>...</td>\n",
       "      <td>53.0</td>\n",
       "      <td>9.3</td>\n",
       "      <td>155.0</td>\n",
       "      <td>525.0</td>\n",
       "      <td>1500.0</td>\n",
       "      <td>dohc</td>\n",
       "      <td>petrol</td>\n",
       "      <td>1834.0</td>\n",
       "      <td>84.0</td>\n",
       "      <td>160.0</td>\n",
       "    </tr>\n",
       "    <tr>\n",
       "      <td>1</td>\n",
       "      <td>http://www.cars-data.com//en/mercedes-e-500-pr...</td>\n",
       "      <td>Mercedes E 500 Prestige</td>\n",
       "      <td>Mercedes-Benz E-class</td>\n",
       "      <td>Mercedes</td>\n",
       "      <td>107.050</td>\n",
       "      <td>G</td>\n",
       "      <td>sedan</td>\n",
       "      <td>4879.0</td>\n",
       "      <td>1474.0</td>\n",
       "      <td>1854.0</td>\n",
       "      <td>...</td>\n",
       "      <td>80.0</td>\n",
       "      <td>8.9</td>\n",
       "      <td>250.0</td>\n",
       "      <td>655.0</td>\n",
       "      <td>2100.0</td>\n",
       "      <td>dohc</td>\n",
       "      <td>petrol</td>\n",
       "      <td>4663.0</td>\n",
       "      <td>300.0</td>\n",
       "      <td>600.0</td>\n",
       "    </tr>\n",
       "  </tbody>\n",
       "</table>\n",
       "<p>2 rows × 34 columns</p>\n",
       "</div>"
      ],
      "text/plain": [
       "                                                 url  \\\n",
       "0  http://www.cars-data.com//en/mitsubishi-pajero...   \n",
       "1  http://www.cars-data.com//en/mercedes-e-500-pr...   \n",
       "\n",
       "                                       name  \\\n",
       "0  Mitsubishi Pajero Pinin Long Body 1.8 GL   \n",
       "1                   Mercedes E 500 Prestige   \n",
       "\n",
       "                               model       brand    price eLabel  \\\n",
       "0  Mitsubishi Pajero Pinin Long Body  Mitsubishi   23.745    NaN   \n",
       "1              Mercedes-Benz E-class    Mercedes  107.050      G   \n",
       "\n",
       "        bodyType  length  height   width  ...  fuelCapacity  fuelConsumption  \\\n",
       "0  suv/crossover  4035.0  1700.0  1695.0  ...          53.0              9.3   \n",
       "1          sedan  4879.0  1474.0  1854.0  ...          80.0              8.9   \n",
       "\n",
       "   speed  payload trailerWeight  vEengineType  vEfuelType  \\\n",
       "0  155.0    525.0        1500.0          dohc      petrol   \n",
       "1  250.0    655.0        2100.0          dohc      petrol   \n",
       "\n",
       "   vEengineDisplacement  vEenginePower torque  \n",
       "0                1834.0           84.0  160.0  \n",
       "1                4663.0          300.0  600.0  \n",
       "\n",
       "[2 rows x 34 columns]"
      ]
     },
     "execution_count": 95,
     "metadata": {},
     "output_type": "execute_result"
    }
   ],
   "source": [
    "train_df = pd.read_csv('/home/hawliet/Documents/Data-science-project/data/cars/train_data.csv', sep='\\t', encoding='utf-8')\n",
    "train_df.head(2)"
   ]
  },
  {
   "cell_type": "code",
   "execution_count": 96,
   "metadata": {},
   "outputs": [],
   "source": [
    "df = train_df.copy()"
   ]
  },
  {
   "cell_type": "code",
   "execution_count": 97,
   "metadata": {},
   "outputs": [],
   "source": [
    "df = df[df['price'].isnull() == False]"
   ]
  },
  {
   "cell_type": "code",
   "execution_count": 100,
   "metadata": {},
   "outputs": [],
   "source": [
    "class ColAdderDropper(BaseEstimator, TransformerMixin):\n",
    "    def __init__(self):\n",
    "        # TODO\n",
    "        self.dropped_cols = ['url', 'name', 'model', 'weightTotal', 'fuelType', 'vehicleTransmission', 'modelDate']\n",
    "    def fit(self, X_df, y=None):\n",
    "        return self\n",
    "    def transform(self, X_df, y=None):\n",
    "        df = X_df.copy()\n",
    "        df.drop(self.dropped_cols, axis=1, inplace=True)\n",
    "        return df"
   ]
  },
  {
   "cell_type": "markdown",
   "metadata": {},
   "source": [
    "### Multilabel Ecoding"
   ]
  },
  {
   "cell_type": "code",
   "execution_count": 176,
   "metadata": {},
   "outputs": [],
   "source": [
    "class MultilabelEcoding(BaseEstimator, TransformerMixin):\n",
    "    def __init__(self, col_name):\n",
    "        self.col_name = col_name\n",
    "        self.type_list = set()\n",
    "    def fit(self, X_df, y=None):\n",
    "        types_sr = X_df[self.col_name].str.replace('[^\\w]', ' ').str.split()\n",
    "        types_sr.reset_index(inplace=True, drop=True)\n",
    "        for i in range(types_sr.shape[0]):\n",
    "            if type(types_sr[i]) is list:\n",
    "                self.type_list.add(types_sr[i][0])\n",
    "        self.type_list = list(self.type_list)\n",
    "        return self\n",
    "    def transform(self, X_df, y=None):\n",
    "        transformed_df = X_df.copy()\n",
    "        for i in range(len(self.type_list)):\n",
    "            transformed_df[self.col_name + '_' + self.type_list[i]] = transformed_df[self.col_name].apply(lambda x: 1 if ((type(x) is str) and (self.type_list[i] in x)) else 0)\n",
    "        transformed_df = transformed_df.drop(self.col_name, axis=1)\n",
    "        return transformed_df"
   ]
  },
  {
   "cell_type": "code",
   "execution_count": 102,
   "metadata": {},
   "outputs": [
    {
     "data": {
      "text/plain": [
       "Index(['url', 'name', 'model', 'brand', 'price', 'eLabel', 'bodyType',\n",
       "       'length', 'height', 'width', 'weight', 'weightTotal', 'emissionsCO2',\n",
       "       'modelDate', 'fuelType', 'numberOfAxles', 'numberOfDoors',\n",
       "       'numberOfForwardGears', 'seatingCapacity', 'vehicleTransmission',\n",
       "       'cargoVolume', 'roofLoad', 'accelerationTime',\n",
       "       'driveWheelConfiguration', 'fuelCapacity', 'fuelConsumption', 'speed',\n",
       "       'payload', 'trailerWeight', 'vEengineType', 'vEfuelType',\n",
       "       'vEengineDisplacement', 'vEenginePower', 'torque'],\n",
       "      dtype='object')"
      ]
     },
     "execution_count": 102,
     "metadata": {},
     "output_type": "execute_result"
    }
   ],
   "source": [
    "df.columns"
   ]
  },
  {
   "cell_type": "markdown",
   "metadata": {},
   "source": [
    "### Trước tiên thử loại bỏ hết các dòng có chứa giá trị null"
   ]
  },
  {
   "cell_type": "code",
   "execution_count": 104,
   "metadata": {},
   "outputs": [
    {
     "data": {
      "text/plain": [
       "75590"
      ]
     },
     "execution_count": 104,
     "metadata": {},
     "output_type": "execute_result"
    }
   ],
   "source": [
    "len(df.index)"
   ]
  },
  {
   "cell_type": "code",
   "execution_count": 105,
   "metadata": {},
   "outputs": [],
   "source": [
    "y = df['price']\n",
    "X = df.drop(['price'], axis = 1)"
   ]
  },
  {
   "cell_type": "code",
   "execution_count": 177,
   "metadata": {},
   "outputs": [],
   "source": [
    "# origin copy\n",
    "X_ori = X.copy()\n",
    "y_ori = y.copy()"
   ]
  },
  {
   "cell_type": "code",
   "execution_count": 107,
   "metadata": {},
   "outputs": [
    {
     "data": {
      "text/plain": [
       "(75590, 75590)"
      ]
     },
     "execution_count": 107,
     "metadata": {},
     "output_type": "execute_result"
    }
   ],
   "source": [
    "len(X), len(y)"
   ]
  },
  {
   "cell_type": "code",
   "execution_count": 183,
   "metadata": {},
   "outputs": [],
   "source": [
    "train_X, val_X, train_y, val_y = train_test_split(X_ori, y_ori, test_size=0.2, random_state=0)"
   ]
  },
  {
   "cell_type": "code",
   "execution_count": 179,
   "metadata": {},
   "outputs": [
    {
     "data": {
      "text/plain": [
       "(60472, 15118)"
      ]
     },
     "execution_count": 179,
     "metadata": {},
     "output_type": "execute_result"
    }
   ],
   "source": [
    "len(train_X), len(val_X)"
   ]
  },
  {
   "cell_type": "markdown",
   "metadata": {},
   "source": [
    "### Tạo pipeline"
   ]
  },
  {
   "cell_type": "code",
   "execution_count": 180,
   "metadata": {},
   "outputs": [
    {
     "data": {
      "text/plain": [
       "Index(['url', 'name', 'model', 'brand', 'eLabel', 'bodyType', 'length',\n",
       "       'height', 'width', 'weight', 'weightTotal', 'emissionsCO2', 'modelDate',\n",
       "       'fuelType', 'numberOfAxles', 'numberOfDoors', 'numberOfForwardGears',\n",
       "       'seatingCapacity', 'vehicleTransmission', 'cargoVolume', 'roofLoad',\n",
       "       'accelerationTime', 'driveWheelConfiguration', 'fuelCapacity',\n",
       "       'fuelConsumption', 'speed', 'payload', 'trailerWeight', 'vEengineType',\n",
       "       'vEfuelType', 'vEengineDisplacement', 'vEenginePower', 'torque'],\n",
       "      dtype='object')"
      ]
     },
     "execution_count": 180,
     "metadata": {},
     "output_type": "execute_result"
    }
   ],
   "source": [
    "train_X.columns"
   ]
  },
  {
   "cell_type": "code",
   "execution_count": 184,
   "metadata": {},
   "outputs": [],
   "source": [
    "col_adderdropper = ColAdderDropper()"
   ]
  },
  {
   "cell_type": "code",
   "execution_count": 185,
   "metadata": {},
   "outputs": [],
   "source": [
    "col_adderdropper.dropped_cols;"
   ]
  },
  {
   "cell_type": "code",
   "execution_count": 186,
   "metadata": {},
   "outputs": [],
   "source": [
    "cat_cols, num_cols = [], []\n",
    "cat_multi = ['vEfuelType', 'driveWheelConfiguration']\n",
    "for col in X_.columns:\n",
    "    if not col in col_adderdropper.dropped_cols:\n",
    "        if (X_[col].dtype == 'O'):\n",
    "            cat_cols.append(col)\n",
    "        else:\n",
    "            num_cols.append(col)"
   ]
  },
  {
   "cell_type": "code",
   "execution_count": 187,
   "metadata": {},
   "outputs": [],
   "source": [
    "cat_cols = ['brand',\n",
    " 'eLabel',\n",
    " 'bodyType',\n",
    " 'vEengineType']"
   ]
  },
  {
   "cell_type": "code",
   "execution_count": 188,
   "metadata": {},
   "outputs": [
    {
     "data": {
      "text/plain": [
       "(20, 4)"
      ]
     },
     "execution_count": 188,
     "metadata": {},
     "output_type": "execute_result"
    }
   ],
   "source": [
    "len(num_cols), len(cat_cols)"
   ]
  },
  {
   "cell_type": "code",
   "execution_count": 64,
   "metadata": {},
   "outputs": [
    {
     "data": {
      "text/plain": [
       "(['brand', 'eLabel', 'bodyType', 'vEengineType'],\n",
       " ['length',\n",
       "  'height',\n",
       "  'width',\n",
       "  'weight',\n",
       "  'emissionsCO2',\n",
       "  'numberOfAxles',\n",
       "  'numberOfDoors',\n",
       "  'numberOfForwardGears',\n",
       "  'seatingCapacity',\n",
       "  'cargoVolume',\n",
       "  'roofLoad',\n",
       "  'accelerationTime',\n",
       "  'fuelCapacity',\n",
       "  'fuelConsumption',\n",
       "  'speed',\n",
       "  'payload',\n",
       "  'trailerWeight',\n",
       "  'vEengineDisplacement',\n",
       "  'vEenginePower',\n",
       "  'torque'])"
      ]
     },
     "execution_count": 64,
     "metadata": {},
     "output_type": "execute_result"
    }
   ],
   "source": [
    "cat_cols, num_cols"
   ]
  },
  {
   "cell_type": "markdown",
   "metadata": {},
   "source": [
    "### pipeline cho preprocessing"
   ]
  },
  {
   "cell_type": "code",
   "execution_count": 189,
   "metadata": {},
   "outputs": [],
   "source": [
    "imp_mean = SimpleImputer(strategy='mean') \n",
    "imp_mode = SimpleImputer(strategy='most_frequent')\n",
    "vEfuelType_encoder = MultilabelEcoding('vEfuelType')\n",
    "driveWheelConfig_encoder = MultilabelEcoding('driveWheelConfiguration')\n",
    "\n",
    "encoding = OneHotEncoder(handle_unknown='ignore', sparse=False)\n",
    "\n",
    "categorical_transformer = make_pipeline(imp_mode, encoding)\n",
    "\n",
    "colTransform = ColumnTransformer(transformers=[('numerical', imp_mean, num_cols),\\\n",
    "                                               ('categorical', categorical_transformer, cat_cols),\n",
    "                                               ('vEfuelType', vEfuelType_encoder, ['vEfuelType']),\n",
    "                                               ('driveWheelConfig', driveWheelConfig_encoder, ['driveWheelConfiguration'])])\n",
    "colNormalize = StandardScaler()\n",
    "\n",
    "preprocessing = make_pipeline(col_adderdropper, colTransform, colNormalize)"
   ]
  },
  {
   "cell_type": "markdown",
   "metadata": {},
   "source": [
    "### train và validate model"
   ]
  },
  {
   "cell_type": "code",
   "execution_count": 190,
   "metadata": {},
   "outputs": [],
   "source": [
    "def train_and_val(full_pipeline, train_X, train_y, val_X, val_y):\n",
    "    full_pipeline.fit(train_X, train_y);\n",
    "    pred_y = full_pipeline.predict(val_X)\n",
    "    train_score = full_pipeline.score(train_X, train_y)\n",
    "    val_score = full_pipeline.score(val_X, val_y)\n",
    "    print(train_score, val_score)\n",
    "    print(\"MSE =\", np.round(np.mean((pred_y - val_y) ** 2), 3))\n",
    "    print(\"MAE =\", np.round(np.mean(np.abs(pred_y - val_y)), 3))"
   ]
  },
  {
   "cell_type": "markdown",
   "metadata": {},
   "source": [
    "### full pipeline với MLPRegressor"
   ]
  },
  {
   "cell_type": "code",
   "execution_count": null,
   "metadata": {},
   "outputs": [
    {
     "name": "stdout",
     "output_type": "stream",
     "text": [
      "Iteration 1, loss = 611177225.45849490\n",
      "Iteration 2, loss = 82953885.32473096\n",
      "Iteration 3, loss = 65685546.51044609\n",
      "Iteration 4, loss = 58141175.41203404\n",
      "Iteration 5, loss = 52506070.76057746\n",
      "Iteration 6, loss = 48026809.82781999\n",
      "Iteration 7, loss = 45067448.80102903\n",
      "Iteration 8, loss = 42459547.57111611\n",
      "Iteration 9, loss = 41246627.89373754\n",
      "Iteration 10, loss = 40141282.85729135\n",
      "Iteration 11, loss = 39103918.31839111\n",
      "Iteration 12, loss = 38545996.56468870\n",
      "Iteration 13, loss = 38102645.35426016\n",
      "Iteration 14, loss = 37507211.22685609\n",
      "Iteration 15, loss = 36694001.50624350\n",
      "Iteration 16, loss = 36547041.32437725\n",
      "Iteration 17, loss = 35912484.35526033\n",
      "Iteration 18, loss = 35419207.25827975\n",
      "Iteration 19, loss = 35380361.08927415\n",
      "Iteration 20, loss = 34797482.06670790\n",
      "Iteration 21, loss = 34112206.61028389\n",
      "Iteration 22, loss = 33879442.29378086\n",
      "Iteration 23, loss = 33539395.03991899\n",
      "Iteration 24, loss = 33177113.86587960\n",
      "Iteration 25, loss = 32776253.08614397\n",
      "Iteration 26, loss = 32415420.01380571\n",
      "Iteration 27, loss = 32645013.99771047\n",
      "Iteration 28, loss = 32051484.03397762\n",
      "Iteration 29, loss = 31861540.10210759\n",
      "Iteration 30, loss = 31742338.04178051\n",
      "Iteration 31, loss = 31239895.67128130\n",
      "Iteration 32, loss = 30753436.24917575\n",
      "Iteration 33, loss = 30513468.51259350\n",
      "Iteration 34, loss = 30518327.90965087\n",
      "Iteration 35, loss = 30026349.81292301\n",
      "Iteration 36, loss = 29666069.89998210\n",
      "Iteration 37, loss = 29724702.40730571\n",
      "Iteration 38, loss = 29364856.84765375\n",
      "Iteration 39, loss = 29023360.07300908\n",
      "Iteration 40, loss = 28981296.77464453\n",
      "Iteration 41, loss = 28919221.13105506\n",
      "Iteration 42, loss = 28403056.84263422\n",
      "Iteration 43, loss = 28233060.64183665\n",
      "Iteration 44, loss = 28440399.04921884\n",
      "Iteration 45, loss = 28073129.46066670\n",
      "Iteration 46, loss = 27604680.79325170\n",
      "Iteration 47, loss = 27247295.43621059\n",
      "Iteration 48, loss = 27175553.94445518\n",
      "Iteration 49, loss = 27129743.37538177\n",
      "Iteration 50, loss = 26866684.49937009\n",
      "Iteration 51, loss = 26563211.58892996\n",
      "Iteration 52, loss = 26370761.39510852\n",
      "Iteration 53, loss = 26369761.72907948\n",
      "Iteration 54, loss = 26138875.57301867\n",
      "Iteration 55, loss = 25879291.58508404\n",
      "Iteration 56, loss = 25973486.60481663\n",
      "Iteration 57, loss = 25811639.12744189\n",
      "Iteration 58, loss = 25529794.26911262\n",
      "Iteration 59, loss = 25427409.91357717\n",
      "Iteration 60, loss = 25099856.82557415\n",
      "Iteration 61, loss = 24882425.37048247\n",
      "Iteration 62, loss = 24778179.05080774\n",
      "Iteration 63, loss = 24943974.17888556\n",
      "Iteration 64, loss = 24811574.35977169\n",
      "Iteration 65, loss = 24761890.41175277\n",
      "Iteration 66, loss = 24553607.36747551\n",
      "Iteration 67, loss = 24033194.36189414\n",
      "Iteration 68, loss = 24062609.34686014\n",
      "Iteration 69, loss = 24048581.38732185\n",
      "Iteration 70, loss = 23852525.13692171\n",
      "Iteration 71, loss = 23678298.73031173\n",
      "Iteration 72, loss = 23661169.93979770\n",
      "Iteration 73, loss = 23851884.21906095\n",
      "Iteration 74, loss = 23590453.76663665\n",
      "Iteration 75, loss = 23354683.14637049\n",
      "Iteration 76, loss = 23336866.34672165\n",
      "Iteration 77, loss = 22982351.05295390\n",
      "Iteration 78, loss = 22987836.56558936\n",
      "Iteration 79, loss = 23137505.36268239\n",
      "Iteration 80, loss = 22822130.25272495\n",
      "Iteration 81, loss = 22772584.75213523\n",
      "Iteration 82, loss = 22830365.76767150\n",
      "Iteration 83, loss = 22421046.09646408\n",
      "Iteration 84, loss = 22592863.00408976\n",
      "Iteration 85, loss = 22184669.28251120\n",
      "Iteration 86, loss = 21960111.80397047\n",
      "Iteration 87, loss = 22044597.32137370\n",
      "Iteration 88, loss = 22193020.84787233\n",
      "Iteration 89, loss = 21722862.39606322\n",
      "Iteration 90, loss = 21505900.83120828\n",
      "Iteration 91, loss = 21700836.06976275\n",
      "Iteration 92, loss = 21491106.38040555\n",
      "Iteration 93, loss = 21231729.92126111\n",
      "Iteration 94, loss = 21236196.88122111\n",
      "Iteration 95, loss = 21167697.32671694\n",
      "Iteration 96, loss = 21163742.65113527\n",
      "Iteration 97, loss = 20872775.93813788\n",
      "Iteration 98, loss = 20641754.75010005\n",
      "Iteration 99, loss = 20771937.48938400\n",
      "Iteration 100, loss = 20531668.87419065\n",
      "Iteration 101, loss = 20468740.09116845\n",
      "Iteration 102, loss = 20455035.45043027\n",
      "Iteration 103, loss = 20252469.65762723\n",
      "Iteration 104, loss = 20019002.80878436\n",
      "Iteration 105, loss = 19883284.71339428\n",
      "Iteration 106, loss = 20104960.09830729\n",
      "Iteration 107, loss = 19797870.27061558\n",
      "Iteration 108, loss = 19825440.08872829\n",
      "Iteration 109, loss = 19824444.74469554\n",
      "Iteration 110, loss = 19553088.34435164\n",
      "Iteration 111, loss = 19776932.44007531\n",
      "Iteration 112, loss = 19499099.66308361\n",
      "Iteration 113, loss = 19247432.12072898\n",
      "Iteration 114, loss = 19520432.03948954\n",
      "Iteration 115, loss = 19086785.11455680\n",
      "Iteration 116, loss = 19174727.58392290\n",
      "Iteration 117, loss = 19016699.17244447\n",
      "Iteration 118, loss = 19070511.89587162\n",
      "Iteration 119, loss = 18936035.75678874\n",
      "Iteration 120, loss = 18764837.21889072\n",
      "Iteration 121, loss = 18587459.22538799\n",
      "Iteration 122, loss = 18511282.74456696\n",
      "Iteration 123, loss = 18964528.05604802\n",
      "Iteration 124, loss = 18646309.19804833\n",
      "Iteration 125, loss = 19027226.35795484\n",
      "Iteration 126, loss = 18381489.88058477\n",
      "Iteration 127, loss = 18137255.29490966\n",
      "Iteration 128, loss = 18412760.65361365\n",
      "Iteration 129, loss = 18068109.20135737\n",
      "Iteration 130, loss = 18228318.80488571\n",
      "Iteration 131, loss = 18208709.99870795\n",
      "Iteration 132, loss = 18108322.50523193\n",
      "Iteration 133, loss = 17827991.83502938\n",
      "Iteration 134, loss = 17618195.33815452\n"
     ]
    }
   ],
   "source": [
    "mlpregressor = MLPRegressor(hidden_layer_sizes=(32, 64, 64, 32,), solver='adam', learning_rate='adaptive', random_state=0, max_iter=500, verbose=1)\n",
    "\n",
    "full_pipeline = make_pipeline(preprocessing, mlpregressor)\n",
    "\n",
    "train_and_val(full_pipeline, train_X, train_y*1000, val_X, val_y*1000)"
   ]
  },
  {
   "cell_type": "markdown",
   "metadata": {},
   "source": [
    "### full pipeline với RandomForestRegressor"
   ]
  },
  {
   "cell_type": "code",
   "execution_count": 81,
   "metadata": {},
   "outputs": [
    {
     "name": "stderr",
     "output_type": "stream",
     "text": [
      "[Parallel(n_jobs=1)]: Using backend SequentialBackend with 1 concurrent workers.\n",
      "[Parallel(n_jobs=1)]: Done 512 out of 512 | elapsed: 14.7min finished\n",
      "[Parallel(n_jobs=1)]: Using backend SequentialBackend with 1 concurrent workers.\n",
      "[Parallel(n_jobs=1)]: Done 512 out of 512 | elapsed:   14.7s finished\n",
      "[Parallel(n_jobs=1)]: Using backend SequentialBackend with 1 concurrent workers.\n",
      "[Parallel(n_jobs=1)]: Done 512 out of 512 | elapsed:   11.8s finished\n",
      "[Parallel(n_jobs=1)]: Using backend SequentialBackend with 1 concurrent workers.\n",
      "[Parallel(n_jobs=1)]: Done 512 out of 512 | elapsed:    3.2s finished\n"
     ]
    },
    {
     "name": "stdout",
     "output_type": "stream",
     "text": [
      "0.992041403636497 0.9764326316382476\n",
      "MSE = 21.352\n",
      "MAE = 2.446\n"
     ]
    }
   ],
   "source": [
    "rfregressor = RandomForestRegressor(n_estimators=512, random_state=0, verbose=1)\n",
    "full_pipeline = make_pipeline(preprocessing, rfregressor)\n",
    "train_and_val(full_pipeline, train_X, train_y, val_X, val_y)"
   ]
  },
  {
   "cell_type": "markdown",
   "metadata": {},
   "source": [
    "### Chọn hyper-parameter tùy vào regressor"
   ]
  },
  {
   "cell_type": "code",
   "execution_count": 89,
   "metadata": {},
   "outputs": [
    {
     "data": {
      "text/plain": [
       "'Finish!'"
      ]
     },
     "execution_count": 89,
     "metadata": {},
     "output_type": "execute_result"
    }
   ],
   "source": [
    "train_scores = []\n",
    "val_scores = []\n",
    "alphas = [0.1, 1, 10, 100, 1000]\n",
    "best_val_score = -float('inf'); best_alpha = None;\n",
    "for alpha in alphas:\n",
    "    full_pipeline.set_params(mlpregressor__alpha=alpha)\n",
    "    full_pipeline.fit(train_X, train_y)\n",
    "    full_pipeline.predict(val_X)\n",
    "    train_score = full_pipeline.score(train_X, train_y)\n",
    "    val_score = full_pipeline.score(val_X, val_y)\n",
    "    train_scores.append(train_score)\n",
    "    val_scores.append(val_score)\n",
    "    if best_val_score < val_score:\n",
    "        best_val_score = val_score\n",
    "        best_alpha = alpha\n",
    "'Finish!'"
   ]
  },
  {
   "cell_type": "markdown",
   "metadata": {},
   "source": [
    "### Test"
   ]
  },
  {
   "cell_type": "code",
   "execution_count": 82,
   "metadata": {},
   "outputs": [
    {
     "name": "stderr",
     "output_type": "stream",
     "text": [
      "[Parallel(n_jobs=1)]: Using backend SequentialBackend with 1 concurrent workers.\n",
      "[Parallel(n_jobs=1)]: Done 512 out of 512 | elapsed:    2.1s finished\n"
     ]
    }
   ],
   "source": [
    "#full_pipeline.set_params(mlpregressor__alpha=best_alpha)\n",
    "pred_y = full_pipeline.predict(test_X)"
   ]
  },
  {
   "cell_type": "code",
   "execution_count": 83,
   "metadata": {},
   "outputs": [
    {
     "data": {
      "text/plain": [
       "array([84.87904136, 19.15797231, 21.40738565, ..., 21.98797525,\n",
       "       24.22413128, 34.17408183])"
      ]
     },
     "execution_count": 83,
     "metadata": {},
     "output_type": "execute_result"
    }
   ],
   "source": [
    "pred_y"
   ]
  },
  {
   "cell_type": "code",
   "execution_count": 84,
   "metadata": {},
   "outputs": [
    {
     "data": {
      "text/plain": [
       "array([89.697, 17.93 , 23.25 , ..., 23.195, 22.89 , 38.89 ])"
      ]
     },
     "execution_count": 84,
     "metadata": {},
     "output_type": "execute_result"
    }
   ],
   "source": [
    "np.array(test_y)"
   ]
  },
  {
   "cell_type": "code",
   "execution_count": 85,
   "metadata": {},
   "outputs": [
    {
     "data": {
      "text/plain": [
       "2.48961187763616"
      ]
     },
     "execution_count": 85,
     "metadata": {},
     "output_type": "execute_result"
    }
   ],
   "source": [
    "np.mean(np.abs(pred_y - test_y))"
   ]
  },
  {
   "cell_type": "code",
   "execution_count": null,
   "metadata": {},
   "outputs": [],
   "source": []
  }
 ],
 "metadata": {
  "kernelspec": {
   "display_name": "Python 3",
   "language": "python",
   "name": "python3"
  },
  "language_info": {
   "codemirror_mode": {
    "name": "ipython",
    "version": 3
   },
   "file_extension": ".py",
   "mimetype": "text/x-python",
   "name": "python",
   "nbconvert_exporter": "python",
   "pygments_lexer": "ipython3",
   "version": "3.7.4"
  }
 },
 "nbformat": 4,
 "nbformat_minor": 4
}
