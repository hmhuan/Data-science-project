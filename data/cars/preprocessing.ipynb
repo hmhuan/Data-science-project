{
 "cells": [
  {
   "cell_type": "code",
   "execution_count": 1,
   "metadata": {},
   "outputs": [],
   "source": [
    "%matplotlib inline\n",
    "import matplotlib.pyplot as plt\n",
    "import seaborn as sns # seaborn là thư viện được xây trên matplotlib, giúp việc visualization đỡ khổ hơn\n",
    "import pandas as pd\n",
    "import numpy as np\n",
    "\n",
    "from sklearn.model_selection import train_test_split\n",
    "from sklearn.preprocessing import OneHotEncoder, StandardScaler\n",
    "from sklearn.impute import SimpleImputer\n",
    "from sklearn.base import BaseEstimator, TransformerMixin\n",
    "from sklearn.pipeline import Pipeline, make_pipeline\n",
    "from sklearn.compose import ColumnTransformer, make_column_transformer\n",
    "from sklearn.neural_network import MLPClassifier, MLPRegressor\n",
    "from sklearn.ensemble import RandomForestRegressor"
   ]
  },
  {
   "cell_type": "code",
   "execution_count": 2,
   "metadata": {},
   "outputs": [],
   "source": [
    "cars_df = pd.read_csv(\"cars_dataset.csv\", sep = \"\\t\", encoding='utf-8')"
   ]
  },
  {
   "cell_type": "markdown",
   "metadata": {
    "toc-hr-collapsed": true
   },
   "source": [
    "# Chuyển đổi dữ liệu từ dữ liệu thô"
   ]
  },
  {
   "cell_type": "code",
   "execution_count": 4,
   "metadata": {},
   "outputs": [],
   "source": [
    "num_cols = ['price', 'length', 'height', 'width', 'weight', 'weightTotal', 'emissionsCO2', 'numberOfAxles',\n",
    "            'numberOfDoors', 'numberOfForwardGears', 'seatingCapacity', 'cargoVolume', 'roofLoad', \n",
    "            'accelerationTime', 'fuelCapacity', 'fuelConsumption', 'speed', 'payload', 'trailerWeight', \n",
    "            'vEengineDisplacement', 'vEenginePower', 'torque']"
   ]
  },
  {
   "cell_type": "code",
   "execution_count": 5,
   "metadata": {},
   "outputs": [],
   "source": [
    "cat_cols = []\n",
    "for col in cars_df.columns:\n",
    "    if not (col in num_cols):\n",
    "        cat_cols.append(col)"
   ]
  },
  {
   "cell_type": "code",
   "execution_count": 6,
   "metadata": {},
   "outputs": [
    {
     "name": "stdout",
     "output_type": "stream",
     "text": [
      "22 12\n",
      "['price', 'length', 'height', 'width', 'weight', 'weightTotal', 'emissionsCO2', 'numberOfAxles', 'numberOfDoors', 'numberOfForwardGears', 'seatingCapacity', 'cargoVolume', 'roofLoad', 'accelerationTime', 'fuelCapacity', 'fuelConsumption', 'speed', 'payload', 'trailerWeight', 'vEengineDisplacement', 'vEenginePower', 'torque'] \n",
      " ['url', 'name', 'model', 'brand', 'eLabel', 'bodyType', 'modelDate', 'fuelType', 'vehicleTransmission', 'driveWheelConfiguration', 'vEengineType', 'vEfuelType']\n"
     ]
    }
   ],
   "source": [
    "print(len(num_cols), len(cat_cols))\n",
    "print(num_cols, '\\n', cat_cols)"
   ]
  },
  {
   "cell_type": "markdown",
   "metadata": {},
   "source": [
    "### Xử lý các cột dữ liệu số"
   ]
  },
  {
   "cell_type": "code",
   "execution_count": 7,
   "metadata": {},
   "outputs": [],
   "source": [
    "# copy ra df để xư lý\n",
    "df = cars_df.copy()"
   ]
  },
  {
   "cell_type": "code",
   "execution_count": 8,
   "metadata": {},
   "outputs": [],
   "source": [
    "# Loại bỏ các cột không liên quan\n",
    "#df.drop(['url', 'name', 'model'], axis=1, inplace=True)"
   ]
  },
  {
   "cell_type": "code",
   "execution_count": 10,
   "metadata": {},
   "outputs": [],
   "source": [
    "# fucntion convert cac thuoc tinh khac\n",
    "def cvtFloat(x):\n",
    "    if type(x) == str:\n",
    "        temp = x.replace(',', '.').split()[0]\n",
    "    else:\n",
    "        temp = x\n",
    "    val = None\n",
    "    try:\n",
    "        val = float(temp)\n",
    "    except ValueError:\n",
    "        return val\n",
    "    return val"
   ]
  },
  {
   "cell_type": "code",
   "execution_count": 11,
   "metadata": {},
   "outputs": [
    {
     "name": "stdout",
     "output_type": "stream",
     "text": [
      "price\n",
      "length\n",
      "height\n",
      "width\n",
      "weight\n",
      "weightTotal\n",
      "emissionsCO2\n",
      "numberOfAxles\n",
      "numberOfDoors\n",
      "numberOfForwardGears\n",
      "seatingCapacity\n",
      "roofLoad\n",
      "accelerationTime\n",
      "fuelCapacity\n",
      "fuelConsumption\n",
      "speed\n",
      "payload\n",
      "trailerWeight\n",
      "vEengineDisplacement\n",
      "vEenginePower\n",
      "torque\n"
     ]
    }
   ],
   "source": [
    "for el in num_cols:\n",
    "    if el != 'cargoVolume':\n",
    "        print(el)\n",
    "        df[el] = df[el].apply(cvtFloat)"
   ]
  },
  {
   "cell_type": "code",
   "execution_count": 12,
   "metadata": {},
   "outputs": [],
   "source": [
    "# Hàm xử lý riêng cho cargoVolume\n",
    "def cvtFloat_cargoVolume(x):\n",
    "    temp = x.split()[0]\n",
    "    temp = temp.replace('-', ' ')\n",
    "    temp = temp.split()\n",
    "    if len(temp) > 0:\n",
    "        temp = temp[-1]\n",
    "    else:\n",
    "        temp = x\n",
    "    val = None\n",
    "    try:\n",
    "        val = float(temp)\n",
    "    except ValueError:\n",
    "        return val\n",
    "    return val"
   ]
  },
  {
   "cell_type": "code",
   "execution_count": 13,
   "metadata": {},
   "outputs": [],
   "source": [
    "df['cargoVolume'] = df['cargoVolume'].apply(cvtFloat_cargoVolume)"
   ]
  },
  {
   "cell_type": "code",
   "execution_count": 72,
   "metadata": {},
   "outputs": [
    {
     "name": "stdout",
     "output_type": "stream",
     "text": [
      "<class 'pandas.core.frame.DataFrame'>\n",
      "RangeIndex: 84174 entries, 0 to 84173\n",
      "Data columns (total 22 columns):\n",
      "price                   83989 non-null float64\n",
      "length                  84119 non-null float64\n",
      "height                  84066 non-null float64\n",
      "width                   84111 non-null float64\n",
      "weight                  83795 non-null float64\n",
      "weightTotal             83795 non-null float64\n",
      "emissionsCO2            68428 non-null float64\n",
      "numberOfAxles           84174 non-null float64\n",
      "numberOfDoors           84174 non-null float64\n",
      "numberOfForwardGears    82037 non-null float64\n",
      "seatingCapacity         82228 non-null float64\n",
      "cargoVolume             82921 non-null float64\n",
      "roofLoad                70042 non-null float64\n",
      "accelerationTime        81646 non-null float64\n",
      "fuelCapacity            83966 non-null float64\n",
      "fuelConsumption         82853 non-null float64\n",
      "speed                   83242 non-null float64\n",
      "payload                 82819 non-null float64\n",
      "trailerWeight           79262 non-null float64\n",
      "vEengineDisplacement    83950 non-null float64\n",
      "vEenginePower           84174 non-null float64\n",
      "torque                  83896 non-null float64\n",
      "dtypes: float64(22)\n",
      "memory usage: 14.1 MB\n"
     ]
    }
   ],
   "source": [
    "df[num_cols].info()"
   ]
  },
  {
   "cell_type": "markdown",
   "metadata": {},
   "source": [
    "### Xử lý các cột dữ liệu categorize"
   ]
  },
  {
   "cell_type": "code",
   "execution_count": 19,
   "metadata": {},
   "outputs": [
    {
     "name": "stdout",
     "output_type": "stream",
     "text": [
      "url 84173\n",
      "name 44332\n",
      "model 1678\n",
      "brand 89\n",
      "eLabel 9\n",
      "bodyType 11\n",
      "modelDate 52\n",
      "fuelType 11\n",
      "vehicleTransmission 1\n",
      "driveWheelConfiguration 6\n",
      "vEengineType 4\n",
      "vEfuelType 11\n"
     ]
    }
   ],
   "source": [
    "for cat in cat_cols[:]:\n",
    "    print(cat, len(cars_df[cat].unique()))"
   ]
  },
  {
   "cell_type": "markdown",
   "metadata": {},
   "source": [
    "* Có thể loại bỏ cột vehicleTransmission vì chỉ có 1 giá trị, không có ý nghĩa trong việc học.\n",
    "* Cột fuelType và vEfuelType là giống nhau (do quá trình crawl nhóm không để ý), có thể drop cột fuelType.\n",
    "* Các cột url, name, model có nhiều ý nghĩa, nên có thể loại bỏ.\n",
    "* brand có thể xét vì có tới 89 giá trị (có khả năng sẽ có ý nghĩa với các brand có giá trị cao), modelDate cần xem xét.\n",
    "\n",
    "**=> Số cột còn lại là: eLabel (9), bodyType (11), driveWheelConfiguration (6), vEengineType (4), vEfuelType (11).**"
   ]
  },
  {
   "cell_type": "code",
   "execution_count": 76,
   "metadata": {},
   "outputs": [
    {
     "data": {
      "text/plain": [
       "array(['1999', '2018', '2019', '2015', '2016', '2017', '1991', '1995',\n",
       "       '1984', '2009', '2012', '2011', '2010', '1979', '1980', '2001',\n",
       "       '2004', '2003', '2002', '1994', '1981', '2007', '2008', '1983',\n",
       "       '1982', '2005', '2006', '1998', '1993', '1990', '1985', '1986',\n",
       "       '2013', '2014', '1997', None, '1996', '1988', '1992', '1987',\n",
       "       '1989', '2000', '1976', '1978', '1977', '1972', '1975', '1974',\n",
       "       '1973', '1970', '1971', '1969'], dtype=object)"
      ]
     },
     "execution_count": 76,
     "metadata": {},
     "output_type": "execute_result"
    }
   ],
   "source": [
    "# chuẩn hóa cột modelDate\n",
    "def norm_modelDate(x):\n",
    "    if (x == 0):\n",
    "        return None\n",
    "    else:\n",
    "        return str(x)\n",
    "df['modelDate'] = df['modelDate'].apply(norm_modelDate)\n",
    "df['modelDate'].unique()"
   ]
  },
  {
   "cell_type": "code",
   "execution_count": 39,
   "metadata": {},
   "outputs": [
    {
     "data": {
      "text/plain": [
       "array(['front+rear', 'front', 'rear', 'voor', 'voor+achter', 'achter'],\n",
       "      dtype=object)"
      ]
     },
     "execution_count": 39,
     "metadata": {},
     "output_type": "execute_result"
    }
   ],
   "source": [
    "df['driveWheelConfiguration'].unique()"
   ]
  },
  {
   "cell_type": "code",
   "execution_count": 48,
   "metadata": {},
   "outputs": [],
   "source": [
    "#df[['price', 'driveWheelConfiguration']].groupby('driveWheelConfiguration').mean()"
   ]
  },
  {
   "cell_type": "code",
   "execution_count": 35,
   "metadata": {},
   "outputs": [
    {
     "data": {
      "text/plain": [
       "array(['hatchback', 'stationwagon', 'suv/crossover', 'sedan', 'cabriolet',\n",
       "       'coupe', 'mpv', 'van', nan, 'bus', 'pick-up'], dtype=object)"
      ]
     },
     "execution_count": 35,
     "metadata": {},
     "output_type": "execute_result"
    }
   ],
   "source": [
    "df['bodyType'].unique()"
   ]
  },
  {
   "cell_type": "code",
   "execution_count": 37,
   "metadata": {},
   "outputs": [
    {
     "data": {
      "text/plain": [
       "array(['G', 'C', 'E', 'D', 'B', 'F', 'N.A.', '-', 'A'], dtype=object)"
      ]
     },
     "execution_count": 37,
     "metadata": {},
     "output_type": "execute_result"
    }
   ],
   "source": [
    "df['eLabel'].unique()"
   ]
  },
  {
   "cell_type": "code",
   "execution_count": 50,
   "metadata": {},
   "outputs": [
    {
     "data": {
      "text/plain": [
       "array(['dohc', 'ohc', 'ohv', nan], dtype=object)"
      ]
     },
     "execution_count": 50,
     "metadata": {},
     "output_type": "execute_result"
    }
   ],
   "source": [
    "df['vEengineType'].unique()"
   ]
  },
  {
   "cell_type": "code",
   "execution_count": 52,
   "metadata": {},
   "outputs": [
    {
     "data": {
      "text/plain": [
       "array(['petrol', 'diesel', 'LPG', 'benzine', 'bio-ethanol', 'natural gas',\n",
       "       nan, 'LPG / petrol', 'aardgas', 'aardgas / petrol',\n",
       "       'petrol / bio-ethanol'], dtype=object)"
      ]
     },
     "execution_count": 52,
     "metadata": {},
     "output_type": "execute_result"
    }
   ],
   "source": [
    "df['vEfuelType'].unique()"
   ]
  },
  {
   "cell_type": "markdown",
   "metadata": {},
   "source": [
    "* Cột driveWheelConfiguration không có giá trị lỗi ('N.A.', '-', ...)\n",
    "* Các cột bodyType, vEengineType, vEfuelType có chứa nan (đã được xử lý).\n",
    "* Cột eLabel có chứa các giá trị lỗi, cần được chuẩn hóa. Sau khi chuẩn hóa, dòng thiếu dữ liệu quá nhiều nên cần loại bỏ khi qua bước xử lý."
   ]
  },
  {
   "cell_type": "code",
   "execution_count": 67,
   "metadata": {},
   "outputs": [],
   "source": [
    "def norm_eLabel(x):\n",
    "    if (x == 'N.A.' or x == '-'):\n",
    "        return None\n",
    "    else:\n",
    "        return x"
   ]
  },
  {
   "cell_type": "code",
   "execution_count": 68,
   "metadata": {},
   "outputs": [],
   "source": [
    "df['eLabel'] = df['eLabel'].apply(norm_eLabel)"
   ]
  },
  {
   "cell_type": "code",
   "execution_count": 77,
   "metadata": {},
   "outputs": [
    {
     "name": "stdout",
     "output_type": "stream",
     "text": [
      "<class 'pandas.core.frame.DataFrame'>\n",
      "RangeIndex: 84174 entries, 0 to 84173\n",
      "Data columns (total 12 columns):\n",
      "url                        84174 non-null object\n",
      "name                       84174 non-null object\n",
      "model                      84174 non-null object\n",
      "brand                      84174 non-null object\n",
      "eLabel                     68428 non-null object\n",
      "bodyType                   83418 non-null object\n",
      "modelDate                  83418 non-null object\n",
      "fuelType                   83999 non-null object\n",
      "vehicleTransmission        84174 non-null object\n",
      "driveWheelConfiguration    84174 non-null object\n",
      "vEengineType               84001 non-null object\n",
      "vEfuelType                 83999 non-null object\n",
      "dtypes: object(12)\n",
      "memory usage: 7.7+ MB\n"
     ]
    }
   ],
   "source": [
    "df[cat_cols].info()"
   ]
  },
  {
   "cell_type": "markdown",
   "metadata": {},
   "source": [
    "### Lưu ra file để tiện xử lý"
   ]
  },
  {
   "cell_type": "code",
   "execution_count": 78,
   "metadata": {},
   "outputs": [],
   "source": [
    "df.to_csv(\"cars_preprocessed_undrop.csv\", sep = \"\\t\", index=False, encoding='utf-8')"
   ]
  },
  {
   "cell_type": "markdown",
   "metadata": {
    "toc-hr-collapsed": false
   },
   "source": [
    "# Tiền xử lý dữ liệu"
   ]
  },
  {
   "cell_type": "code",
   "execution_count": 4,
   "metadata": {},
   "outputs": [],
   "source": [
    "df_ori = pd.read_csv(\"cars_preprocessed_undrop.csv\", sep = \"\\t\", encoding='utf-8')"
   ]
  },
  {
   "cell_type": "code",
   "execution_count": 3,
   "metadata": {},
   "outputs": [],
   "source": [
    "# Tách các dong null ra để làm tập test với model sau này so với thực tế.\n",
    "# df_ori[df['price'].isnull()].to_csv('test_without_price.csv', sep = \"\\t\", index=False, encoding='utf-8')"
   ]
  },
  {
   "cell_type": "code",
   "execution_count": 5,
   "metadata": {},
   "outputs": [],
   "source": [
    "df = df_ori.copy()"
   ]
  },
  {
   "cell_type": "code",
   "execution_count": 6,
   "metadata": {},
   "outputs": [],
   "source": [
    "df = df[df['price'].isnull() == False]"
   ]
  },
  {
   "cell_type": "code",
   "execution_count": 9,
   "metadata": {},
   "outputs": [
    {
     "data": {
      "text/plain": [
       "[1, 2, 3, 2, 3]"
      ]
     },
     "execution_count": 9,
     "metadata": {},
     "output_type": "execute_result"
    }
   ],
   "source": [
    "a = [1, 2, 3]\n",
    "a.extend([2, 3])\n",
    "a"
   ]
  },
  {
   "cell_type": "code",
   "execution_count": 300,
   "metadata": {},
   "outputs": [],
   "source": [
    "# Bỏ các cột đã đề cập ở trên\n",
    "# df.drop(['url', 'name', 'model', 'weightTotal', 'fuelType', 'vehicleTransmission', 'modelDate'], axis = 1,inplace = True)"
   ]
  },
  {
   "cell_type": "code",
   "execution_count": 10,
   "metadata": {},
   "outputs": [],
   "source": [
    "class ColAdderDropper(BaseEstimator, TransformerMixin):\n",
    "    def __init__(self):\n",
    "        # TODO\n",
    "        self.dropped_cols = ['url', 'name', 'model', 'weightTotal', 'fuelType', 'vehicleTransmission', 'modelDate']\n",
    "    def fit(self, X_df, y=None):\n",
    "        return self\n",
    "    def transform(self, X_df, y=None):\n",
    "        df = X_df.copy()\n",
    "        df.drop(self.dropped_cols, axis=1, inplace=True)\n",
    "        return df"
   ]
  },
  {
   "cell_type": "code",
   "execution_count": 68,
   "metadata": {},
   "outputs": [
    {
     "data": {
      "text/plain": [
       "Index(['url', 'name', 'model', 'brand', 'price', 'eLabel', 'bodyType',\n",
       "       'length', 'height', 'width', 'weight', 'weightTotal', 'emissionsCO2',\n",
       "       'modelDate', 'fuelType', 'numberOfAxles', 'numberOfDoors',\n",
       "       'numberOfForwardGears', 'seatingCapacity', 'vehicleTransmission',\n",
       "       'cargoVolume', 'roofLoad', 'accelerationTime',\n",
       "       'driveWheelConfiguration', 'fuelCapacity', 'fuelConsumption', 'speed',\n",
       "       'payload', 'trailerWeight', 'vEengineType', 'vEfuelType',\n",
       "       'vEengineDisplacement', 'vEenginePower', 'torque'],\n",
       "      dtype='object')"
      ]
     },
     "execution_count": 68,
     "metadata": {},
     "output_type": "execute_result"
    }
   ],
   "source": [
    "df.columns"
   ]
  },
  {
   "cell_type": "markdown",
   "metadata": {},
   "source": [
    "### Trước tiên thử loại bỏ hết các dòng có chứa giá trị null"
   ]
  },
  {
   "cell_type": "code",
   "execution_count": 302,
   "metadata": {},
   "outputs": [],
   "source": [
    "#for col in df.columns:\n",
    "#    df = df[df[col].isnull() == False]"
   ]
  },
  {
   "cell_type": "code",
   "execution_count": 12,
   "metadata": {},
   "outputs": [
    {
     "data": {
      "text/plain": [
       "83989"
      ]
     },
     "execution_count": 12,
     "metadata": {},
     "output_type": "execute_result"
    }
   ],
   "source": [
    "len(df.index)"
   ]
  },
  {
   "cell_type": "code",
   "execution_count": 13,
   "metadata": {},
   "outputs": [],
   "source": [
    "y = df['price']\n",
    "X = df.drop(['price'], axis = 1)"
   ]
  },
  {
   "cell_type": "code",
   "execution_count": 14,
   "metadata": {},
   "outputs": [],
   "source": [
    "# origin copy\n",
    "X_ori = X.copy()\n",
    "y_ori = y.copy()"
   ]
  },
  {
   "cell_type": "code",
   "execution_count": 15,
   "metadata": {},
   "outputs": [
    {
     "data": {
      "text/plain": [
       "(83989, 83989)"
      ]
     },
     "execution_count": 15,
     "metadata": {},
     "output_type": "execute_result"
    }
   ],
   "source": [
    "len(X), len(y)"
   ]
  },
  {
   "cell_type": "code",
   "execution_count": 16,
   "metadata": {},
   "outputs": [],
   "source": [
    "# Tách tập train + val và tập test theo tỉ lệ 90%:10%\n",
    "X_, test_X, y_, test_y = train_test_split(X_ori, y_ori, test_size=0.1, random_state=0)"
   ]
  },
  {
   "cell_type": "code",
   "execution_count": 308,
   "metadata": {},
   "outputs": [],
   "source": [
    "#df_test = test_X.copy()\n",
    "#df_test['price'] = test_y.copy().round(3)"
   ]
  },
  {
   "cell_type": "code",
   "execution_count": 19,
   "metadata": {},
   "outputs": [],
   "source": [
    "train_X, val_X, train_y, val_y = train_test_split(X_, y_, test_size=0.2, random_state=0)"
   ]
  },
  {
   "cell_type": "code",
   "execution_count": 20,
   "metadata": {},
   "outputs": [
    {
     "data": {
      "text/plain": [
       "(60472, 15118)"
      ]
     },
     "execution_count": 20,
     "metadata": {},
     "output_type": "execute_result"
    }
   ],
   "source": [
    "len(train_X), len(val_X)"
   ]
  },
  {
   "cell_type": "markdown",
   "metadata": {},
   "source": [
    "### Tạo pipeline"
   ]
  },
  {
   "cell_type": "code",
   "execution_count": 23,
   "metadata": {},
   "outputs": [],
   "source": [
    "col_adderdropper = ColAdderDropper()"
   ]
  },
  {
   "cell_type": "code",
   "execution_count": 33,
   "metadata": {},
   "outputs": [],
   "source": [
    "col_adderdropper.dropped_cols;"
   ]
  },
  {
   "cell_type": "code",
   "execution_count": 29,
   "metadata": {},
   "outputs": [],
   "source": [
    "cat_cols, num_cols = [], []\n",
    "for col in X_.columns:\n",
    "    if not col in col_adderdropper.dropped_cols:\n",
    "        if (X_[col].dtype == 'O'):\n",
    "            cat_cols.append(col)\n",
    "        else:\n",
    "            num_cols.append(col)"
   ]
  },
  {
   "cell_type": "code",
   "execution_count": 30,
   "metadata": {},
   "outputs": [
    {
     "data": {
      "text/plain": [
       "(20, 6)"
      ]
     },
     "execution_count": 30,
     "metadata": {},
     "output_type": "execute_result"
    }
   ],
   "source": [
    "len(num_cols), len(cat_cols)"
   ]
  },
  {
   "cell_type": "code",
   "execution_count": 66,
   "metadata": {},
   "outputs": [
    {
     "data": {
      "text/plain": [
       "(['brand',\n",
       "  'eLabel',\n",
       "  'bodyType',\n",
       "  'driveWheelConfiguration',\n",
       "  'vEengineType',\n",
       "  'vEfuelType'],\n",
       " ['length',\n",
       "  'height',\n",
       "  'width',\n",
       "  'weight',\n",
       "  'emissionsCO2',\n",
       "  'numberOfAxles',\n",
       "  'numberOfDoors',\n",
       "  'numberOfForwardGears',\n",
       "  'seatingCapacity',\n",
       "  'cargoVolume',\n",
       "  'roofLoad',\n",
       "  'accelerationTime',\n",
       "  'fuelCapacity',\n",
       "  'fuelConsumption',\n",
       "  'speed',\n",
       "  'payload',\n",
       "  'trailerWeight',\n",
       "  'vEengineDisplacement',\n",
       "  'vEenginePower',\n",
       "  'torque'])"
      ]
     },
     "execution_count": 66,
     "metadata": {},
     "output_type": "execute_result"
    }
   ],
   "source": [
    "cat_cols, num_cols"
   ]
  },
  {
   "cell_type": "markdown",
   "metadata": {},
   "source": [
    "### pipeline cho preprocessing"
   ]
  },
  {
   "cell_type": "code",
   "execution_count": 40,
   "metadata": {},
   "outputs": [],
   "source": [
    "imp_mean = SimpleImputer(strategy='mean') \n",
    "imp_mode = SimpleImputer(strategy='most_frequent')\n",
    "\n",
    "encoding = OneHotEncoder(handle_unknown='ignore', sparse=False)\n",
    "\n",
    "categorical_transformer = make_pipeline(imp_mode, encoding)\n",
    "\n",
    "colTransform = ColumnTransformer(transformers=[('numerical', imp_mean, num_cols),\\\n",
    "                                               ('categorical', categorical_transformer, cat_cols)])\n",
    "colNormalize = StandardScaler()\n",
    "\n",
    "preprocessing = make_pipeline(col_adderdropper, colTransform, colNormalize)"
   ]
  },
  {
   "cell_type": "markdown",
   "metadata": {},
   "source": [
    "### train và validate model"
   ]
  },
  {
   "cell_type": "code",
   "execution_count": 41,
   "metadata": {},
   "outputs": [],
   "source": [
    "def train_and_val(full_pipeline, train_X, train_y, val_X, val_y):\n",
    "    full_pipeline.fit(train_X, train_y);\n",
    "    pred_y = full_pipeline.predict(val_X)\n",
    "    train_score = full_pipeline.score(train_X, train_y)\n",
    "    val_score = full_pipeline.score(val_X, val_y)\n",
    "    print(train_score, val_score)\n",
    "    print(\"MSE =\", np.round(np.mean((pred_y - val_y) ** 2), 3))\n",
    "    print(\"MAE =\", np.round(np.mean(np.abs(pred_y - val_y)), 3))"
   ]
  },
  {
   "cell_type": "markdown",
   "metadata": {},
   "source": [
    "### full pipeline với MLPRegressor"
   ]
  },
  {
   "cell_type": "code",
   "execution_count": 69,
   "metadata": {},
   "outputs": [
    {
     "name": "stdout",
     "output_type": "stream",
     "text": [
      "Iteration 1, loss = 229.44849337\n",
      "Iteration 2, loss = 59.49141069\n",
      "Iteration 3, loss = 47.17302827\n",
      "Iteration 4, loss = 41.31768226\n",
      "Iteration 5, loss = 39.28661956\n",
      "Iteration 6, loss = 37.10548543\n",
      "Iteration 7, loss = 34.65520703\n",
      "Iteration 8, loss = 33.56284655\n",
      "Iteration 9, loss = 31.55660596\n",
      "Iteration 10, loss = 30.40952277\n",
      "Iteration 11, loss = 29.87287085\n",
      "Iteration 12, loss = 30.29118029\n",
      "Iteration 13, loss = 28.12559662\n",
      "Iteration 14, loss = 28.19782518\n",
      "Iteration 15, loss = 26.08834241\n",
      "Iteration 16, loss = 24.83734456\n",
      "Iteration 17, loss = 24.72649574\n",
      "Iteration 18, loss = 24.33778683\n",
      "Iteration 19, loss = 23.68393142\n",
      "Iteration 20, loss = 21.55771609\n",
      "Iteration 21, loss = 22.66899942\n",
      "Iteration 22, loss = 20.66578082\n",
      "Iteration 23, loss = 20.33237498\n",
      "Iteration 24, loss = 20.21758749\n",
      "Iteration 25, loss = 18.82353425\n",
      "Iteration 26, loss = 18.53370885\n",
      "Iteration 27, loss = 18.81333674\n",
      "Iteration 28, loss = 17.93155389\n",
      "Iteration 29, loss = 17.93152126\n",
      "Iteration 30, loss = 16.95296120\n",
      "Iteration 31, loss = 16.77767216\n",
      "Iteration 32, loss = 15.97960477\n",
      "Iteration 33, loss = 15.33486150\n",
      "Iteration 34, loss = 14.45666602\n",
      "Iteration 35, loss = 15.30679536\n",
      "Iteration 36, loss = 14.36159827\n",
      "Iteration 37, loss = 14.39426498\n",
      "Iteration 38, loss = 15.63032041\n",
      "Iteration 39, loss = 14.84162671\n",
      "Iteration 40, loss = 13.48186450\n",
      "Iteration 41, loss = 13.54345474\n",
      "Iteration 42, loss = 13.65650462\n",
      "Iteration 43, loss = 13.88841989\n",
      "Iteration 44, loss = 13.94561754\n",
      "Iteration 45, loss = 12.93913237\n",
      "Iteration 46, loss = 13.36053247\n",
      "Iteration 47, loss = 12.24920255\n",
      "Iteration 48, loss = 12.04560726\n",
      "Iteration 49, loss = 13.03257234\n",
      "Iteration 50, loss = 12.46858573\n",
      "Iteration 51, loss = 12.88899595\n",
      "Iteration 52, loss = 12.86018991\n",
      "Iteration 53, loss = 14.20600922\n",
      "Iteration 54, loss = 12.76045983\n",
      "Iteration 55, loss = 11.33594620\n",
      "Iteration 56, loss = 11.55398362\n",
      "Iteration 57, loss = 11.32186041\n",
      "Iteration 58, loss = 11.62148747\n",
      "Iteration 59, loss = 11.38176317\n",
      "Iteration 60, loss = 11.41539135\n",
      "Iteration 61, loss = 12.03324583\n",
      "Iteration 62, loss = 12.19612315\n",
      "Iteration 63, loss = 12.20021281\n",
      "Iteration 64, loss = 11.18703520\n",
      "Iteration 65, loss = 11.17155103\n",
      "Iteration 66, loss = 10.94115387\n",
      "Iteration 67, loss = 11.16334256\n",
      "Iteration 68, loss = 10.41671673\n",
      "Iteration 69, loss = 11.17135694\n",
      "Iteration 70, loss = 12.04770686\n",
      "Iteration 71, loss = 10.89941916\n",
      "Iteration 72, loss = 11.11019782\n",
      "Iteration 73, loss = 10.68492140\n",
      "Iteration 74, loss = 11.33282890\n",
      "Iteration 75, loss = 11.46472875\n",
      "Iteration 76, loss = 10.85362740\n",
      "Iteration 77, loss = 10.22810765\n",
      "Iteration 78, loss = 10.61515601\n",
      "Iteration 79, loss = 10.66389070\n",
      "Iteration 80, loss = 11.37061898\n",
      "Iteration 81, loss = 10.87110257\n",
      "Iteration 82, loss = 10.94918140\n",
      "Iteration 83, loss = 10.93635079\n",
      "Iteration 84, loss = 10.36069706\n",
      "Iteration 85, loss = 9.92241059\n",
      "Iteration 86, loss = 11.49311695\n",
      "Iteration 87, loss = 10.09294694\n",
      "Iteration 88, loss = 9.85942157\n",
      "Iteration 89, loss = 9.98167134\n",
      "Iteration 90, loss = 10.05705646\n",
      "Iteration 91, loss = 10.27982968\n",
      "Iteration 92, loss = 10.36226599\n",
      "Iteration 93, loss = 10.53571078\n",
      "Iteration 94, loss = 9.66078983\n",
      "Iteration 95, loss = 9.67223660\n",
      "Iteration 96, loss = 9.71842492\n",
      "Iteration 97, loss = 9.57243091\n",
      "Iteration 98, loss = 9.87754044\n",
      "Iteration 99, loss = 9.61501794\n",
      "Iteration 100, loss = 9.77833882\n",
      "Iteration 101, loss = 11.04033365\n",
      "Iteration 102, loss = 10.24578829\n",
      "Iteration 103, loss = 9.97762738\n",
      "Iteration 104, loss = 9.20520748\n",
      "Iteration 105, loss = 10.38506253\n",
      "Iteration 106, loss = 9.15291985\n",
      "Iteration 107, loss = 9.64138428\n",
      "Iteration 108, loss = 9.55608215\n",
      "Iteration 109, loss = 9.27927758\n",
      "Iteration 110, loss = 9.22650789\n",
      "Iteration 111, loss = 9.81494816\n",
      "Iteration 112, loss = 10.91830293\n",
      "Iteration 113, loss = 9.16484710\n",
      "Iteration 114, loss = 9.29013446\n",
      "Iteration 115, loss = 8.91004454\n",
      "Iteration 116, loss = 9.14582105\n",
      "Iteration 117, loss = 9.80503116\n",
      "Iteration 118, loss = 9.21122942\n",
      "Iteration 119, loss = 9.14939862\n",
      "Iteration 120, loss = 8.98174962\n",
      "Iteration 121, loss = 9.39527871\n",
      "Iteration 122, loss = 9.36649573\n",
      "Iteration 123, loss = 9.19663820\n",
      "Iteration 124, loss = 9.15287577\n",
      "Iteration 125, loss = 9.65681336\n",
      "Iteration 126, loss = 9.66405251\n",
      "Training loss did not improve more than tol=0.000100 for 10 consecutive epochs. Stopping.\n",
      "0.9823155302651521 0.5955661086021972\n",
      "MSE = 366.424\n",
      "MAE = 2.912\n"
     ]
    }
   ],
   "source": [
    "mlpregressor = MLPRegressor(hidden_layer_sizes=(32, 64, 64, 32,), solver='adam', learning_rate='adaptive', random_state=0, max_iter=500, verbose=1)\n",
    "\n",
    "full_pipeline = make_pipeline(preprocessing, mlpregressor)\n",
    "\n",
    "train_and_val(full_pipeline, train_X, train_y, val_X, val_y)"
   ]
  },
  {
   "cell_type": "markdown",
   "metadata": {},
   "source": [
    "### full pipeline với RandomForestRegressor"
   ]
  },
  {
   "cell_type": "code",
   "execution_count": 81,
   "metadata": {},
   "outputs": [
    {
     "name": "stderr",
     "output_type": "stream",
     "text": [
      "[Parallel(n_jobs=1)]: Using backend SequentialBackend with 1 concurrent workers.\n",
      "[Parallel(n_jobs=1)]: Done 512 out of 512 | elapsed: 14.7min finished\n",
      "[Parallel(n_jobs=1)]: Using backend SequentialBackend with 1 concurrent workers.\n",
      "[Parallel(n_jobs=1)]: Done 512 out of 512 | elapsed:   14.7s finished\n",
      "[Parallel(n_jobs=1)]: Using backend SequentialBackend with 1 concurrent workers.\n",
      "[Parallel(n_jobs=1)]: Done 512 out of 512 | elapsed:   11.8s finished\n",
      "[Parallel(n_jobs=1)]: Using backend SequentialBackend with 1 concurrent workers.\n",
      "[Parallel(n_jobs=1)]: Done 512 out of 512 | elapsed:    3.2s finished\n"
     ]
    },
    {
     "name": "stdout",
     "output_type": "stream",
     "text": [
      "0.992041403636497 0.9764326316382476\n",
      "MSE = 21.352\n",
      "MAE = 2.446\n"
     ]
    }
   ],
   "source": [
    "rfregressor = RandomForestRegressor(n_estimators=512, random_state=0, verbose=1)\n",
    "full_pipeline = make_pipeline(preprocessing, rfregressor)\n",
    "train_and_val(full_pipeline, train_X, train_y, val_X, val_y)"
   ]
  },
  {
   "cell_type": "markdown",
   "metadata": {},
   "source": [
    "### Chọn hyper-parameter tùy vào regressor"
   ]
  },
  {
   "cell_type": "code",
   "execution_count": 89,
   "metadata": {},
   "outputs": [
    {
     "data": {
      "text/plain": [
       "'Finish!'"
      ]
     },
     "execution_count": 89,
     "metadata": {},
     "output_type": "execute_result"
    }
   ],
   "source": [
    "train_scores = []\n",
    "val_scores = []\n",
    "alphas = [0.1, 1, 10, 100, 1000]\n",
    "best_val_score = -float('inf'); best_alpha = None;\n",
    "for alpha in alphas:\n",
    "    full_pipeline.set_params(mlpregressor__alpha=alpha)\n",
    "    full_pipeline.fit(train_X, train_y)\n",
    "    full_pipeline.predict(val_X)\n",
    "    train_score = full_pipeline.score(train_X, train_y)\n",
    "    val_score = full_pipeline.score(val_X, val_y)\n",
    "    train_scores.append(train_score)\n",
    "    val_scores.append(val_score)\n",
    "    if best_val_score < val_score:\n",
    "        best_val_score = val_score\n",
    "        best_alpha = alpha\n",
    "'Finish!'"
   ]
  },
  {
   "cell_type": "markdown",
   "metadata": {},
   "source": [
    "### Test"
   ]
  },
  {
   "cell_type": "code",
   "execution_count": 82,
   "metadata": {},
   "outputs": [
    {
     "name": "stderr",
     "output_type": "stream",
     "text": [
      "[Parallel(n_jobs=1)]: Using backend SequentialBackend with 1 concurrent workers.\n",
      "[Parallel(n_jobs=1)]: Done 512 out of 512 | elapsed:    2.1s finished\n"
     ]
    }
   ],
   "source": [
    "#full_pipeline.set_params(mlpregressor__alpha=best_alpha)\n",
    "pred_y = full_pipeline.predict(test_X)"
   ]
  },
  {
   "cell_type": "code",
   "execution_count": 83,
   "metadata": {},
   "outputs": [
    {
     "data": {
      "text/plain": [
       "array([84.87904136, 19.15797231, 21.40738565, ..., 21.98797525,\n",
       "       24.22413128, 34.17408183])"
      ]
     },
     "execution_count": 83,
     "metadata": {},
     "output_type": "execute_result"
    }
   ],
   "source": [
    "pred_y"
   ]
  },
  {
   "cell_type": "code",
   "execution_count": 84,
   "metadata": {},
   "outputs": [
    {
     "data": {
      "text/plain": [
       "array([89.697, 17.93 , 23.25 , ..., 23.195, 22.89 , 38.89 ])"
      ]
     },
     "execution_count": 84,
     "metadata": {},
     "output_type": "execute_result"
    }
   ],
   "source": [
    "np.array(test_y)"
   ]
  },
  {
   "cell_type": "code",
   "execution_count": 85,
   "metadata": {},
   "outputs": [
    {
     "data": {
      "text/plain": [
       "2.48961187763616"
      ]
     },
     "execution_count": 85,
     "metadata": {},
     "output_type": "execute_result"
    }
   ],
   "source": [
    "np.mean(np.abs(pred_y - test_y))"
   ]
  },
  {
   "cell_type": "code",
   "execution_count": null,
   "metadata": {},
   "outputs": [],
   "source": []
  }
 ],
 "metadata": {
  "kernelspec": {
   "display_name": "Python 3",
   "language": "python",
   "name": "python3"
  },
  "language_info": {
   "codemirror_mode": {
    "name": "ipython",
    "version": 3
   },
   "file_extension": ".py",
   "mimetype": "text/x-python",
   "name": "python",
   "nbconvert_exporter": "python",
   "pygments_lexer": "ipython3",
   "version": "3.7.1"
  }
 },
 "nbformat": 4,
 "nbformat_minor": 4
}
